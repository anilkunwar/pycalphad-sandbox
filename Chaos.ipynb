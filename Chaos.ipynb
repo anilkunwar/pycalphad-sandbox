{
 "cells": [
  {
   "cell_type": "code",
   "execution_count": 65,
   "metadata": {
    "collapsed": false
   },
   "outputs": [],
   "source": [
    "import chaospy as cp\n",
    "import numpy as np\n",
    "\n",
    "distribution = cp.J(cp.Normal(-32429.6, 1000),\n",
    "                    cp.Normal(15219.2, 1000),\n",
    "                    cp.Normal(-16480.0, 1000),\n",
    "                    cp.Normal(-25013.3, 1000),\n",
    "                    cp.Normal(22600.0, 1000),\n",
    "                    cp.Normal(-40470.2, 1000),\n",
    "                    cp.Normal(104160.0, 1000),\n",
    "                    cp.Normal(14321.1, 1000),\n",
    "                    cp.Normal(-4923.18, 100),\n",
    "                    cp.Normal(-31626.6, 1000))\n",
    "samples = np.loadtxt('2017-08-13-231628-chain-trace.txt')[:,:-1]\n",
    "evals = np.loadtxt('2017-08-13-231628-prob.trace.txt')\n",
    "flt = np.nonzero(evals)\n",
    "samples = np.squeeze(samples[flt, :]).T\n",
    "evals = evals[flt]\n",
    "polynomial_expansion = cp.orth_ttr(3, distribution)\n",
    "foo_approx = cp.fit_regression(polynomial_expansion, samples, evals)"
   ]
  },
  {
   "cell_type": "code",
   "execution_count": 83,
   "metadata": {
    "collapsed": false
   },
   "outputs": [],
   "source": [
    "deviation = cp.Std(foo_approx, distribution)"
   ]
  },
  {
   "cell_type": "code",
   "execution_count": 84,
   "metadata": {
    "collapsed": false
   },
   "outputs": [
    {
     "data": {
      "text/plain": [
       "14413446992.388058"
      ]
     },
     "execution_count": 84,
     "metadata": {},
     "output_type": "execute_result"
    }
   ],
   "source": [
    "deviation"
   ]
  },
  {
   "cell_type": "code",
   "execution_count": null,
   "metadata": {
    "collapsed": true
   },
   "outputs": [],
   "source": []
  }
 ],
 "metadata": {
  "kernelspec": {
   "display_name": "Python 3",
   "language": "python",
   "name": "python3"
  },
  "language_info": {
   "codemirror_mode": {
    "name": "ipython",
    "version": 3
   },
   "file_extension": ".py",
   "mimetype": "text/x-python",
   "name": "python",
   "nbconvert_exporter": "python",
   "pygments_lexer": "ipython3",
   "version": "3.5.2"
  }
 },
 "nbformat": 4,
 "nbformat_minor": 2
}
