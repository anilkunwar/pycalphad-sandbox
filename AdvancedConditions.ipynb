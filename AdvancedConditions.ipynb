{
 "cells": [
  {
   "cell_type": "code",
   "execution_count": 1,
   "metadata": {},
   "outputs": [],
   "source": [
    "from pycalphad import Database, Model, variables as v"
   ]
  },
  {
   "cell_type": "code",
   "execution_count": 2,
   "metadata": {
    "scrolled": true
   },
   "outputs": [
    {
     "name": "stdout",
     "output_type": "stream",
     "text": [
      "Components: A B\n",
      "Phases: TEST [done]\n"
     ]
    },
    {
     "name": "stderr",
     "output_type": "stream",
     "text": [
      "/home/rotis/anaconda/envs/calphadpy3/lib/python3.5/site-packages/dask/base.py:835: UserWarning: The get= keyword has been deprecated. Please use the scheduler= keyword instead with the name of the desired scheduler like 'threads' or 'processes'\n",
      "  warnings.warn(\"The get= keyword has been deprecated. \"\n"
     ]
    },
    {
     "name": "stdout",
     "output_type": "stream",
     "text": [
      "('Redundant phase:', CompositionSet(TEST, [ 0.44444444  0.55555556], NP=1.0, GM=-5711.742028618652))\n",
      "Removing CompositionSet(TEST, [ 0.44444444  0.55555556], NP=nan, GM=-5711.742028618652)\n",
      "('cur_conds', OrderedDict([('MU_B', array(-1855.3270574019966)), ('N', array(1.0)), ('P', array(101325.0)), ('T', array(1000.0))]))\n",
      "('fixed_statevars', [('N', array(1.0)), ('P', array(101325.0)), ('T', array(1000.0))])\n",
      "(array([1], dtype=int32), array([-1855.3270574]))\n",
      "('prob.x0', array([  1.00000000e+00,   1.01325000e+05,   1.00000000e+03,\n",
      "         5.55555556e-01,   4.44444444e-01,   2.00000000e+00]))\n",
      "('x_in', array([  1.00000000e+00,   1.01325000e+05,   1.00000000e+03,\n",
      "         5.55555556e-01,   4.44444444e-01,   2.00000000e+00]))\n",
      "('total_obj', -9774.304450657339)\n",
      "('gradient', array([  0.00000000e+00,   0.00000000e+00,  -1.14234841e+01,\n",
      "         1.66290000e+04,   1.66290000e+04,  -4.88715223e+03]))\n",
      "('x_in', array([  1.00000001e+00,   1.01325000e+05,   1.00000000e+03,\n",
      "         5.55555556e-01,   4.44444444e-01,   2.00000000e+00]))\n",
      "('total_obj', -9774.304450657339)\n",
      "('x_in', array([  1.00000000e+00,   1.01325001e+05,   1.00000000e+03,\n",
      "         5.55555556e-01,   4.44444444e-01,   2.00000000e+00]))\n",
      "('total_obj', -9774.304450657339)\n",
      "('x_in', array([  1.00000000e+00,   1.01325000e+05,   1.00000001e+03,\n",
      "         5.55555556e-01,   4.44444444e-01,   2.00000000e+00]))\n",
      "('total_obj', -9774.30456489218)\n",
      "('x_in', array([  1.00000000e+00,   1.01325000e+05,   1.00000000e+03,\n",
      "         5.55555566e-01,   4.44444444e-01,   2.00000000e+00]))\n",
      "('total_obj', -9774.30428436734)\n",
      "('x_in', array([  1.00000000e+00,   1.01325000e+05,   1.00000000e+03,\n",
      "         5.55555556e-01,   4.44444454e-01,   2.00000000e+00]))\n",
      "('total_obj', -9774.30428436734)\n",
      "('x_in', array([  1.00000000e+00,   1.01325000e+05,   1.00000000e+03,\n",
      "         5.55555556e-01,   4.44444444e-01,   2.00000002e+00]))\n",
      "('total_obj', -9774.304548400383)\n",
      "('gradient', array([  0.00000000e+00,   0.00000000e+00,  -1.14234841e+01,\n",
      "         1.66290000e+04,   1.66290000e+04,  -4.88715223e+03]))\n",
      "('x_in', array([  1.00000000e+00,   1.01325000e+05,   1.00000000e+03,\n",
      "         5.55555556e-01,   4.44444444e-01,   2.00000000e+00]))\n",
      "('total_obj', -9774.304450657339)\n",
      "('x_in', array([  1.00000000e+00,   1.01325000e+05,   1.00000000e+03,\n",
      "         5.54287016e-01,   4.45712984e-01,   1.00000000e+00]))\n",
      "('total_obj', -4887.125136677398)\n",
      "('gradient', array([  0.00000000e+00,   0.00000000e+00,  -5.71406850e+00,\n",
      "         8.29546611e+03,   8.33817048e+03,  -4.88712514e+03]))\n",
      "('x_in', array([  1.00000000e+00,   1.01325000e+05,   1.00000000e+03,\n",
      "         5.54921223e-01,   4.45078777e-01,   1.00000000e+00]))\n",
      "('total_obj', -4887.145451183002)\n",
      "('gradient', array([  0.00000000e+00,   0.00000000e+00,  -5.71291215e+00,\n",
      "         8.30499431e+03,   8.32635163e+03,  -4.88714545e+03]))\n",
      "('x_in', array([  1.00000000e+00,   1.01325000e+05,   1.00000000e+03,\n",
      "         5.55555259e-01,   4.44444741e-01,   1.00000000e+00]))\n",
      "('total_obj', -4887.152225327191)\n",
      "('gradient', array([  0.00000000e+00,   0.00000000e+00,  -5.71174258e+00,\n",
      "         8.31449557e+03,   8.31450554e+03,  -4.88715223e+03]))\n",
      "('x_in', array([  1.00000000e+00,   1.01325000e+05,   1.00000000e+03,\n",
      "         5.55555556e-01,   4.44444444e-01,   1.00000000e+00]))\n",
      "('total_obj', -4887.1522253286685)\n",
      "('gradient', array([  0.00000000e+00,   0.00000000e+00,  -5.71174203e+00,\n",
      "         8.31450000e+03,   8.31450000e+03,  -4.88715223e+03]))\n",
      "('x_in', array([  1.00000000e+00,   1.01325000e+05,   1.00000000e+03,\n",
      "         5.55555551e-01,   4.44444449e-01,   1.00000000e+00]))\n",
      "('total_obj', -4887.152225328669)\n",
      "('gradient', array([  0.00000000e+00,   0.00000000e+00,  -5.71174204e+00,\n",
      "         8.31449993e+03,   8.31450009e+03,  -4.88715223e+03]))\n",
      "('x_in', array([  1.00000000e+00,   1.01325000e+05,   1.00000000e+03,\n",
      "         5.55555555e-01,   4.44444445e-01,   1.00000000e+00]))\n",
      "('total_obj', -4887.152225328669)\n",
      "('gradient', array([  0.00000000e+00,   0.00000000e+00,  -5.71174203e+00,\n",
      "         8.31450000e+03,   8.31450000e+03,  -4.88715223e+03]))\n",
      "Trying to improve poor solution\n",
      "('x_in', array([  1.00000000e+00,   1.01325000e+05,   1.00000000e+03,\n",
      "         5.55555555e-01,   4.44444445e-01,   1.00000000e+00]))\n",
      "('total_obj', -4887.152225328669)\n",
      "('gradient', array([  0.00000000e+00,   0.00000000e+00,  -5.71174203e+00,\n",
      "         8.31450000e+03,   8.31450000e+03,  -4.88715223e+03]))\n",
      "('x_in', array([  1.00000001e+00,   1.01325000e+05,   1.00000000e+03,\n",
      "         5.55555555e-01,   4.44444445e-01,   1.00000000e+00]))\n",
      "('total_obj', -4887.152225328669)\n",
      "('x_in', array([  1.00000000e+00,   1.01325001e+05,   1.00000000e+03,\n",
      "         5.55555555e-01,   4.44444445e-01,   1.00000000e+00]))\n",
      "('total_obj', -4887.152225328669)\n",
      "('x_in', array([  1.00000000e+00,   1.01325000e+05,   1.00000001e+03,\n",
      "         5.55555555e-01,   4.44444445e-01,   1.00000000e+00]))\n",
      "('total_obj', -4887.152282446088)\n",
      "('x_in', array([  1.00000000e+00,   1.01325000e+05,   1.00000000e+03,\n",
      "         5.55555565e-01,   4.44444445e-01,   1.00000000e+00]))\n",
      "('total_obj', -4887.152142183669)\n",
      "('x_in', array([  1.00000000e+00,   1.01325000e+05,   1.00000000e+03,\n",
      "         5.55555555e-01,   4.44444455e-01,   1.00000000e+00]))\n",
      "('total_obj', -4887.15214218367)\n",
      "('x_in', array([  1.00000000e+00,   1.01325000e+05,   1.00000000e+03,\n",
      "         5.55555555e-01,   4.44444445e-01,   1.00000001e+00]))\n",
      "('total_obj', -4887.152274200192)\n",
      "('gradient', array([  0.00000000e+00,   0.00000000e+00,  -5.71174203e+00,\n",
      "         8.31450000e+03,   8.31450000e+03,  -4.88715223e+03]))\n",
      "('gradient', array([  0.00000000e+00,   0.00000000e+00,  -5.71174203e+00,\n",
      "         8.31450000e+03,   8.31450000e+03,  -4.88715223e+03]))\n",
      "('x_in', array([  1.00000000e+00,   1.01325000e+05,   1.00000000e+03,\n",
      "         5.55555555e-01,   4.44444445e-01,   1.00000000e+00]))\n",
      "('total_obj', -4887.152225328669)\n",
      "('x_in', array([  1.00000000e+00,   1.01325000e+05,   1.00000000e+03,\n",
      "         5.54287035e-01,   4.45712965e-01,   1.00000000e+00]))\n",
      "('total_obj', -4887.125137494772)\n",
      "('x_in', array([  1.00000000e+00,   1.01325000e+05,   1.00000000e+03,\n",
      "         5.54287035e-01,   4.45712965e-01,   1.00000000e+00]))\n",
      "('total_obj', -4887.125137494772)\n",
      "('x_in', array([  1.00000000e+00,   1.01325000e+05,   1.00000000e+03,\n",
      "         5.54287035e-01,   4.45712965e-01,   1.00000000e+00]))\n",
      "('total_obj', -4887.125137494772)\n",
      "('x_in', array([  1.00000000e+00,   1.01325000e+05,   1.00000000e+03,\n",
      "         5.54287035e-01,   4.45712965e-01,   1.00000000e+00]))\n",
      "('total_obj', -4887.125137494772)\n",
      "('x_in', array([  1.00000000e+00,   1.01325000e+05,   1.00000000e+03,\n",
      "         5.54287035e-01,   4.45712965e-01,   1.00000000e+00]))\n",
      "('total_obj', -4887.125137494772)\n",
      "('x_in', array([  1.00000000e+00,   1.01325000e+05,   1.00000000e+03,\n",
      "         5.54921295e-01,   4.45078705e-01,   1.00000000e+00]))\n",
      "('total_obj', -4887.1454527302885)\n",
      "('x_in', array([  1.00000000e+00,   1.01325000e+05,   1.00000000e+03,\n",
      "         5.55238425e-01,   4.44761575e-01,   1.00000000e+00]))\n",
      "('total_obj', -4887.150532098237)\n",
      "('x_in', array([  1.00000000e+00,   1.01325000e+05,   1.00000000e+03,\n",
      "         5.55396990e-01,   4.44603010e-01,   1.00000000e+00]))\n",
      "('total_obj', -4887.151802010691)\n",
      "('x_in', array([  1.00000000e+00,   1.01325000e+05,   1.00000000e+03,\n",
      "         5.55476273e-01,   4.44523727e-01,   1.00000000e+00]))\n",
      "('total_obj', -4887.152119497754)\n",
      "('x_in', array([  1.00000000e+00,   1.01325000e+05,   1.00000000e+03,\n",
      "         5.55515914e-01,   4.44484086e-01,   1.00000000e+00]))\n",
      "('total_obj', -4887.152198870702)\n",
      "('x_in', array([  1.00000000e+00,   1.01325000e+05,   1.00000000e+03,\n",
      "         5.55535735e-01,   4.44464265e-01,   1.00000000e+00]))\n",
      "('total_obj', -4887.152218714116)\n",
      "('gradient', array([  0.00000000e+00,   0.00000000e+00,  -5.71177880e+00,\n",
      "         8.31420335e+03,   8.31487078e+03,  -4.88715222e+03]))\n",
      "('x_in', array([  1.00000000e+00,   1.01325000e+05,   1.00000000e+03,\n",
      "         4.04067520e-01,   5.95932480e-01,   1.00000000e+00]))\n",
      "('total_obj', -4503.532167602035)\n",
      "('x_in', array([  1.00000000e+00,   1.01325000e+05,   1.00000000e+03,\n",
      "         4.79801627e-01,   5.20198373e-01,   1.00000000e+00]))\n",
      "('total_obj', -4791.24806599674)\n",
      "('gradient', array([  0.00000000e+00,   0.00000000e+00,  -5.75638618e+00,\n",
      "         6.99972446e+03,   9.52717477e+03,  -4.79124807e+03]))\n",
      "('x_in', array([  1.00000000e+00,   1.01325000e+05,   1.00000000e+03,\n",
      "         5.02960184e-01,   4.97039816e-01,   1.00000000e+00]))\n",
      "('total_obj', -4840.855097694166)\n",
      "('gradient', array([  0.00000000e+00,   0.00000000e+00,  -5.76302652e+00,\n",
      "         7.44126262e+03,   9.19813873e+03,  -4.84085510e+03]))\n",
      "('x_in', array([  1.00000000e+00,   1.01325000e+05,   1.00000000e+03,\n",
      "         5.36683522e-01,   4.63316478e-01,   1.00000000e+00]))\n",
      "('total_obj', -4881.1711907784465)\n",
      "('gradient', array([  0.00000000e+00,   0.00000000e+00,  -5.74077479e+00,\n",
      "         8.02116953e+03,   8.65427990e+03,  -4.88117119e+03]))\n",
      "('x_in', array([  1.00000000e+00,   1.01325000e+05,   1.00000000e+03,\n",
      "         5.52933672e-01,   4.47066328e-01,   1.00000000e+00]))\n",
      "('total_obj', -4887.0365290878135)\n",
      "('gradient', array([  0.00000000e+00,   0.00000000e+00,  -5.71649078e+00,\n",
      "         8.27505205e+03,   8.36328941e+03,  -4.88703653e+03]))\n",
      "('x_in', array([  1.00000000e+00,   1.01325000e+05,   1.00000000e+03,\n",
      "         5.55276840e-01,   4.44723160e-01,   1.00000000e+00]))\n",
      "('total_obj', -4887.150917451665)\n",
      "('gradient', array([  0.00000000e+00,   0.00000000e+00,  -5.71225783e+00,\n",
      "         8.31032635e+03,   8.31971117e+03,  -4.88715092e+03]))\n",
      "('x_in', array([  1.00000000e+00,   1.01325000e+05,   1.00000000e+03,\n",
      "         5.55506383e-01,   4.44493617e-01,   1.00000000e+00]))\n",
      "('total_obj', -4887.152184618201)\n",
      "('gradient', array([  0.00000000e+00,   0.00000000e+00,  -5.71183322e+00,\n",
      "         8.31376400e+03,   8.31541981e+03,  -4.88715218e+03]))\n",
      "('x_in', array([  1.00000000e+00,   1.01325000e+05,   1.00000000e+03,\n",
      "         5.55545828e-01,   4.44454172e-01,   1.00000000e+00]))\n",
      "('total_obj', -4887.152223735602)\n",
      "('gradient', array([  0.00000000e+00,   0.00000000e+00,  -5.71176007e+00,\n",
      "         8.31435442e+03,   8.31468197e+03,  -4.88715222e+03]))\n",
      "('x_in', array([  1.00000000e+00,   1.01325000e+05,   1.00000000e+03,\n",
      "         5.55554647e-01,   4.44445353e-01,   1.00000000e+00]))\n",
      "('total_obj', -4887.152225314785)\n",
      "('gradient', array([  0.00000000e+00,   0.00000000e+00,  -5.71174371e+00,\n",
      "         8.31448641e+03,   8.31451699e+03,  -4.88715223e+03]))\n",
      "('x_in', array([  1.00000000e+00,   1.01325000e+05,   1.00000000e+03,\n",
      "         5.55555530e-01,   4.44444470e-01,   1.00000000e+00]))\n",
      "('total_obj', -4887.152225328658)\n",
      "('gradient', array([  0.00000000e+00,   0.00000000e+00,  -5.71174208e+00,\n",
      "         8.31449961e+03,   8.31450048e+03,  -4.88715223e+03]))\n",
      "('x_in', array([  1.00000000e+00,   1.01325000e+05,   1.00000000e+03,\n",
      "         5.55555555e-01,   4.44444445e-01,   1.00000000e+00]))\n",
      "('total_obj', -4887.152225328669)\n",
      "('gradient', array([  0.00000000e+00,   0.00000000e+00,  -5.71174203e+00,\n",
      "         8.31450000e+03,   8.31450000e+03,  -4.88715223e+03]))\n",
      "('x_in', array([  1.00000000e+00,   1.01325000e+05,   1.00000000e+03,\n",
      "         5.55555556e-01,   4.44444444e-01,   1.00000000e+00]))\n",
      "('total_obj', -4887.152225328669)\n",
      "('gradient', array([  0.00000000e+00,   0.00000000e+00,  -5.71174203e+00,\n",
      "         8.31450000e+03,   8.31450000e+03,  -4.88715223e+03]))\n",
      "('x_in', array([  1.00000000e+00,   1.01325000e+05,   1.00000000e+03,\n",
      "         5.55555556e-01,   4.44444444e-01,   1.00000000e+00]))\n",
      "('total_obj', -4887.152225328669)\n"
     ]
    },
    {
     "name": "stdout",
     "output_type": "stream",
     "text": [
      "('gradient', array([  0.00000000e+00,   0.00000000e+00,  -5.71174203e+00,\n",
      "         8.31450000e+03,   8.31450000e+03,  -4.88715223e+03]))\n",
      "('x_in', array([  1.00000000e+00,   1.01325000e+05,   1.00000000e+03,\n",
      "         5.55555556e-01,   4.44444444e-01,   1.00000000e+00]))\n",
      "('total_obj', -4887.152225328669)\n",
      "('gradient', array([  0.00000000e+00,   0.00000000e+00,  -5.71174203e+00,\n",
      "         8.31450000e+03,   8.31450000e+03,  -4.88715223e+03]))\n",
      "('gradient', array([  0.00000000e+00,   0.00000000e+00,  -5.71174203e+00,\n",
      "         8.31450000e+03,   8.31450000e+03,  -4.88715223e+03]))\n",
      "Chemical Potentials [-4887.15222533 -4887.15222533]\n",
      "[  5.00000000e-16   4.93461633e-21   5.00000000e-19   9.00000000e-16\n",
      "   1.12500000e-15   5.00000500e-16]\n",
      "[  1.00000000e+00   1.01325000e+05   1.00000000e+03   5.55555556e-01\n",
      "   4.44444444e-01   1.00000000e+00]\n",
      "Status: 0 b'Algorithm terminated successfully at a locally optimal point, satisfying the convergence tolerances (can be specified by options).'\n",
      "('Composition Sets', [CompositionSet(TEST, [ 0.55555556  0.44444444], NP=1.0, GM=-5711.742028618445)])\n"
     ]
    }
   ],
   "source": [
    "from pycalphad import equilibrium\n",
    "import numpy as np\n",
    "\n",
    "TDB = \"\"\"\n",
    " ELEMENT A    GRAPHITE                   12.011     1054.0      5.7423 !\n",
    " ELEMENT B   BCC_A2                     55.847     4489.0     27.2797 !\n",
    " TYPE_DEFINITION % SEQ * !\n",
    " PHASE TEST % 1 1 !\n",
    " CONSTITUENT TEST : A,B: !\n",
    "\"\"\"\n",
    "\n",
    "my_phases_rose = ['TEST']\n",
    "comps = ['A', 'B']#, 'LI', 'BE', 'B', 'C', 'N', 'O', 'F']\n",
    "comps = sorted(comps)\n",
    "conds = dict({v.T: 1000, v.P: 101325})\n",
    "#for comp in comps[1:]:\n",
    "#    conds[v.X(comp)] = 1.0/float(len(comps))\n",
    "conds[v.MU('B')] = -1855.3270574019966\n",
    "#conds[v.X('A')] = 0.8\n",
    "dbf = Database(TDB)\n",
    "eqx = equilibrium(Database(TDB), comps, my_phases_rose, conds, calc_opts={'pdens': 10}, verbose=True)"
   ]
  },
  {
   "cell_type": "code",
   "execution_count": 3,
   "metadata": {},
   "outputs": [
    {
     "data": {
      "text/plain": [
       "<xarray.DataArray 'MU' (N: 1, P: 1, T: 1, MU_B: 1, component: 2)>\n",
       "array([[[[[-4887.152225, -4887.152225]]]]])\n",
       "Coordinates:\n",
       "  * MU_B       (MU_B) float64 -1.855e+03\n",
       "  * N          (N) float64 1.0\n",
       "  * P          (P) float64 1.013e+05\n",
       "  * T          (T) float64 1e+03\n",
       "  * component  (component) <U1 'A' 'B'"
      ]
     },
     "execution_count": 3,
     "metadata": {},
     "output_type": "execute_result"
    }
   ],
   "source": [
    "eqx.MU"
   ]
  },
  {
   "cell_type": "code",
   "execution_count": 4,
   "metadata": {},
   "outputs": [
    {
     "data": {
      "text/plain": [
       "<xarray.DataArray 'X' (N: 1, P: 1, T: 1, MU_B: 1, vertex: 2, component: 2)>\n",
       "array([[[[[[ 0.555556,  0.444444],\n",
       "           [      nan,       nan]]]]]])\n",
       "Coordinates:\n",
       "  * MU_B       (MU_B) float64 -1.855e+03\n",
       "  * N          (N) float64 1.0\n",
       "  * P          (P) float64 1.013e+05\n",
       "  * T          (T) float64 1e+03\n",
       "  * vertex     (vertex) int64 0 1\n",
       "  * component  (component) <U1 'A' 'B'"
      ]
     },
     "execution_count": 4,
     "metadata": {},
     "output_type": "execute_result"
    }
   ],
   "source": [
    "eqx.X"
   ]
  },
  {
   "cell_type": "code",
   "execution_count": 5,
   "metadata": {},
   "outputs": [
    {
     "data": {
      "text/plain": [
       "<xarray.DataArray 'Y' (N: 1, P: 1, T: 1, MU_B: 1, vertex: 2, internal_dof: 2)>\n",
       "array([[[[[[ 0.555556,  0.444444],\n",
       "           [      nan,       nan]]]]]])\n",
       "Coordinates:\n",
       "  * MU_B     (MU_B) float64 -1.855e+03\n",
       "  * N        (N) float64 1.0\n",
       "  * P        (P) float64 1.013e+05\n",
       "  * T        (T) float64 1e+03\n",
       "  * vertex   (vertex) int64 0 1\n",
       "Dimensions without coordinates: internal_dof"
      ]
     },
     "execution_count": 5,
     "metadata": {},
     "output_type": "execute_result"
    }
   ],
   "source": [
    "eqx.Y"
   ]
  },
  {
   "cell_type": "code",
   "execution_count": 130,
   "metadata": {},
   "outputs": [
    {
     "data": {
      "text/plain": [
       "[<matplotlib.lines.Line2D at 0x7f54f6c62400>]"
      ]
     },
     "execution_count": 130,
     "metadata": {},
     "output_type": "execute_result"
    },
    {
     "data": {
      "image/png": "[encoded data removed]",
      "text/plain": [
       "<matplotlib.figure.Figure at 0x7f54f6d0f550>"
      ]
     },
     "metadata": {},
     "output_type": "display_data"
    }
   ],
   "source": [
    "%matplotlib inline\n",
    "import matplotlib.pyplot as plt\n",
    "import numpy as np\n",
    "\n",
    "x = np.linspace(1e-9,1-1e-9,2000)\n",
    "gm = 8314.5*(np.log(x)*x + (1-x)*np.log(1-x))\n",
    "ac = 0.8\n",
    "mu = 8314.5*np.log(ac)\n",
    "\n",
    "trans_func = gm - (mu + 200*np.gradient(gm))*x\n",
    "\n",
    "plt.plot(x,gm, label='GM')\n",
    "plt.plot(x, trans_func, label='L')"
   ]
  },
  {
   "cell_type": "code",
   "execution_count": 131,
   "metadata": {},
   "outputs": [
    {
     "data": {
      "text/plain": [
       "0.80000000000000004"
      ]
     },
     "execution_count": 131,
     "metadata": {},
     "output_type": "execute_result"
    }
   ],
   "source": [
    "np.exp(-1855.3270574019966/8314.5)"
   ]
  },
  {
   "cell_type": "code",
   "execution_count": 132,
   "metadata": {},
   "outputs": [
    {
     "data": {
      "text/plain": [
       "0.99999999900000003"
      ]
     },
     "execution_count": 132,
     "metadata": {},
     "output_type": "execute_result"
    }
   ],
   "source": [
    "x[np.argmin(trans_func)]"
   ]
  },
  {
   "cell_type": "code",
   "execution_count": 16,
   "metadata": {},
   "outputs": [
    {
     "data": {
      "text/plain": [
       "-1855.3270574019966"
      ]
     },
     "execution_count": 16,
     "metadata": {},
     "output_type": "execute_result"
    }
   ],
   "source": [
    "8314.5*np.log(0.8)"
   ]
  },
  {
   "cell_type": "code",
   "execution_count": 45,
   "metadata": {},
   "outputs": [
    {
     "data": {
      "text/plain": [
       "array([-34.84262295, -31.95861028, -27.98537666, ...,  29.84163184,\n",
       "        33.81486546,  36.69887813])"
      ]
     },
     "execution_count": 45,
     "metadata": {},
     "output_type": "execute_result"
    }
   ],
   "source": [
    "np.gradient(gm - mu*x)"
   ]
  },
  {
   "cell_type": "code",
   "execution_count": 79,
   "metadata": {},
   "outputs": [
    {
     "data": {
      "text/plain": [
       "-5067.1715229333267"
      ]
     },
     "execution_count": 79,
     "metadata": {},
     "output_type": "execute_result"
    }
   ],
   "source": [
    "8314.5*(np.log(0.2) + 1)"
   ]
  },
  {
   "cell_type": "code",
   "execution_count": 80,
   "metadata": {},
   "outputs": [
    {
     "data": {
      "text/plain": [
       "6459.1729425980029"
      ]
     },
     "execution_count": 80,
     "metadata": {},
     "output_type": "execute_result"
    }
   ],
   "source": [
    "8314.5*(np.log(0.8) + 1)"
   ]
  },
  {
   "cell_type": "code",
   "execution_count": 107,
   "metadata": {},
   "outputs": [
    {
     "data": {
      "text/plain": [
       "array([-35.77075054, -32.88673787, -28.91350425, ...,  28.91350425,\n",
       "        32.88673787,  35.77075054])"
      ]
     },
     "execution_count": 107,
     "metadata": {},
     "output_type": "execute_result"
    }
   ],
   "source": [
    "np.gradient(gm)"
   ]
  },
  {
   "cell_type": "code",
   "execution_count": 133,
   "metadata": {},
   "outputs": [
    {
     "data": {
      "text/plain": [
       "-0.22314355131420971"
      ]
     },
     "execution_count": 133,
     "metadata": {},
     "output_type": "execute_result"
    }
   ],
   "source": [
    "np.log(0.8)"
   ]
  },
  {
   "cell_type": "code",
   "execution_count": null,
   "metadata": {},
   "outputs": [],
   "source": []
  }
 ],
 "metadata": {
  "kernelspec": {
   "display_name": "Python 3",
   "language": "python",
   "name": "python3"
  },
  "language_info": {
   "codemirror_mode": {
    "name": "ipython",
    "version": 3
   },
   "file_extension": ".py",
   "mimetype": "text/x-python",
   "name": "python",
   "nbconvert_exporter": "python",
   "pygments_lexer": "ipython3",
   "version": "3.5.2"
  }
 },
 "nbformat": 4,
 "nbformat_minor": 2
}
