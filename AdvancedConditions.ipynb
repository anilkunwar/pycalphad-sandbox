{
 "cells": [
  {
   "cell_type": "code",
   "execution_count": 1,
   "metadata": {
    "collapsed": false,
    "deletable": true,
    "editable": true
   },
   "outputs": [],
   "source": [
    "from pycalphad import Database, Model, variables as v\n",
    "from pycalphad.tests.datasets import ROSE_TDB"
   ]
  },
  {
   "cell_type": "code",
   "execution_count": 2,
   "metadata": {
    "collapsed": false,
    "deletable": true,
    "editable": true,
    "scrolled": false
   },
   "outputs": [
    {
     "name": "stdout",
     "output_type": "stream",
     "text": [
      "(1, 1, 458, 9)\n",
      "(0, 0)\n"
     ]
    }
   ],
   "source": [
    "from pycalphad import equilibrium\n",
    "import numpy as np\n",
    "\n",
    "my_phases_rose = ['TEST']\n",
    "comps = ['H', 'HE', 'LI', 'BE', 'B', 'C', 'N', 'O', 'F']\n",
    "comps = sorted(comps)\n",
    "conds = dict({v.T: 1000, v.P: 101325})\n",
    "for comp in comps[1:]:\n",
    "    conds[v.X(comp)] = 1.0/float(len(comps))\n",
    "dbf = Database(ROSE_TDB)\n",
    "eqx = equilibrium(Database(ROSE_TDB), comps, my_phases_rose, conds, calc_opts={'pdens': 10})"
   ]
  },
  {
   "cell_type": "code",
   "execution_count": 3,
   "metadata": {
    "collapsed": false,
    "deletable": true,
    "editable": true
   },
   "outputs": [
    {
     "data": {
      "text/plain": [
       "<xarray.DataArray 'MU' (N: 1, P: 1, T: 1, X_BE: 1, X_C: 1, X_F: 1, X_H: 1, X_HE: 1, X_LI: 1, X_N: 1, X_O: 1, component: 9)>\n",
       "array([[[[[[[[[[[[-5835.099176, -5835.099176, -5835.099176, -5835.099176,\n",
       "                  -5835.099176, -5835.099177, -5835.099177, -5835.099176,\n",
       "                  -5835.099177]]]]]]]]]]]])\n",
       "Coordinates:\n",
       "  * X_H        (X_H) float64 0.1111\n",
       "  * component  (component) <U2 'B' 'BE' 'C' 'F' 'H' 'HE' 'LI' 'N' 'O'\n",
       "  * X_LI       (X_LI) float64 0.1111\n",
       "  * X_BE       (X_BE) float64 0.1111\n",
       "  * T          (T) float64 1e+03\n",
       "  * X_O        (X_O) float64 0.1111\n",
       "  * N          (N) float64 1.0\n",
       "  * X_N        (X_N) float64 0.1111\n",
       "  * P          (P) float64 1.013e+05\n",
       "  * X_C        (X_C) float64 0.1111\n",
       "  * X_HE       (X_HE) float64 0.1111\n",
       "  * X_F        (X_F) float64 0.1111"
      ]
     },
     "execution_count": 3,
     "metadata": {},
     "output_type": "execute_result"
    }
   ],
   "source": [
    "eqx.MU"
   ]
  },
  {
   "cell_type": "code",
   "execution_count": 4,
   "metadata": {
    "collapsed": false
   },
   "outputs": [
    {
     "data": {
      "text/plain": [
       "<xarray.DataArray 'X' (N: 1, P: 1, T: 1, X_BE: 1, X_C: 1, X_F: 1, X_H: 1, X_HE: 1, X_LI: 1, X_N: 1, X_O: 1, vertex: 9, component: 9)>\n",
       "array([[[[[[[[[[[[[ 0.495627,  0.495627,  0.001249,  0.001249,  0.001249,\n",
       "                    0.001249,  0.001249,  0.001249,  0.001249],\n",
       "                  [ 0.001249,  0.001249,  0.495627,  0.001249,  0.001249,\n",
       "                    0.001249,  0.495627,  0.001249,  0.001249],\n",
       "                  [ 0.001249,  0.001249,  0.001249,  0.001249,  0.495627,\n",
       "                    0.495627,  0.001249,  0.001249,  0.001249],\n",
       "                  [ 0.001249,  0.001249,  0.001249,  0.495627,  0.001249,\n",
       "                    0.001249,  0.001249,  0.495627,  0.001249],\n",
       "                  [ 0.495627,  0.001249,  0.001249,  0.001249,  0.001249,\n",
       "                    0.001249,  0.001249,  0.001249,  0.495627],\n",
       "                  [ 0.001249,  0.495627,  0.001249,  0.001249,  0.001249,\n",
       "                    0.001249,  0.001249,  0.001249,  0.495627],\n",
       "                  [      nan,       nan,       nan,       nan,       nan,\n",
       "                         nan,       nan,       nan,       nan],\n",
       "                  [      nan,       nan,       nan,       nan,       nan,\n",
       "                         nan,       nan,       nan,       nan],\n",
       "                  [      nan,       nan,       nan,       nan,       nan,\n",
       "                         nan,       nan,       nan,       nan]]]]]]]]]]]]])\n",
       "Coordinates:\n",
       "  * X_H        (X_H) float64 0.1111\n",
       "  * vertex     (vertex) int64 0 1 2 3 4 5 6 7 8\n",
       "  * component  (component) <U2 'B' 'BE' 'C' 'F' 'H' 'HE' 'LI' 'N' 'O'\n",
       "  * X_LI       (X_LI) float64 0.1111\n",
       "  * X_BE       (X_BE) float64 0.1111\n",
       "  * T          (T) float64 1e+03\n",
       "  * X_O        (X_O) float64 0.1111\n",
       "  * N          (N) float64 1.0\n",
       "  * X_N        (X_N) float64 0.1111\n",
       "  * P          (P) float64 1.013e+05\n",
       "  * X_C        (X_C) float64 0.1111\n",
       "  * X_HE       (X_HE) float64 0.1111\n",
       "  * X_F        (X_F) float64 0.1111"
      ]
     },
     "execution_count": 4,
     "metadata": {},
     "output_type": "execute_result"
    }
   ],
   "source": [
    "eqx.X"
   ]
  },
  {
   "cell_type": "code",
   "execution_count": 5,
   "metadata": {
    "collapsed": true
   },
   "outputs": [],
   "source": [
    "from xarray import open_dataset\n",
    "\n",
    "dev = open_dataset('global_grid_develop.cdf')\n",
    "adv = open_dataset('global_grid_advcond.cdf')"
   ]
  },
  {
   "cell_type": "code",
   "execution_count": 6,
   "metadata": {
    "collapsed": false
   },
   "outputs": [
    {
     "data": {
      "text/plain": [
       "<xarray.DataArray 'X' (P: 1, T: 1, points: 458, component: 9)>\n",
       "array([[[[ 1.     , ...,  0.     ],\n",
       "         ..., \n",
       "         [ 0.22174, ...,  0.03227]]]])\n",
       "Coordinates:\n",
       "  * component  (component) object 'B' 'BE' 'C' 'F' 'H' 'HE' 'LI' 'N' 'O'\n",
       "  * P          (P) float64 1.013e+05\n",
       "  * T          (T) float64 1e+03\n",
       "Dimensions without coordinates: points"
      ]
     },
     "execution_count": 6,
     "metadata": {},
     "output_type": "execute_result"
    }
   ],
   "source": [
    "dev.X"
   ]
  },
  {
   "cell_type": "code",
   "execution_count": 7,
   "metadata": {
    "collapsed": false
   },
   "outputs": [
    {
     "data": {
      "text/plain": [
       "<xarray.DataArray 'X' (N: 1, P: 1, T: 1, component: 9)>\n",
       "array([[[[-0.221738, -0.048249, -0.166191,  0.903133,  0.00263 , -0.161201,\n",
       "          -0.125674, -0.150441, -0.032269]]]])\n",
       "Coordinates:\n",
       "  * N          (N) float64 1.0\n",
       "  * component  (component) object 'B' 'BE' 'C' 'F' 'H' 'HE' 'LI' 'N' 'O'\n",
       "  * P          (P) float64 1.013e+05\n",
       "  * T          (T) float64 1e+03"
      ]
     },
     "execution_count": 7,
     "metadata": {},
     "output_type": "execute_result"
    }
   ],
   "source": [
    "(adv.X - dev.X).sel(points=-1)"
   ]
  },
  {
   "cell_type": "code",
   "execution_count": 8,
   "metadata": {
    "collapsed": false
   },
   "outputs": [
    {
     "data": {
      "text/plain": [
       "<xarray.DataArray 'X' (P: 1, T: 1, component: 9)>\n",
       "array([[[ 0.22174 ,  0.048249,  0.166201,  0.087078,  0.007142,  0.161201,\n",
       "          0.125674,  0.150444,  0.03227 ]]])\n",
       "Coordinates:\n",
       "  * component  (component) object 'B' 'BE' 'C' 'F' 'H' 'HE' 'LI' 'N' 'O'\n",
       "  * P          (P) float64 1.013e+05\n",
       "  * T          (T) float64 1e+03"
      ]
     },
     "execution_count": 8,
     "metadata": {},
     "output_type": "execute_result"
    }
   ],
   "source": [
    "dev.sel(points=-1).X"
   ]
  },
  {
   "cell_type": "code",
   "execution_count": 9,
   "metadata": {
    "collapsed": false
   },
   "outputs": [
    {
     "data": {
      "text/plain": [
       "<xarray.DataArray 'Y' (P: 1, T: 1, internal_dof: 9)>\n",
       "array([[[ 0.22174 ,  0.048249,  0.166201,  0.087078,  0.007142,  0.161201,\n",
       "          0.125674,  0.150444,  0.03227 ]]])\n",
       "Coordinates:\n",
       "  * P        (P) float64 1.013e+05\n",
       "  * T        (T) float64 1e+03\n",
       "Dimensions without coordinates: internal_dof"
      ]
     },
     "execution_count": 9,
     "metadata": {},
     "output_type": "execute_result"
    }
   ],
   "source": [
    "dev.sel(points=-1).Y"
   ]
  },
  {
   "cell_type": "code",
   "execution_count": 10,
   "metadata": {
    "collapsed": false
   },
   "outputs": [
    {
     "data": {
      "text/plain": [
       "<xarray.DataArray 'X' (N: 1, P: 1, T: 1, component: 9)>\n",
       "array([[[[  2.123154e-06,   9.672355e-08,   9.772629e-06,   9.902116e-01,\n",
       "            9.772629e-03,   3.602385e-07,   2.516998e-07,   2.602736e-06,\n",
       "            5.365673e-07]]]])\n",
       "Coordinates:\n",
       "  * N          (N) float64 1.0\n",
       "  * component  (component) object 'B' 'BE' 'C' 'F' 'H' 'HE' 'LI' 'N' 'O'\n",
       "  * P          (P) float64 1.013e+05\n",
       "  * T          (T) float64 1e+03"
      ]
     },
     "execution_count": 10,
     "metadata": {},
     "output_type": "execute_result"
    }
   ],
   "source": [
    "adv.sel(points=-1).X"
   ]
  },
  {
   "cell_type": "code",
   "execution_count": 11,
   "metadata": {
    "collapsed": false
   },
   "outputs": [
    {
     "data": {
      "text/plain": [
       "<xarray.DataArray 'Y' (N: 1, P: 1, T: 1, internal_dof: 9)>\n",
       "array([[[[ 0.22174 ,  0.048249,  0.166201,  0.087078,  0.007142,  0.161201,\n",
       "           0.125674,  0.150444,  0.03227 ]]]])\n",
       "Coordinates:\n",
       "  * N        (N) float64 1.0\n",
       "  * P        (P) float64 1.013e+05\n",
       "  * T        (T) float64 1e+03\n",
       "Dimensions without coordinates: internal_dof"
      ]
     },
     "execution_count": 11,
     "metadata": {},
     "output_type": "execute_result"
    }
   ],
   "source": [
    "adv.sel(points=-1).Y"
   ]
  },
  {
   "cell_type": "code",
   "execution_count": null,
   "metadata": {
    "collapsed": true
   },
   "outputs": [],
   "source": []
  }
 ],
 "metadata": {
  "kernelspec": {
   "display_name": "Python 3",
   "language": "python",
   "name": "python3"
  },
  "language_info": {
   "codemirror_mode": {
    "name": "ipython",
    "version": 3
   },
   "file_extension": ".py",
   "mimetype": "text/x-python",
   "name": "python",
   "nbconvert_exporter": "python",
   "pygments_lexer": "ipython3",
   "version": "3.5.2"
  }
 },
 "nbformat": 4,
 "nbformat_minor": 2
}
