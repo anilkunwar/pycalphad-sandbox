{
 "cells": [
  {
   "cell_type": "code",
   "execution_count": 1,
   "metadata": {
    "collapsed": false,
    "deletable": true,
    "editable": true
   },
   "outputs": [],
   "source": [
    "from pycalphad import Database, Model, variables as v\n",
    "\n",
    "dbf = Database('alfe_sei.TDB')\n",
    "\n",
    "mod = Model(dbf, ['AL', 'FE', 'VA'], 'B2_BCC')"
   ]
  },
  {
   "cell_type": "code",
   "execution_count": 2,
   "metadata": {
    "collapsed": false,
    "deletable": true,
    "editable": true
   },
   "outputs": [],
   "source": [
    "from collections import OrderedDict\n",
    "from pycalphad.core.constraints import build_constraints\n",
    "res = build_constraints(mod, [v.P, v.T] + mod.site_fractions, OrderedDict([(v.P, 101325), (v.T, 300), (v.N, 1), (v.X('FE'), 0.2)]))"
   ]
  },
  {
   "cell_type": "code",
   "execution_count": 3,
   "metadata": {
    "collapsed": false,
    "deletable": true,
    "editable": true
   },
   "outputs": [
    {
     "data": {
      "text/plain": [
       "array([[ 1. ],\n",
       "       [ 0.5]])"
      ]
     },
     "execution_count": 3,
     "metadata": {},
     "output_type": "execute_result"
    }
   ],
   "source": [
    "import numpy as np\n",
    "res.multiphase_cons.kernel(np.array([[101325, 300, 0.5, 0.5, 0.5, 0.5, 1, 1]]), np.array([]))"
   ]
  },
  {
   "cell_type": "code",
   "execution_count": 4,
   "metadata": {
    "collapsed": false,
    "deletable": true,
    "editable": true
   },
   "outputs": [],
   "source": [
    "from pycalphad import equilibrium\n",
    "\n",
    "res = equilibrium(dbf, ['AL', 'FE', 'VA'], 'B2_BCC', {v.P: 101325, v.T: 300, v.N: 1, v.X('FE'): 0.3})"
   ]
  },
  {
   "cell_type": "code",
   "execution_count": 5,
   "metadata": {
    "collapsed": false,
    "deletable": true,
    "editable": true
   },
   "outputs": [
    {
     "data": {
      "text/plain": [
       "<xarray.Dataset>\n",
       "Dimensions:       (N: 1, P: 1, T: 1, X_FE: 1, component: 2, internal_dof: 5, vertex: 2)\n",
       "Coordinates:\n",
       "  * vertex        (vertex) int64 0 1\n",
       "  * X_FE          (X_FE) float64 0.3\n",
       "  * P             (P) float64 1.013e+05\n",
       "  * N             (N) float64 1.0\n",
       "  * T             (T) float64 300.0\n",
       "  * component     (component) <U2 'AL' 'FE'\n",
       "  * internal_dof  (internal_dof) int64 0 1 2 3 4\n",
       "Data variables:\n",
       "    MU            (N, P, T, X_FE, component) float64 -7.426e+03 -6.742e+04\n",
       "    X             (N, P, T, X_FE, vertex, component) float64 0.7 0.3 nan nan\n",
       "    NP            (N, P, T, X_FE, vertex) float64 1.0 nan\n",
       "    GM            (N, P, T, X_FE) float64 -2.765e+04\n",
       "    Y             (N, P, T, X_FE, vertex, internal_dof) float64 0.4 0.6 1.0 ...\n",
       "    Phase         (N, P, T, X_FE, vertex) <U6 'B2_BCC' ''\n",
       "Attributes:\n",
       "    engine: pycalphad 0.7+13.ga458f2c.dirty\n",
       "    created: 2018-04-18T19:30:39.379257"
      ]
     },
     "execution_count": 5,
     "metadata": {},
     "output_type": "execute_result"
    }
   ],
   "source": [
    "res"
   ]
  },
  {
   "cell_type": "code",
   "execution_count": 6,
   "metadata": {
    "collapsed": false,
    "deletable": true,
    "editable": true
   },
   "outputs": [
    {
     "data": {
      "text/plain": [
       "-0.5*(0.5*B2_BCC0AL + 0.5*B2_BCC1AL)/(0.5*B2_BCC0AL + 0.5*B2_BCC0FE + 0.5*B2_BCC1AL + 0.5*B2_BCC1FE)**2 - 0.5*(0.5*B2_BCC0FE + 0.5*B2_BCC1FE)/(0.5*B2_BCC0AL + 0.5*B2_BCC0FE + 0.5*B2_BCC1AL + 0.5*B2_BCC1FE)**2 + 0.5/(0.5*B2_BCC0AL + 0.5*B2_BCC0FE + 0.5*B2_BCC1AL + 0.5*B2_BCC1FE)"
      ]
     },
     "execution_count": 6,
     "metadata": {},
     "output_type": "execute_result"
    }
   ],
   "source": [
    "mod.get_multiphase_constraint_contribution(v.N).diff(v.Y('B2_BCC', 1, 'FE'))"
   ]
  },
  {
   "cell_type": "code",
   "execution_count": 7,
   "metadata": {
    "collapsed": false,
    "deletable": true,
    "editable": true
   },
   "outputs": [
    {
     "data": {
      "text/plain": [
       "[101325.0, 300.0, 1.0, 0.2]"
      ]
     },
     "execution_count": 7,
     "metadata": {},
     "output_type": "execute_result"
    }
   ],
   "source": [
    "from pycalphad.core.constraints import get_multiphase_constraint_rhs\n",
    "get_multiphase_constraint_rhs(OrderedDict([(v.P, 101325), (v.T, 300), (v.N, 1), (v.X('FE'), 0.2)]))"
   ]
  },
  {
   "cell_type": "code",
   "execution_count": null,
   "metadata": {
    "collapsed": true
   },
   "outputs": [],
   "source": []
  }
 ],
 "metadata": {
  "kernelspec": {
   "display_name": "Python 3",
   "language": "python",
   "name": "python3"
  },
  "language_info": {
   "codemirror_mode": {
    "name": "ipython",
    "version": 3
   },
   "file_extension": ".py",
   "mimetype": "text/x-python",
   "name": "python",
   "nbconvert_exporter": "python",
   "pygments_lexer": "ipython3",
   "version": "3.5.2"
  }
 },
 "nbformat": 4,
 "nbformat_minor": 2
}
