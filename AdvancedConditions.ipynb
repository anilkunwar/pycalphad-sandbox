{
 "cells": [
  {
   "cell_type": "code",
   "execution_count": 1,
   "metadata": {
    "collapsed": false
   },
   "outputs": [],
   "source": [
    "from pycalphad import Database, Model, variables as v\n",
    "\n",
    "dbf = Database('alfe_sei.TDB')\n",
    "\n",
    "mod = Model(dbf, ['AL', 'FE', 'VA'], 'B2_BCC')"
   ]
  },
  {
   "cell_type": "code",
   "execution_count": 8,
   "metadata": {
    "collapsed": false
   },
   "outputs": [],
   "source": [
    "from collections import OrderedDict\n",
    "from pycalphad.core.constraints import build_constraints\n",
    "res = build_constraints(mod, [v.P, v.T] + mod.site_fractions, OrderedDict([(v.P, 101325), (v.T, 300), (v.N, 1), (v.X('FE'), 0.2)]))"
   ]
  },
  {
   "cell_type": "code",
   "execution_count": 9,
   "metadata": {
    "collapsed": false
   },
   "outputs": [
    {
     "data": {
      "text/plain": [
       "array([[ 0.  ,  0.  ,  0.  ,  0.  ,  0.  ,  0.  ,  0.  ,  1.  ],\n",
       "       [ 0.  ,  0.  , -0.25,  0.25, -0.25,  0.25,  0.  ,  0.5 ]])"
      ]
     },
     "execution_count": 9,
     "metadata": {},
     "output_type": "execute_result"
    }
   ],
   "source": [
    "import numpy as np\n",
    "res.multiphase_jac.kernel(np.array([[101325, 300, 0.5, 0.5, 0.5, 0.5, 1, 1]]), np.array([]))"
   ]
  },
  {
   "cell_type": "code",
   "execution_count": 6,
   "metadata": {
    "collapsed": false
   },
   "outputs": [
    {
     "name": "stdout",
     "output_type": "stream",
     "text": [
      "Components: AL FE VA\n",
      "Phases: B2_BCC [done]\n",
      "('Redundant phase:', CompositionSet(B2_BCC, [ 0.83967936  0.16032064], NP=0.14999999985029921, GM=-16698.914080687377))\n",
      "Removing CompositionSet(B2_BCC, [ 0.83967936  0.16032064], NP=nan, GM=-16698.914080687377)\n",
      "Chemical Potentials [-9342.18619426 -9342.18619426]\n",
      "[ 0.  0.  0.  0.  0.  0.]\n",
      "[  8.31663327e-01   1.68336673e-01   1.00000000e+00   1.00000000e-12\n",
      "   1.00000000e+00   1.00000000e+00]\n",
      "Status: -10 b'Problem has too few degrees of freedom.'\n",
      "Adding CompositionSet(B2_BCC, [ 0.5  0.5], NP=0.5, GM=-32185.857895383135) Driving force: 28152.401654502508\n",
      "Trying to improve poor solution\n",
      "Calculation Failed:  OrderedDict([('N', array(1.0)), ('P', array(101325.0)), ('T', array(300.0)), ('X_FE', array(0.2))]) b'Maximum number of iterations exceeded (can be specified by an option).'\n",
      "Chemical Potentials [ 792060.83934283  792060.80336407]\n",
      "[  2.62824106e+11   7.20055294e-03   2.62824106e+11   7.20055294e-03\n",
      "   7.20055301e-03   3.04734023e+11   7.20055294e-03   3.04734023e+11\n",
      "   7.20055294e-03   7.20055301e-03   2.17121249e-08   1.87198926e-08]\n",
      "[  1.00000000e-12   1.00000001e+00   1.00000000e-12   1.00000001e+00\n",
      "   1.00000000e+00   1.00000000e-12   1.00000001e+00   1.00000000e-12\n",
      "   1.00000001e+00   1.00000000e+00   3.31636489e+05   3.84662703e+05]\n",
      "Status: -1 b'Maximum number of iterations exceeded (can be specified by an option).'\n",
      "Candidate composition set B2_BCC at [ 0.5  0.5] is not distinct\n"
     ]
    }
   ],
   "source": [
    "from pycalphad import equilibrium\n",
    "\n",
    "res = equilibrium(dbf, ['AL', 'FE', 'VA'], 'B2_BCC', {v.P: 101325, v.T: 300, v.N: 1, v.X('FE'): 0.2}, verbose=True)"
   ]
  },
  {
   "cell_type": "code",
   "execution_count": 5,
   "metadata": {
    "collapsed": false
   },
   "outputs": [
    {
     "data": {
      "text/plain": [
       "<xarray.Dataset>\n",
       "Dimensions:       (N: 1, P: 1, T: 1, X_FE: 1, component: 2, internal_dof: 5, vertex: 2)\n",
       "Coordinates:\n",
       "  * N             (N) float64 1.0\n",
       "  * vertex        (vertex) int64 0 1\n",
       "  * X_FE          (X_FE) float64 0.2\n",
       "  * component     (component) <U2 'AL' 'FE'\n",
       "  * P             (P) float64 1.013e+05\n",
       "  * T             (T) float64 300.0\n",
       "  * internal_dof  (internal_dof) int64 0 1 2 3 4\n",
       "Data variables:\n",
       "    GM            (N, P, T, X_FE) float64 nan\n",
       "    MU            (N, P, T, X_FE, component) float64 nan nan\n",
       "    Y             (N, P, T, X_FE, vertex, internal_dof) float64 nan nan nan ...\n",
       "    NP            (N, P, T, X_FE, vertex) float64 nan nan\n",
       "    X             (N, P, T, X_FE, vertex, component) float64 nan nan nan nan\n",
       "    Phase         (N, P, T, X_FE, vertex) <U6 '' ''\n",
       "Attributes:\n",
       "    engine: pycalphad 0.7+13.ga458f2c.dirty\n",
       "    created: 2018-04-17T22:59:23.656211"
      ]
     },
     "execution_count": 5,
     "metadata": {},
     "output_type": "execute_result"
    }
   ],
   "source": [
    "res"
   ]
  },
  {
   "cell_type": "code",
   "execution_count": 11,
   "metadata": {
    "collapsed": false
   },
   "outputs": [
    {
     "data": {
      "text/plain": [
       "(0.5*B2_BCC0AL + 0.5*B2_BCC1AL)/(0.5*B2_BCC0AL + 0.5*B2_BCC0FE + 0.5*B2_BCC1AL + 0.5*B2_BCC1FE) + (0.5*B2_BCC0FE + 0.5*B2_BCC1FE)/(0.5*B2_BCC0AL + 0.5*B2_BCC0FE + 0.5*B2_BCC1AL + 0.5*B2_BCC1FE)"
      ]
     },
     "execution_count": 11,
     "metadata": {},
     "output_type": "execute_result"
    }
   ],
   "source": [
    "mod.get_multiphase_constraint_contribution(v.N)"
   ]
  },
  {
   "cell_type": "code",
   "execution_count": null,
   "metadata": {
    "collapsed": true
   },
   "outputs": [],
   "source": []
  }
 ],
 "metadata": {
  "kernelspec": {
   "display_name": "Python 3",
   "language": "python",
   "name": "python3"
  },
  "language_info": {
   "codemirror_mode": {
    "name": "ipython",
    "version": 3
   },
   "file_extension": ".py",
   "mimetype": "text/x-python",
   "name": "python",
   "nbconvert_exporter": "python",
   "pygments_lexer": "ipython3",
   "version": "3.5.2"
  }
 },
 "nbformat": 4,
 "nbformat_minor": 2
}
