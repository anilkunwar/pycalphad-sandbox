{
 "cells": [
  {
   "cell_type": "code",
   "execution_count": 2,
   "metadata": {
    "collapsed": false
   },
   "outputs": [
    {
     "name": "stdout",
     "output_type": "stream",
     "text": [
      "Numpy dot:   time = 0.70 seconds; flop rate = 77.11 Gflops/s\n",
      "Scipy dot:   time = 0.71 seconds; flop rate = 75.95 Gflops/s\n",
      "Scipy dgemm: time = 26.90 seconds; flop rate = 2.01 Gflops/s\n",
      "lapack_mkl_info:\n",
      "  NOT AVAILABLE\n",
      "lapack_opt_info:\n",
      "    define_macros = [('NO_ATLAS_INFO', 1)]\n",
      "    language = f77\n",
      "    libraries = ['lapack', 'blas']\n",
      "    library_dirs = ['/usr/lib']\n",
      "atlas_info:\n",
      "  NOT AVAILABLE\n",
      "lapack_info:\n",
      "    language = f77\n",
      "    libraries = ['lapack']\n",
      "    library_dirs = ['/usr/lib']\n",
      "mkl_info:\n",
      "  NOT AVAILABLE\n",
      "atlas_3_10_threads_info:\n",
      "  NOT AVAILABLE\n",
      "openblas_lapack_info:\n",
      "  NOT AVAILABLE\n",
      "blas_mkl_info:\n",
      "  NOT AVAILABLE\n",
      "blas_info:\n",
      "    language = f77\n",
      "    libraries = ['blas']\n",
      "    library_dirs = ['/usr/lib']\n",
      "blas_opt_info:\n",
      "    language = f77\n",
      "    libraries = ['openblas', 'openblas']\n",
      "    library_dirs = ['/usr/lib']\n",
      "atlas_threads_info:\n",
      "  NOT AVAILABLE\n",
      "openblas_info:\n",
      "    language = f77\n",
      "    libraries = ['openblas', 'openblas']\n",
      "    library_dirs = ['/usr/lib']\n",
      "atlas_3_10_info:\n",
      "  NOT AVAILABLE\n"
     ]
    }
   ],
   "source": [
    "import time\n",
    "import scipy as sp\n",
    "import scipy.linalg as la\n",
    "import numpy as np\n",
    "\n",
    "n=3000\n",
    "A=sp.random.rand(n,n)\n",
    "B=sp.random.rand(n,n)\n",
    "\n",
    "t=time.time()\n",
    "C=np.dot(A,B)\n",
    "t=time.time()-t\n",
    "f=2*n**3/t/1e9\n",
    "print (\"Numpy dot:   time = %.2f seconds; flop rate = %.2f Gflops/s\"%(t,f))\n",
    "\n",
    "t=time.time()\n",
    "C=sp.dot(A,B)\n",
    "t=time.time()-t\n",
    "f=2*n**3/t/1e9\n",
    "print (\"Scipy dot:   time = %.2f seconds; flop rate = %.2f Gflops/s\"%(t,f))\n",
    "\n",
    "t=time.time()\n",
    "C=la.blas.dgemm(1.0,A,B)\n",
    "t=time.time()-t\n",
    "f=2*n**3/t/1e9\n",
    "print (\"Scipy dgemm: time = %.2f seconds; flop rate = %.2f Gflops/s\"%(t,f))\n",
    "np.show_config()"
   ]
  },
  {
   "cell_type": "code",
   "execution_count": null,
   "metadata": {
    "collapsed": true
   },
   "outputs": [],
   "source": []
  }
 ],
 "metadata": {
  "kernelspec": {
   "display_name": "Python 3",
   "language": "python",
   "name": "python3"
  },
  "language_info": {
   "codemirror_mode": {
    "name": "ipython",
    "version": 3
   },
   "file_extension": ".py",
   "mimetype": "text/x-python",
   "name": "python",
   "nbconvert_exporter": "python",
   "pygments_lexer": "ipython3",
   "version": "3.4.3"
  }
 },
 "nbformat": 4,
 "nbformat_minor": 0
}
