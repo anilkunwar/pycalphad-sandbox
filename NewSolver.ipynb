{
 "cells": [
  {
   "cell_type": "code",
   "execution_count": 33,
   "metadata": {
    "collapsed": false
   },
   "outputs": [],
   "source": [
    "import numpy as np\n",
    "\n",
    "# First I need to initialize the Hessian matrix and the b vector\n",
    "# Let's try some very conservative upper bounds\n",
    "# max_phases = len([c for c in comps if c != 'VA'])\n",
    "# max_num_vars = max_internal_dof*max_phases+max_phases\n",
    "# max_constraints = num_mass_bals + max_sublattices*max_phases\n",
    "# CONSIDER THAT we need to include an extra 'max_phases' dimension because fancy indexing is done in parallel\n",
    "# A phase participating in the same equilibrium multiple times will index the same condition simultaneously -- this will break\n",
    "# The solution is to use the phase_idx as an extra dimension, then sum over that dimension before copying it over to l_hessian\n",
    "# Hessian size will be (*conds, max_phases, max_num_vars+num_constraints, max_num_vars+num_constraints)\n",
    "# b vector size will be (*conds, max_phases, max_num_vars+num_constraints)\n",
    "# Initialize l_multipliers as zeros of shape (*conds, num_constraints)\n",
    "# Set l_multipliers[*conds, :len(max_phases)] = chemical potentials\n",
    "# Initialize Hessian as stacked identity matrix\n",
    "# Initialize b vector as stacked zero vector\n",
    "# Now we need to fill out the Hessian and b at all conditions, for the current iteration\n",
    "# We know the phases participating at all conditions\n",
    "# We know the best guess site fractions for all participating phases at all conditions\n",
    "# For each phase, make a flattened list of (P, T, *sitefracs) to compute -- filter out converged conditions\n",
    "#   Also track the conditions multi-index for each phase computation\n",
    "#   Also track the var_idx we can write sitefrac-related dof to, and also the phase_idx for phasefrac-related dof\n",
    "#   So it should probably be three flattened lists of equal length\n",
    "#   Pretty easy to compute G, G' and G'' for the flattened list -- where do we copy the results to?\n",
    "#   first_var_idx = index of first site fraction variable for a given phase\n",
    "#   last_var_idx = index of last site fraction variable for a given phase\n",
    "#   Hessian matrix (don't forget to clip P and T derivatives):\n",
    "#   Sitefrac/sitefrac derivatives\n",
    "#     Copy phasefrac[cond_multi_index, phase_idx] * G'' to [cond_multi_index, np.index_exp[var_idx:last_var_idx, var_idx:last_var_idx]]\n",
    "#   Phasefrac/sitefrac derivatives\n",
    "#     Copy G' (clipped) to [cond_multi_index, last_var_idx+phase_idx, var_idx:last_var_idx] and [cond_multi_index, var_idx:last_var_idx, last_var_idx+phase_idx]\n",
    "#   Phasefrac/phasefrac derivative\n",
    "#     [cond_multi_index, last_var_idx+phase_idx, last_var_idx+phase_idx] = 0 (need to do this since we initialize as identity matrix)\n",
    "#   Constraint Jacobian:\n",
    "#   Need to track constraint_offset for each flattened condition multi_index (each participating phase increases it)\n",
    "#   Initialize constraint_jac as zeros of shape (*conds, max_phases, max_constraints, max_num_vars)\n",
    "#   Initialize l_constraints as zeros of shape(*conds, max_phases, max_constraints)\n",
    "#   Reset var_idx = first_var_idx\n",
    "#   Site fraction balances\n",
    "#     for idx in range(len(dbf.phases[name].sublattices)): active_in_subl = set(dbf.phases[name].constituents[idx]).intersection(comps)\n",
    "#     constraint_jac[cond_multi_index, phase_idx, constraint_offset, var_idx:last_var_idx+len(active_in_subl)] = 1\n",
    "#     l_constraints[cond_multi_index, phase_idx, constraint_offset] = -(np.sum(site_fracs[..., var_idx:var_idx + len(active_in_subl)], axis=-1) - 1)\n",
    "#     constraint_offset += 1\n",
    "#   Mass balances\n",
    "#     Basically the same as the existing code, with some indexing differences (remember max_phases dimension)\n",
    "#   Copy -constraint_jac.swapaxes(-2,-1).sum(axis=-3) to l_hessian[cond_multi_index, phase_idx, :max_num_vars, max_num_vars:]\n",
    "#   Copy constraint_jac.sum(axis=-3) to l_hessian[cond_multi_index, phase_idx, max_num_vars:, :max_num_vars]\n",
    "#   Gradient term:\n",
    "#   Reset var_idx = first_var_idx\n",
    "#   Initialize as b vector shape\n",
    "#   Copy -phasefrac[cond_multi_index, phase_idx] * G' (clipped) to [cond_multi_index, phase_idx, var_idx:var_idx+phase_dof[name]]\n",
    "#   Copy -G to [cond_multi_index, phase_idx, max_num_vars-max_phases+phase_idx]\n",
    "#   Copy np.einsum('...i, ...i', constraint_jac.swapaxes(-2,-1), l_multipliers[cond_multi_index, None, :]) to [cond_multi_index, phase_idx, :max_num_vars]\n",
    "#   Copy l_constraints to [cond_multi_index, phase_idx, max_num_vars:]\n",
    "\n",
    "# Compute step = np.linalg.solve(l_hessian.sum(axis=-3), gradient_term.sum(axis=-2))\n",
    "# step should have the shape (*conds, max_num_vars+num_constraints)\n",
    "# Now, about the backtracking line search\n",
    "# This is moderately annoying because we're going to need to compute GM for each condition set for different alpha's\n",
    "# Initialize alpha as float ones of shape (*conds)"
   ]
  },
  {
   "cell_type": "code",
   "execution_count": null,
   "metadata": {
    "collapsed": true
   },
   "outputs": [],
   "source": []
  }
 ],
 "metadata": {
  "kernelspec": {
   "display_name": "Python 3",
   "language": "python",
   "name": "python3"
  },
  "language_info": {
   "codemirror_mode": {
    "name": "ipython",
    "version": 3
   },
   "file_extension": ".py",
   "mimetype": "text/x-python",
   "name": "python",
   "nbconvert_exporter": "python",
   "pygments_lexer": "ipython3",
   "version": "3.5.1"
  }
 },
 "nbformat": 4,
 "nbformat_minor": 0
}
