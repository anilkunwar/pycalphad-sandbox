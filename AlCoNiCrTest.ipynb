{
 "cells": [
  {
   "cell_type": "code",
   "execution_count": 1,
   "metadata": {
    "collapsed": false
   },
   "outputs": [],
   "source": [
    "%matplotlib inline\n",
    "import matplotlib.pyplot as plt\n",
    "from pycalphad import equilibrium\n",
    "from pycalphad import Database, Model\n",
    "import pycalphad.variables as v"
   ]
  },
  {
   "cell_type": "code",
   "execution_count": 2,
   "metadata": {
    "collapsed": false
   },
   "outputs": [
    {
     "name": "stdout",
     "output_type": "stream",
     "text": [
      "Components: AL CO CR NI VA\n",
      "Phases: BCC_B2 HCP_A3 L12_FCC LIQUID [done]\n",
      "Computing initial grid [4524 points, 742.1KB]\n",
      "Computing convex hull [iteration 1]\n",
      "progress 157375.713982 [1 conditions updated]\n",
      "Refining convex hull\n",
      "N-R convergence on mini-iteration 4 [BCC_B2]\n",
      "N-R convergence on mini-iteration 4 [HCP_A3]\n",
      "N-R convergence on mini-iteration 3 [L12_FCC]\n",
      "N-R convergence on mini-iteration 2 [LIQUID]\n",
      "Rebuilding grid [4540 points, 744.7KB]\n",
      "Computing convex hull [iteration 2]\n",
      "progress 3132.10946059 [1 conditions updated]\n",
      "Refining convex hull\n",
      "N-R convergence on mini-iteration 0 [BCC_B2]\n",
      "N-R convergence on mini-iteration 1 [HCP_A3]\n",
      "N-R convergence on mini-iteration 1 [L12_FCC]\n",
      "N-R convergence on mini-iteration 1 [LIQUID]\n",
      "Rebuilding grid [4556 points, 747.3KB]\n",
      "Computing convex hull [iteration 3]\n",
      "progress 2169.34747008 [1 conditions updated]\n",
      "Refining convex hull\n",
      "N-R convergence on mini-iteration 0 [BCC_B2]\n",
      "N-R convergence on mini-iteration 1 [HCP_A3]\n",
      "N-R convergence on mini-iteration 1 [L12_FCC]\n",
      "N-R convergence on mini-iteration 1 [LIQUID]\n",
      "Rebuilding grid [4572 points, 749.9KB]\n",
      "Computing convex hull [iteration 4]\n",
      "progress 1113.76824576 [1 conditions updated]\n",
      "Refining convex hull\n",
      "N-R convergence on mini-iteration 0 [BCC_B2]\n",
      "N-R convergence on mini-iteration 1 [HCP_A3]\n",
      "N-R convergence on mini-iteration 1 [L12_FCC]\n",
      "N-R convergence on mini-iteration 1 [LIQUID]\n",
      "Rebuilding grid [4588 points, 752.6KB]\n",
      "Computing convex hull [iteration 5]\n",
      "progress 542.637656309 [0 conditions updated]\n",
      "Global search complete\n",
      "Refining equilibrium\n",
      "Chem pot progress 0.0\n",
      "Energy progress 243.119468193\n",
      "No progress\n",
      "CPU times: user 11min 5s, sys: 11.9 s, total: 11min 17s\n",
      "Wall time: 13min 30s\n",
      "<xarray.Dataset>\n",
      "Dimensions:       (P: 1, T: 1, X_AL: 1, X_CO: 1, X_CR: 1, component: 4, internal_dof: 11, vertex: 4)\n",
      "Coordinates:\n",
      "  * P             (P) float64 1.013e+05\n",
      "  * T             (T) float64 1.373e+03\n",
      "  * X_AL          (X_AL) float64 0.2\n",
      "  * X_CO          (X_CO) float64 0.2\n",
      "  * X_CR          (X_CR) float64 0.2\n",
      "  * vertex        (vertex) int64 0 1 2 3\n",
      "  * component     (component) object 'AL' 'CO' 'CR' 'NI'\n",
      "  * internal_dof  (internal_dof) int64 0 1 2 3 4 5 6 7 8 9 10\n",
      "Data variables:\n",
      "    GM            (P, T, X_AL, X_CO, X_CR) float64 -9.972e+04\n",
      "    NP            (P, T, X_AL, X_CO, X_CR, vertex) float64 0.711 0.2797 ...\n",
      "    MU            (P, T, X_AL, X_CO, X_CR, component) float64 -1.542e+05 ...\n",
      "    X             (P, T, X_AL, X_CO, X_CR, vertex, component) float64 0.1729 ...\n",
      "    Y             (P, T, X_AL, X_CO, X_CR, vertex, internal_dof) float64 0.1729 ...\n",
      "    Phase         (P, T, X_AL, X_CO, X_CR, vertex) object 'L12_FCC' 'BCC_B2' ...\n",
      "Attributes:\n",
      "    hull_iterations: 5\n",
      "    solve_iterations: 1\n",
      "    created: 2016-02-09 19:55:19.306799\n",
      "    engine: pycalphad 0.2.5+38.g143f2db.dirty\n"
     ]
    }
   ],
   "source": [
    "dbf = Database('craldad_for_pandat.TDB')\n",
    "phases = ['LIQUID', 'L12_FCC', 'BCC_B2', 'HCP_A3']\n",
    "%time eq = equilibrium(dbf, ['AL', 'CO', 'NI', 'CR', 'VA'] , phases,\\\n",
    "                       {v.X('AL'): 0.20, v.X('CO'): 0.2, v.X('CR'): 0.2, v.T: 1373, v.P: 101325})\n",
    "print(eq)"
   ]
  },
  {
   "cell_type": "code",
   "execution_count": 3,
   "metadata": {
    "collapsed": false
   },
   "outputs": [
    {
     "name": "stdout",
     "output_type": "stream",
     "text": [
      "<xarray.DataArray 'GM' (P: 1, T: 1, X_AL: 1, X_CO: 1, X_CR: 1)>\n",
      "array([[[[[-99718.37974555]]]]])\n",
      "Coordinates:\n",
      "  * P        (P) float64 1.013e+05\n",
      "  * T        (T) float64 1.373e+03\n",
      "  * X_AL     (X_AL) float64 0.2\n",
      "  * X_CO     (X_CO) float64 0.2\n",
      "  * X_CR     (X_CR) float64 0.2\n",
      "<xarray.DataArray 'X' (P: 1, T: 1, X_AL: 1, X_CO: 1, X_CR: 1, vertex: 4, component: 4)>\n",
      "array([[[[[[[  1.72933019e-01,   1.82286085e-01,   2.07661172e-01,\n",
      "               4.37119724e-01],\n",
      "            [  2.54676656e-01,   2.35896167e-01,   2.10020758e-01,\n",
      "               2.99406419e-01],\n",
      "            [  5.00000059e-01,   1.22671835e-08,   9.42568851e-09,\n",
      "               4.99999919e-01],\n",
      "            [             nan,              nan,              nan,\n",
      "                          nan]]]]]]])\n",
      "Coordinates:\n",
      "  * P          (P) float64 1.013e+05\n",
      "  * T          (T) float64 1.373e+03\n",
      "  * X_AL       (X_AL) float64 0.2\n",
      "  * X_CO       (X_CO) float64 0.2\n",
      "  * X_CR       (X_CR) float64 0.2\n",
      "  * vertex     (vertex) int64 0 1 2 3\n",
      "  * component  (component) object 'AL' 'CO' 'CR' 'NI'\n",
      "<xarray.DataArray 'Y' (P: 1, T: 1, X_AL: 1, X_CO: 1, X_CR: 1, vertex: 4, internal_dof: 11)>\n",
      "array([[[[[[[  1.72933019e-01,   1.82286085e-01,   2.07661172e-01,\n",
      "               4.37119724e-01,   1.72933019e-01,   1.82286085e-01,\n",
      "               2.07661172e-01,   4.37119724e-01,   1.00000000e+00,\n",
      "                          nan,              nan],\n",
      "            [  2.18906760e-02,   3.41108816e-01,   1.44613869e-01,\n",
      "               4.92385959e-01,   6.80831974e-07,   4.87462461e-01,\n",
      "               1.30683356e-01,   2.75427501e-01,   1.06426672e-01,\n",
      "               9.79103721e-09,   1.00000000e+00],\n",
      "            [  2.24298273e-09,   1.16650004e-08,   6.48630181e-09,\n",
      "               9.99999670e-01,   3.09153000e-07,   9.99999961e-01,\n",
      "               1.28693629e-08,   1.23650723e-08,   1.38068975e-08,\n",
      "               3.07994506e-12,   1.00000000e+00],\n",
      "            [             nan,              nan,              nan,\n",
      "                          nan,              nan,              nan,\n",
      "                          nan,              nan,              nan,\n",
      "                          nan,              nan]]]]]]])\n",
      "Coordinates:\n",
      "  * P             (P) float64 1.013e+05\n",
      "  * T             (T) float64 1.373e+03\n",
      "  * X_AL          (X_AL) float64 0.2\n",
      "  * X_CO          (X_CO) float64 0.2\n",
      "  * X_CR          (X_CR) float64 0.2\n",
      "  * vertex        (vertex) int64 0 1 2 3\n",
      "  * internal_dof  (internal_dof) int64 0 1 2 3 4 5 6 7 8 9 10\n",
      "<xarray.DataArray 'Phase' (P: 1, T: 1, X_AL: 1, X_CO: 1, X_CR: 1, vertex: 4)>\n",
      "array([[[[[['L12_FCC', 'BCC_B2', 'BCC_B2', '']]]]]], dtype=object)\n",
      "Coordinates:\n",
      "  * P        (P) float64 1.013e+05\n",
      "  * T        (T) float64 1.373e+03\n",
      "  * X_AL     (X_AL) float64 0.2\n",
      "  * X_CO     (X_CO) float64 0.2\n",
      "  * X_CR     (X_CR) float64 0.2\n",
      "  * vertex   (vertex) int64 0 1 2 3\n",
      "<xarray.DataArray 'MU' (P: 1, T: 1, X_AL: 1, X_CO: 1, X_CR: 1, component: 4)>\n",
      "array([[[[[[-154178.41917463,  -92774.07801646,  -65904.16677837,\n",
      "             -93475.41604963]]]]]])\n",
      "Coordinates:\n",
      "  * P          (P) float64 1.013e+05\n",
      "  * T          (T) float64 1.373e+03\n",
      "  * X_AL       (X_AL) float64 0.2\n",
      "  * X_CO       (X_CO) float64 0.2\n",
      "  * X_CR       (X_CR) float64 0.2\n",
      "  * component  (component) object 'AL' 'CO' 'CR' 'NI'\n",
      "<xarray.DataArray 'NP' (P: 1, T: 1, X_AL: 1, X_CO: 1, X_CR: 1, vertex: 4)>\n",
      "array([[[[[[ 0.71100819,  0.27966724,  0.00932457,         nan]]]]]])\n",
      "Coordinates:\n",
      "  * P        (P) float64 1.013e+05\n",
      "  * T        (T) float64 1.373e+03\n",
      "  * X_AL     (X_AL) float64 0.2\n",
      "  * X_CO     (X_CO) float64 0.2\n",
      "  * X_CR     (X_CR) float64 0.2\n",
      "  * vertex   (vertex) int64 0 1 2 3\n"
     ]
    }
   ],
   "source": [
    "print(eq.GM)\n",
    "print(eq.X)\n",
    "print(eq.Y)\n",
    "print(eq.Phase)\n",
    "print(eq.MU)\n",
    "print(eq.NP)"
   ]
  },
  {
   "cell_type": "code",
   "execution_count": null,
   "metadata": {
    "collapsed": true
   },
   "outputs": [],
   "source": []
  }
 ],
 "metadata": {
  "kernelspec": {
   "display_name": "Python 3",
   "language": "python",
   "name": "python3"
  },
  "language_info": {
   "codemirror_mode": {
    "name": "ipython",
    "version": 3
   },
   "file_extension": ".py",
   "mimetype": "text/x-python",
   "name": "python",
   "nbconvert_exporter": "python",
   "pygments_lexer": "ipython3",
   "version": "3.5.1"
  }
 },
 "nbformat": 4,
 "nbformat_minor": 0
}
