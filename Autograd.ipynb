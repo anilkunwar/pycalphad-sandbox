{
 "cells": [
  {
   "cell_type": "code",
   "execution_count": 1,
   "metadata": {
    "collapsed": false
   },
   "outputs": [],
   "source": [
    "from pycalphad import Database, Model\n",
    "model = Model(Database('alfe_sei.TDB'), ['AL', 'FE', 'VA'], 'B2_BCC')\n",
    "variables = model.variables"
   ]
  },
  {
   "cell_type": "code",
   "execution_count": 2,
   "metadata": {
    "collapsed": false
   },
   "outputs": [
    {
     "name": "stdout",
     "output_type": "stream",
     "text": [
      "[T, B2_BCC0AL, B2_BCC0FE, B2_BCC1AL, B2_BCC1FE, B2_BCC2VA]\n"
     ]
    }
   ],
   "source": [
    "print(variables)"
   ]
  },
  {
   "cell_type": "code",
   "execution_count": 3,
   "metadata": {
    "collapsed": false
   },
   "outputs": [
    {
     "name": "stdout",
     "output_type": "stream",
     "text": [
      "1 loops, best of 3: 2.14 s per loop\n"
     ]
    }
   ],
   "source": [
    "from pycalphad.core.autograd_utils import build_functions\n",
    "from autograd import elementwise_grad, grad\n",
    "import numpy as np\n",
    "\n",
    "o, g, h = build_functions(model.ast, variables)\n",
    "N = 100\n",
    "M = 100\n",
    "y1 = np.random.rand(M,1)\n",
    "y2 = np.random.rand(M,N)\n",
    "y3 = np.random.rand(M,N)\n",
    "y4 = np.random.rand(M,N)\n",
    "y5 = np.random.rand(M,N)\n",
    "y6 = np.random.rand(M,N)\n",
    "%timeit ans1 = g(y1, y2, y3, y4, y5, y6)"
   ]
  }
 ],
 "metadata": {
  "kernelspec": {
   "display_name": "Python 2",
   "language": "python",
   "name": "python2"
  },
  "language_info": {
   "codemirror_mode": {
    "name": "ipython",
    "version": 2
   },
   "file_extension": ".py",
   "mimetype": "text/x-python",
   "name": "python",
   "nbconvert_exporter": "python",
   "pygments_lexer": "ipython2",
   "version": "2.7.10"
  }
 },
 "nbformat": 4,
 "nbformat_minor": 0
}
