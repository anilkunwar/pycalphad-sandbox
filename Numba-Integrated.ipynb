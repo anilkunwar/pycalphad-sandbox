{
 "cells": [
  {
   "cell_type": "code",
   "execution_count": 1,
   "metadata": {
    "collapsed": false
   },
   "outputs": [
    {
     "name": "stdout",
     "output_type": "stream",
     "text": [
      "(T, FCC_L120AL, FCC_L120NI, FCC_L121AL, FCC_L121NI, FCC_L122AL, FCC_L122NI, FCC_L123AL, FCC_L123NI, FCC_L124VA)\n",
      "[[  1.60000000e+03   5.40478524e-01   5.16085552e-01   4.98416268e-01\n",
      "    6.99731480e-01   5.92997785e-01   2.29976414e-01   9.22020353e-01\n",
      "    4.08862360e-01   4.59521476e-01]]\n"
     ]
    }
   ],
   "source": [
    "from pycalphad import Database, Model\n",
    "from pycalphad.core.utils import NumPyPrinter\n",
    "from pycalphad.core.autograd_utils import build_functions as build_functions_ag\n",
    "from pycalphad.core.sympydiff_utils import make_gradient_from_graph\n",
    "import pycalphad.variables as v\n",
    "from sympy import lambdify\n",
    "import numpy as np\n",
    "import algopy\n",
    "from algopy import UTPM\n",
    "import itertools\n",
    "mod = Model(Database('2016-04-01-AlNi.tdb'), ['AL', 'NI', 'VA'], 'FCC_L12')\n",
    "print(tuple([v.T] + mod.site_fractions))\n",
    "\n",
    "inp_arr = np.tile([[300,0.5,0.5,0.5,0.5,0.5,0.5,0.5,0.5,1], [600, 0.4, 0.6,0.4,0.6,0.4,0.6,0.4,0.6,1]], (300,1))\n",
    "#inp_arr = np.array([[600, 0.4, 0.6,0.4,0.6,0.4,0.6,0.4,0.6,1]])\n",
    "inp_arr = np.random.RandomState(1769).rand(10000, 10)\n",
    "inp_arr[0, 0] = 1600\n",
    "inp_arr[1, 0] = 1600\n",
    "inp_arr[:, -1] = 1 - inp_arr[:, 1]\n",
    "inp_arr = np.expand_dims(inp_arr[1], axis=0)\n",
    "#inp_arr = np.array([[300, 1e-4, 1-1e-4]])\n",
    "print(inp_arr)"
   ]
  },
  {
   "cell_type": "code",
   "execution_count": 2,
   "metadata": {
    "collapsed": false
   },
   "outputs": [
    {
     "name": "stdout",
     "output_type": "stream",
     "text": [
      "CPU times: user 34.9 s, sys: 90 ms, total: 35 s\n",
      "Wall time: 35 s\n"
     ]
    }
   ],
   "source": [
    "obj_ag, grad_ag, hess_ag = build_functions_ag(mod.ast, mod.variables)\n",
    "from numba.compiler import Pipeline, native_lowering_stage\n",
    "from numba.lowering import Lower\n",
    "%time grad_numba, hess_numba = make_gradient_from_graph(mod.ast, mod.variables)"
   ]
  },
  {
   "cell_type": "code",
   "execution_count": 3,
   "metadata": {
    "collapsed": false
   },
   "outputs": [
    {
     "name": "stdout",
     "output_type": "stream",
     "text": [
      "CPU times: user 0 ns, sys: 0 ns, total: 0 ns\n",
      "Wall time: 188 µs\n",
      "CPU times: user 85 ms, sys: 1 ms, total: 86 ms\n",
      "Wall time: 85.6 ms\n"
     ]
    }
   ],
   "source": [
    "import itertools\n",
    "%time g3 = grad_numba(*[inp_arr[..., i] for i in range(inp_arr.shape[-1])])\n",
    "%time g1 = grad_ag(*inp_arr.T)\n"
   ]
  },
  {
   "cell_type": "code",
   "execution_count": 4,
   "metadata": {
    "collapsed": false
   },
   "outputs": [
    {
     "name": "stdout",
     "output_type": "stream",
     "text": [
      "CPU times: user 1e+03 µs, sys: 0 ns, total: 1e+03 µs\n",
      "Wall time: 235 µs\n",
      "CPU times: user 2.29 s, sys: 7 ms, total: 2.29 s\n",
      "Wall time: 2.27 s\n"
     ]
    }
   ],
   "source": [
    "#o1 = obj_ag(*inp_arr.T)\n",
    "%time h3 = hess_numba(*[inp_arr[..., i] for i in range(inp_arr.shape[-1])])\n",
    "%time h1 = hess_ag(*inp_arr.T)"
   ]
  },
  {
   "cell_type": "code",
   "execution_count": 5,
   "metadata": {
    "collapsed": false
   },
   "outputs": [
    {
     "data": {
      "text/plain": [
       "array([[ -3.20865747e+01,  -4.67034156e+04,  -5.65974961e+04,\n",
       "         -4.43548465e+04,  -4.55839415e+04,  -6.11081893e+04,\n",
       "         -8.16752838e+04,  -3.79620528e+04,  -4.48707719e+04,\n",
       "         -1.42145241e+05]])"
      ]
     },
     "execution_count": 5,
     "metadata": {},
     "output_type": "execute_result"
    }
   ],
   "source": [
    "g1"
   ]
  },
  {
   "cell_type": "code",
   "execution_count": 6,
   "metadata": {
    "collapsed": false
   },
   "outputs": [
    {
     "data": {
      "text/plain": [
       "array([[ -3.20865747e+01,  -4.67034156e+04,  -5.65974961e+04,\n",
       "         -4.43548465e+04,  -4.55839415e+04,  -6.11081893e+04,\n",
       "         -8.16752838e+04,  -3.79620528e+04,  -4.48707719e+04,\n",
       "         -1.42145241e+05]])"
      ]
     },
     "execution_count": 6,
     "metadata": {},
     "output_type": "execute_result"
    }
   ],
   "source": [
    "g3"
   ]
  },
  {
   "cell_type": "code",
   "execution_count": 7,
   "metadata": {
    "collapsed": false
   },
   "outputs": [
    {
     "name": "stdout",
     "output_type": "stream",
     "text": [
      "equivalent\n"
     ]
    },
    {
     "ename": "AssertionError",
     "evalue": "\nNot equal to tolerance rtol=1e-07, atol=0\n\n(mismatch 5.0%)\n x: array([[[ -7.699249e-03,  -2.605680e+01,  -2.771574e+01,  -2.395319e+01,\n          -2.308483e+01,  -3.499028e+01,  -3.442843e+01,  -2.165418e+01,\n          -1.892117e+01,  -8.372728e+01],...\n y: array([[[  7.700152e-03,  -2.605680e+01,  -2.771574e+01,  -2.395319e+01,\n          -2.308483e+01,  -3.499028e+01,  -3.442843e+01,  -2.165418e+01,\n          -1.892117e+01,  -8.372728e+01],...",
     "output_type": "error",
     "traceback": [
      "\u001b[1;31m---------------------------------------------------------------------------\u001b[0m",
      "\u001b[1;31mAssertionError\u001b[0m                            Traceback (most recent call last)",
      "\u001b[1;32m<ipython-input-7-bd8f23cc551a>\u001b[0m in \u001b[0;36m<module>\u001b[1;34m()\u001b[0m\n\u001b[0;32m      3\u001b[0m \u001b[0mnumpy\u001b[0m\u001b[1;33m.\u001b[0m\u001b[0mtesting\u001b[0m\u001b[1;33m.\u001b[0m\u001b[0massert_allclose\u001b[0m\u001b[1;33m(\u001b[0m\u001b[0mg1\u001b[0m\u001b[1;33m,\u001b[0m \u001b[0mg3\u001b[0m\u001b[1;33m)\u001b[0m\u001b[1;33m\u001b[0m\u001b[0m\n\u001b[0;32m      4\u001b[0m \u001b[0mprint\u001b[0m\u001b[1;33m(\u001b[0m\u001b[1;34m'equivalent'\u001b[0m\u001b[1;33m)\u001b[0m\u001b[1;33m\u001b[0m\u001b[0m\n\u001b[1;32m----> 5\u001b[1;33m \u001b[0mnumpy\u001b[0m\u001b[1;33m.\u001b[0m\u001b[0mtesting\u001b[0m\u001b[1;33m.\u001b[0m\u001b[0massert_allclose\u001b[0m\u001b[1;33m(\u001b[0m\u001b[0mh1\u001b[0m\u001b[1;33m,\u001b[0m \u001b[0mh3\u001b[0m\u001b[1;33m)\u001b[0m\u001b[1;33m\u001b[0m\u001b[0m\n\u001b[0m\u001b[0;32m      6\u001b[0m \u001b[0mprint\u001b[0m\u001b[1;33m(\u001b[0m\u001b[1;34m'equivalent'\u001b[0m\u001b[1;33m)\u001b[0m\u001b[1;33m\u001b[0m\u001b[0m\n",
      "\u001b[1;32m/home/rotis/anaconda/envs/calphadpy3/lib/python3.5/site-packages/numpy/testing/utils.py\u001b[0m in \u001b[0;36massert_allclose\u001b[1;34m(actual, desired, rtol, atol, equal_nan, err_msg, verbose)\u001b[0m\n\u001b[0;32m   1389\u001b[0m     \u001b[0mheader\u001b[0m \u001b[1;33m=\u001b[0m \u001b[1;34m'Not equal to tolerance rtol=%g, atol=%g'\u001b[0m \u001b[1;33m%\u001b[0m \u001b[1;33m(\u001b[0m\u001b[0mrtol\u001b[0m\u001b[1;33m,\u001b[0m \u001b[0matol\u001b[0m\u001b[1;33m)\u001b[0m\u001b[1;33m\u001b[0m\u001b[0m\n\u001b[0;32m   1390\u001b[0m     assert_array_compare(compare, actual, desired, err_msg=str(err_msg),\n\u001b[1;32m-> 1391\u001b[1;33m                          verbose=verbose, header=header)\n\u001b[0m\u001b[0;32m   1392\u001b[0m \u001b[1;33m\u001b[0m\u001b[0m\n\u001b[0;32m   1393\u001b[0m \u001b[1;32mdef\u001b[0m \u001b[0massert_array_almost_equal_nulp\u001b[0m\u001b[1;33m(\u001b[0m\u001b[0mx\u001b[0m\u001b[1;33m,\u001b[0m \u001b[0my\u001b[0m\u001b[1;33m,\u001b[0m \u001b[0mnulp\u001b[0m\u001b[1;33m=\u001b[0m\u001b[1;36m1\u001b[0m\u001b[1;33m)\u001b[0m\u001b[1;33m:\u001b[0m\u001b[1;33m\u001b[0m\u001b[0m\n",
      "\u001b[1;32m/home/rotis/anaconda/envs/calphadpy3/lib/python3.5/site-packages/numpy/testing/utils.py\u001b[0m in \u001b[0;36massert_array_compare\u001b[1;34m(comparison, x, y, err_msg, verbose, header, precision)\u001b[0m\n\u001b[0;32m    731\u001b[0m                                 names=('x', 'y'), precision=precision)\n\u001b[0;32m    732\u001b[0m             \u001b[1;32mif\u001b[0m \u001b[1;32mnot\u001b[0m \u001b[0mcond\u001b[0m\u001b[1;33m:\u001b[0m\u001b[1;33m\u001b[0m\u001b[0m\n\u001b[1;32m--> 733\u001b[1;33m                 \u001b[1;32mraise\u001b[0m \u001b[0mAssertionError\u001b[0m\u001b[1;33m(\u001b[0m\u001b[0mmsg\u001b[0m\u001b[1;33m)\u001b[0m\u001b[1;33m\u001b[0m\u001b[0m\n\u001b[0m\u001b[0;32m    734\u001b[0m     \u001b[1;32mexcept\u001b[0m \u001b[0mValueError\u001b[0m\u001b[1;33m:\u001b[0m\u001b[1;33m\u001b[0m\u001b[0m\n\u001b[0;32m    735\u001b[0m         \u001b[1;32mimport\u001b[0m \u001b[0mtraceback\u001b[0m\u001b[1;33m\u001b[0m\u001b[0m\n",
      "\u001b[1;31mAssertionError\u001b[0m: \nNot equal to tolerance rtol=1e-07, atol=0\n\n(mismatch 5.0%)\n x: array([[[ -7.699249e-03,  -2.605680e+01,  -2.771574e+01,  -2.395319e+01,\n          -2.308483e+01,  -3.499028e+01,  -3.442843e+01,  -2.165418e+01,\n          -1.892117e+01,  -8.372728e+01],...\n y: array([[[  7.700152e-03,  -2.605680e+01,  -2.771574e+01,  -2.395319e+01,\n          -2.308483e+01,  -3.499028e+01,  -3.442843e+01,  -2.165418e+01,\n          -1.892117e+01,  -8.372728e+01],..."
     ]
    }
   ],
   "source": [
    "import numpy.testing\n",
    "\n",
    "numpy.testing.assert_allclose(g1, g3)\n",
    "print('equivalent')\n",
    "numpy.testing.assert_allclose(h1, h3)\n",
    "print('equivalent')"
   ]
  },
  {
   "cell_type": "code",
   "execution_count": null,
   "metadata": {
    "collapsed": false
   },
   "outputs": [],
   "source": [
    "h1"
   ]
  },
  {
   "cell_type": "code",
   "execution_count": null,
   "metadata": {
    "collapsed": false
   },
   "outputs": [],
   "source": [
    "h3"
   ]
  },
  {
   "cell_type": "code",
   "execution_count": null,
   "metadata": {
    "collapsed": false
   },
   "outputs": [],
   "source": [
    "h1-h3"
   ]
  },
  {
   "cell_type": "code",
   "execution_count": null,
   "metadata": {
    "collapsed": true
   },
   "outputs": [],
   "source": []
  }
 ],
 "metadata": {
  "kernelspec": {
   "display_name": "Python 3",
   "language": "python",
   "name": "python3"
  },
  "language_info": {
   "codemirror_mode": {
    "name": "ipython",
    "version": 3
   },
   "file_extension": ".py",
   "mimetype": "text/x-python",
   "name": "python",
   "nbconvert_exporter": "python",
   "pygments_lexer": "ipython3",
   "version": "3.5.1"
  }
 },
 "nbformat": 4,
 "nbformat_minor": 0
}
