{
 "cells": [
  {
   "cell_type": "code",
   "execution_count": 1,
   "metadata": {
    "collapsed": false
   },
   "outputs": [],
   "source": [
    "from pycalphad import Model, Database, equilibrium, calculate\n",
    "import pycalphad.variables as v\n",
    "import numpy as np\n",
    "    \n",
    "#dbf = Database()\n",
    "#dbf.elements = ['AL', 'NI']\n",
    "#dbf.add_phase('TEST', {}, [1])\n",
    "#dbf.add_phase_constituents('TEST', [['AL', 'NI']])\n",
    "dbf = Database('alfe_sei.TDB')"
   ]
  },
  {
   "cell_type": "code",
   "execution_count": 2,
   "metadata": {
    "collapsed": false,
    "scrolled": true
   },
   "outputs": [
    {
     "name": "stdout",
     "output_type": "stream",
     "text": [
      "Components: AL FE VA\n",
      "Phases: B2_BCC [done]\n",
      "Computing initial grid [806 points, 77.4KB]\n",
      "Computing convex hull [iteration 1]\n",
      "progress 142818.937036 [0 conditions updated]\n",
      "Global search complete\n",
      "Refining equilibrium\n",
      "Chem pot progress 284.173492711\n",
      "Energy progress -309.464038852\n",
      "Chem pot progress 2092.29043602\n",
      "Energy progress 149.536577458\n",
      "Chem pot progress 3134.27348085\n",
      "Energy progress 77.391402103\n",
      "Chem pot progress 3621.11768849\n",
      "Energy progress 39.9879673401\n",
      "Chem pot progress 3847.16163998\n",
      "Energy progress 20.6344384516\n",
      "Chem pot progress 3954.63050032\n",
      "Energy progress 10.6334010746\n",
      "Chem pot progress 4028.98738904\n",
      "Energy progress 5.46890148956\n",
      "Chem pot progress 4185.33608364\n",
      "Energy progress 2.80635540335\n",
      "Chem pot progress 4609.98212553\n",
      "Energy progress 1.44575666573\n",
      "Chem pot progress 5180.25904112\n",
      "Energy progress 0.755227918784\n",
      "Chem pot progress 5060.27446752\n",
      "Energy progress 0.391925270433\n",
      "Chem pot progress 4568.07062585\n",
      "Energy progress 0.201042947079\n",
      "Chem pot progress 4298.88683196\n",
      "Energy progress 0.103006729722\n",
      "Chem pot progress 4161.89181835\n",
      "Energy progress 0.0527449587717\n",
      "Chem pot progress 4088.67562726\n",
      "Energy progress 0.0269922666994\n",
      "Chem pot progress 4042.71727892\n",
      "Energy progress 0.0138050273781\n",
      "Chem pot progress 4001.25801359\n",
      "Energy progress 0.00705597263732\n",
      "Chem pot progress 3944.36683643\n",
      "Energy progress 0.00360374815864\n",
      "Chem pot progress 3846.6181524\n",
      "Energy progress 0.00183882577403\n",
      "Chem pot progress 3670.1690506\n",
      "Energy progress 0.000937029006309\n",
      "Chem pot progress 3364.00001443\n",
      "Energy progress 0.000476578647067\n",
      "Chem pot progress 5767.83957133\n",
      "Energy progress 0.000487536461151\n",
      "Chem pot progress 0.0\n",
      "Energy progress 0.0\n",
      "No progress\n",
      "CPU times: user 12.5 s, sys: 24 ms, total: 12.6 s\n",
      "Wall time: 12.6 s\n"
     ]
    }
   ],
   "source": [
    "%time eq = equilibrium(dbf, ['AL', 'FE', 'VA'], 'B2_BCC', {v.T: 700, v.X('AL'): 1e-12, v.P: 101325},\\\n",
    "                       output='degree_of_ordering', pbar=False, verbose=True)"
   ]
  },
  {
   "cell_type": "code",
   "execution_count": 3,
   "metadata": {
    "collapsed": false
   },
   "outputs": [
    {
     "data": {
      "text/plain": [
       "<xarray.Dataset>\n",
       "Dimensions:             (P: 1, T: 1, X_AL: 1, component: 2, internal_dof: 5, vertex: 2)\n",
       "Coordinates:\n",
       "  * P                   (P) float64 1.013e+05\n",
       "  * T                   (T) float64 700.0\n",
       "  * X_AL                (X_AL) float64 1e-09\n",
       "  * vertex              (vertex) int64 0 1\n",
       "  * component           (component) object 'AL' 'FE'\n",
       "  * internal_dof        (internal_dof) int64 0 1 2 3 4\n",
       "Data variables:\n",
       "    NP                  (P, T, X_AL, vertex) float64 1.0 nan\n",
       "    MU                  (P, T, X_AL, component) float64 -2.282e+05 -2.447e+04\n",
       "    GM                  (P, T, X_AL) float64 -2.447e+04\n",
       "    X                   (P, T, X_AL, vertex, component) float64 1e-09 1.0 ...\n",
       "    Y                   (P, T, X_AL, vertex, internal_dof) float64 1e-09 1.0 ...\n",
       "    Phase               (P, T, X_AL, vertex) object 'B2_BCC' ''\n",
       "    degree_of_ordering  (P, T, X_AL, vertex) float64 4.136e-16 nan\n",
       "Attributes:\n",
       "    hull_iterations: 1\n",
       "    engine: pycalphad 0.3.2+39.gec47451.dirty\n",
       "    solve_iterations: 23\n",
       "    created: 2016-04-10 16:40:14.774088"
      ]
     },
     "execution_count": 3,
     "metadata": {},
     "output_type": "execute_result"
    }
   ],
   "source": [
    "eq"
   ]
  },
  {
   "cell_type": "code",
   "execution_count": 4,
   "metadata": {
    "collapsed": false
   },
   "outputs": [
    {
     "data": {
      "text/plain": [
       "<xarray.DataArray 'X' (P: 1, T: 1, X_AL: 1, vertex: 2, component: 2)>\n",
       "array([[[[[  1.00000000e-09,   9.99999999e-01],\n",
       "          [             nan,              nan]]]]])\n",
       "Coordinates:\n",
       "  * P          (P) float64 1.013e+05\n",
       "  * T          (T) float64 700.0\n",
       "  * X_AL       (X_AL) float64 1e-09\n",
       "  * vertex     (vertex) int64 0 1\n",
       "  * component  (component) object 'AL' 'FE'"
      ]
     },
     "execution_count": 4,
     "metadata": {},
     "output_type": "execute_result"
    }
   ],
   "source": [
    "eq.X"
   ]
  },
  {
   "cell_type": "code",
   "execution_count": 5,
   "metadata": {
    "collapsed": false
   },
   "outputs": [
    {
     "data": {
      "text/plain": [
       "<xarray.DataArray 'Y' (P: 1, T: 1, X_AL: 1, vertex: 2, internal_dof: 5)>\n",
       "array([[[[[  1.00000000e-09,   9.99999999e-01,   1.00000000e-09,\n",
       "             9.99999999e-01,   1.00000000e+00],\n",
       "          [             nan,              nan,              nan,\n",
       "                        nan,              nan]]]]])\n",
       "Coordinates:\n",
       "  * P             (P) float64 1.013e+05\n",
       "  * T             (T) float64 700.0\n",
       "  * X_AL          (X_AL) float64 1e-09\n",
       "  * vertex        (vertex) int64 0 1\n",
       "  * internal_dof  (internal_dof) int64 0 1 2 3 4"
      ]
     },
     "execution_count": 5,
     "metadata": {},
     "output_type": "execute_result"
    }
   ],
   "source": [
    "eq.Y"
   ]
  },
  {
   "cell_type": "code",
   "execution_count": null,
   "metadata": {
    "collapsed": true
   },
   "outputs": [],
   "source": []
  },
  {
   "cell_type": "code",
   "execution_count": null,
   "metadata": {
    "collapsed": true
   },
   "outputs": [],
   "source": []
  }
 ],
 "metadata": {
  "kernelspec": {
   "display_name": "Python 3",
   "language": "python",
   "name": "python3"
  },
  "language_info": {
   "codemirror_mode": {
    "name": "ipython",
    "version": 3
   },
   "file_extension": ".py",
   "mimetype": "text/x-python",
   "name": "python",
   "nbconvert_exporter": "python",
   "pygments_lexer": "ipython3",
   "version": "3.5.1"
  }
 },
 "nbformat": 4,
 "nbformat_minor": 0
}
