{
 "cells": [
  {
   "cell_type": "code",
   "execution_count": 3,
   "metadata": {
    "collapsed": false
   },
   "outputs": [],
   "source": [
    "import numpy as np\n",
    "from pycalphad import Model, Database, calculate, equilibrium\n",
    "from pycalphad.core.compiled_model import CompiledModel\n",
    "import pycalphad.variables as v\n",
    "dbf = Database('alfe_sei.TDB')\n",
    "models = {key: CompiledModel(dbf, ['AL', 'FE', 'VA'], key) for key in dbf.phases.keys()}"
   ]
  },
  {
   "cell_type": "code",
   "execution_count": 4,
   "metadata": {
    "collapsed": false,
    "scrolled": false
   },
   "outputs": [
    {
     "name": "stdout",
     "output_type": "stream",
     "text": [
      "Calculation Backend: Compiled (autowrap)\n",
      "Components: AL FE VA\n",
      "Phases: BCC_A2 [done]\n",
      "('Phases', array(['BCC_A2'], \n",
      "      dtype='<U6'))\n",
      "('step', array([ -6.01202405e-04,   6.01202405e-04,  -2.66405367e-17,\n",
      "         4.69398059e-17,  -1.72517179e+04,  -2.65800736e+04,\n",
      "        -7.26061654e+04,  -3.44833687e+04]))\n",
      "('Site fractions', array([ 0.3,  0.7,  1. ]))\n",
      "('Phase fractions', array([ 1.]))\n",
      "('NEW_L_MULTIPLIERS', array([-17251.71786268, -26580.07358682, -72606.16541156, -34483.36873261]))\n",
      "('Chem pot progress', array([ 82.41973855,  -2.76362506]))\n",
      "('Energy progress', -22.970729499771551)\n",
      "('Driving force', 45.762113524207962)\n",
      "('obj weight', 1.0)\n",
      "('Phases', array(['BCC_A2'], \n",
      "      dtype='<U6'))\n",
      "('step', array([ -2.75267951e-18,  -2.65231812e-17,  -1.34826065e-17,\n",
      "         9.02392987e-17,  -1.72288697e+04,  -2.65800631e+04,\n",
      "        -7.26290280e+04,  -3.45062577e+04]))\n",
      "('Site fractions', array([ 0.3,  0.7,  1. ]))\n",
      "('Phase fractions', array([ 1.]))\n",
      "('NEW_L_MULTIPLIERS', array([-17228.86965737, -26580.06314083, -72629.02795652, -34506.25772957]))\n",
      "('Chem pot progress', array([-22.86254495, -22.88899696]))\n",
      "('Energy progress', 22.881052166121663)\n",
      "('Driving force', 1.4551915228366852e-11)\n",
      "('obj weight', 1.0)\n",
      "('Phases', array(['BCC_A2'], \n",
      "      dtype='<U6'))\n",
      "('step', array([ -2.75267951e-18,  -2.65231812e-17,  -1.34826065e-17,\n",
      "         9.02392987e-17,  -1.72288697e+04,  -2.65800631e+04,\n",
      "        -7.26290280e+04,  -3.45062577e+04]))\n",
      "('Site fractions', array([ 0.3,  0.7,  1. ]))\n",
      "('Phase fractions', array([ 1.]))\n",
      "('NEW_L_MULTIPLIERS', array([-17228.86965737, -26580.06314083, -72629.02795652, -34506.25772957]))\n",
      "('Chem pot progress', array([ 0.,  0.]))\n",
      "('Energy progress', 0.0)\n",
      "('Driving force', 1.4551915228366852e-11)\n",
      "('obj weight', 1.0)\n",
      "No progress\n"
     ]
    },
    {
     "data": {
      "text/plain": [
       "<xarray.Dataset>\n",
       "Dimensions:       (P: 1, T: 1, X_AL: 1, component: 2, internal_dof: 3, vertex: 2)\n",
       "Coordinates:\n",
       "  * P             (P) float64 1.013e+05\n",
       "  * T             (T) float64 700.0\n",
       "  * X_AL          (X_AL) float64 0.3\n",
       "  * vertex        (vertex) int64 0 1\n",
       "  * component     (component) <U2 'AL' 'FE'\n",
       "  * internal_dof  (internal_dof) int64 0 1 2\n",
       "Data variables:\n",
       "    MU            (P, T, X_AL, component) float64 -7.263e+04 -3.451e+04\n",
       "    GM            (P, T, X_AL) float64 -4.594e+04\n",
       "    NP            (P, T, X_AL, vertex) float64 1.0 nan\n",
       "    X             (P, T, X_AL, vertex, component) float64 0.3 0.7 nan nan\n",
       "    Phase         (P, T, X_AL, vertex) <U6 'BCC_A2' ''\n",
       "    Y             (P, T, X_AL, vertex, internal_dof) float64 0.3 0.7 1.0 nan ...\n",
       "Attributes:\n",
       "    hull_iterations: 1\n",
       "    solve_iterations: 3\n",
       "    engine: pycalphad 0.4.2+158.g3471e93.dirty\n",
       "    created: 2017-03-18 18:16:40.404924"
      ]
     },
     "execution_count": 4,
     "metadata": {},
     "output_type": "execute_result"
    }
   ],
   "source": [
    "equilibrium(dbf, ['AL', 'FE', 'VA'], ['BCC_A2'], {v.T: 700, v.X('AL'): 0.3, v.P: 101325}, model=models, verbose=True, _diagnostic=True)"
   ]
  },
  {
   "cell_type": "code",
   "execution_count": null,
   "metadata": {
    "collapsed": false
   },
   "outputs": [],
   "source": [
    "from pycalphad.core.sympydiff_utils import build_functions\n",
    "from pycalphad import Model\n",
    "import pycalphad.variables as v\n",
    "mod = Model(dbf, ['AL', 'FE', 'VA'], 'BCC_A2')\n",
    "obj,grad,hess = build_functions(mod.ast,mod.variables)"
   ]
  },
  {
   "cell_type": "code",
   "execution_count": null,
   "metadata": {
    "collapsed": false
   },
   "outputs": [],
   "source": [
    "hess.kernel(np.asfortranarray([[7.00000000e+02,   2.98217195e-01,\n",
    "         7.01782805e-01,   1.00000000e+00]]), 0)[1:,1:]"
   ]
  },
  {
   "cell_type": "code",
   "execution_count": null,
   "metadata": {
    "collapsed": false
   },
   "outputs": [],
   "source": [
    "grad.kernel(np.asfortranarray([[7.00000000e+02,   2.96346127e-01,\n",
    "         7.03653873e-01,   1.00000000e+00]]), 0)[-1]"
   ]
  },
  {
   "cell_type": "code",
   "execution_count": null,
   "metadata": {
    "collapsed": false
   },
   "outputs": [],
   "source": [
    "(grad.kernel(np.asfortranarray([[7.00000000e+02,   2.98217195e-01,\n",
    "         7.01782805e-01,   1.00000000e+00+1e-12]]), 0)[1:] - grad.kernel(np.asfortranarray([[7.00000000e+02,   2.98217195e-01,\n",
    "         7.01782805e-01,   1.00000000e+00]]), 0)[1:])/1e-12"
   ]
  },
  {
   "cell_type": "code",
   "execution_count": null,
   "metadata": {
    "collapsed": true
   },
   "outputs": [],
   "source": [
    "('fe', 6849.096857268174, 6849.096857294899, 2.6724592316895723e-08)\n",
    "('dof', array([  1.01325000e+05,   7.00000000e+02,   2.96346127e-01,\n",
    "         7.03653873e-01,   1.00000000e+00]))"
   ]
  },
  {
   "cell_type": "code",
   "execution_count": null,
   "metadata": {
    "collapsed": false
   },
   "outputs": [],
   "source": [
    "mod.GM.diff(v.Y('BCC_A2', 1, 'VA'))"
   ]
  },
  {
   "cell_type": "code",
   "execution_count": null,
   "metadata": {
    "collapsed": false
   },
   "outputs": [],
   "source": [
    "8.3145*700*(0.3*np.log(0.3)+0.7*np.log(0.7))"
   ]
  },
  {
   "cell_type": "code",
   "execution_count": null,
   "metadata": {
    "collapsed": true
   },
   "outputs": [],
   "source": []
  }
 ],
 "metadata": {
  "kernelspec": {
   "display_name": "Python 3",
   "language": "python",
   "name": "python3"
  },
  "language_info": {
   "codemirror_mode": {
    "name": "ipython",
    "version": 3
   },
   "file_extension": ".py",
   "mimetype": "text/x-python",
   "name": "python",
   "nbconvert_exporter": "python",
   "pygments_lexer": "ipython3",
   "version": "3.5.2"
  }
 },
 "nbformat": 4,
 "nbformat_minor": 0
}
