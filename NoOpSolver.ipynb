{
 "cells": [
  {
   "cell_type": "code",
   "execution_count": 1,
   "metadata": {
    "collapsed": false,
    "deletable": true,
    "editable": true
   },
   "outputs": [],
   "source": [
    "from pycalphad.core.solver import SolverBase, SolverResult, InteriorPointSolver\n",
    "\n",
    "class NoOpSolver(SolverBase):\n",
    "    ignore_convergence = True\n",
    "    @staticmethod\n",
    "    def solve(prob):\n",
    "        return SolverResult(converged=False, x=prob.x0, chemical_potentials=None)\n",
    "fastsolver = NoOpSolver()\n",
    "ipsolver = InteriorPointSolver(verbose=False)"
   ]
  },
  {
   "cell_type": "code",
   "execution_count": 14,
   "metadata": {
    "collapsed": false,
    "deletable": true,
    "editable": true
   },
   "outputs": [],
   "source": [
    "from pycalphad import Database, equilibrium, variables as v\n",
    "\n",
    "dbf = Database('alzn_mey.tdb')\n",
    "\n",
    "num_runs = 10\n",
    "comps = ['AL', 'ZN', 'VA']\n",
    "conds = {v.T: (300,1000,100), v.X('AL'): 0.7, v.P: 101325}\n",
    "phases = sorted(dbf.phases.keys())\n",
    "\n",
    "# Prime the cache\n",
    "eq = equilibrium(dbf, comps, phases, conds, solver=fastsolver)"
   ]
  },
  {
   "cell_type": "code",
   "execution_count": 15,
   "metadata": {
    "collapsed": false,
    "deletable": true,
    "editable": true
   },
   "outputs": [],
   "source": [
    "import time\n",
    "\n",
    "start = time.perf_counter()\n",
    "\n",
    "for _ in range(num_runs):\n",
    "    eq_exact = equilibrium(dbf, comps, phases, conds, solver=ipsolver)\n",
    "exact_tx = (time.perf_counter() - start) / num_runs"
   ]
  },
  {
   "cell_type": "code",
   "execution_count": 16,
   "metadata": {
    "collapsed": false,
    "deletable": true,
    "editable": true
   },
   "outputs": [],
   "source": [
    "import numpy as np\n",
    "results = []\n",
    "for pdens in [10, 50, 100, 200, 300, 400, 500, 1000, 2000]:\n",
    "    start = time.perf_counter()\n",
    "    for _ in range(num_runs):\n",
    "        eq = equilibrium(dbf, comps, phases, conds, solver=fastsolver, calc_opts={'pdens': pdens})\n",
    "    tx = (time.perf_counter() - start) / num_runs\n",
    "    error = np.abs((eq.MU - eq_exact.MU) / (8.3145 * eq['T']))\n",
    "    results.append((pdens, exact_tx / tx, np.max(error), np.mean(error)))"
   ]
  },
  {
   "cell_type": "code",
   "execution_count": 17,
   "metadata": {
    "collapsed": false,
    "deletable": true,
    "editable": true
   },
   "outputs": [
    {
     "data": {
      "text/plain": [
       "<matplotlib.legend.Legend at 0x7fdf2ce53dd8>"
      ]
     },
     "execution_count": 17,
     "metadata": {},
     "output_type": "execute_result"
    },
    {
     "data": {
      "image/png": "[encoded data removed]",
      "text/plain": [
       "<matplotlib.figure.Figure at 0x7fdf2d308dd8>"
      ]
     },
     "metadata": {},
     "output_type": "display_data"
    }
   ],
   "source": [
    "%matplotlib inline\n",
    "import matplotlib.pyplot as plt\n",
    "pdens, tx, max_err, mean_err = zip(*results)\n",
    "\n",
    "fig = plt.figure()\n",
    "ax1 = fig.gca()\n",
    "ax1.set_title('NoOpSolver Performance')\n",
    "ax1.set_ylabel('Speedup', color='r')\n",
    "ax1.plot(pdens, tx, color='r')\n",
    "ax1.tick_params('y', colors='r')\n",
    "ax1.set_xlabel('Point Density')\n",
    "\n",
    "ax2 = ax1.twinx()\n",
    "ax2.set_yscale('log')\n",
    "ax2.set_ylabel('Chem. Pot. Error/RT', color='b')\n",
    "ax2.plot(pdens, max_err, color='b', label='Max')\n",
    "ax2.plot(pdens, mean_err, color='b', dashes=[6,2], label='Avg')\n",
    "ax2.tick_params('y', colors='b')\n",
    "ax2.legend(loc='best')"
   ]
  },
  {
   "cell_type": "code",
   "execution_count": null,
   "metadata": {
    "collapsed": true,
    "deletable": true,
    "editable": true
   },
   "outputs": [],
   "source": []
  }
 ],
 "metadata": {
  "kernelspec": {
   "display_name": "Python 3",
   "language": "python",
   "name": "python3"
  },
  "language_info": {
   "codemirror_mode": {
    "name": "ipython",
    "version": 3
   },
   "file_extension": ".py",
   "mimetype": "text/x-python",
   "name": "python",
   "nbconvert_exporter": "python",
   "pygments_lexer": "ipython3",
   "version": "3.5.2"
  }
 },
 "nbformat": 4,
 "nbformat_minor": 2
}
