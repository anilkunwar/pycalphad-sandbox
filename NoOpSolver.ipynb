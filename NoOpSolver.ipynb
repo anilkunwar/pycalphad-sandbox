{
 "cells": [
  {
   "cell_type": "code",
   "execution_count": 1,
   "metadata": {
    "collapsed": false
   },
   "outputs": [],
   "source": [
    "from pycalphad.core.solver import SolverBase, SolverResult, InteriorPointSolver\n",
    "\n",
    "class NoOpSolver(SolverBase):\n",
    "    ignore_convergence = True\n",
    "    @staticmethod\n",
    "    def solve(prob):\n",
    "        return SolverResult(converged=False, x=prob.x0, chemical_potentials=None)\n",
    "fastsolver = NoOpSolver()\n",
    "ipsolver = InteriorPointSolver(verbose=False)"
   ]
  },
  {
   "cell_type": "code",
   "execution_count": null,
   "metadata": {
    "collapsed": true
   },
   "outputs": [],
   "source": []
  },
  {
   "cell_type": "code",
   "execution_count": null,
   "metadata": {
    "collapsed": false
   },
   "outputs": [],
   "source": [
    "from pycalphad import Database, equilibrium, variables as v\n",
    "\n",
    "dbf = Database('alzn_mey.tdb')\n",
    "\n",
    "num_runs = 10\n",
    "comps = ['AL', 'ZN', 'VA']\n",
    "conds = {v.T: (300, 2000, 50), v.X('AL'): (0,1,0.02), v.P: 101325}\n",
    "phases = sorted(dbf.phases.keys())\n",
    "\n",
    "# Prime the cache\n",
    "eq = equilibrium(dbf, comps, phases, conds, solver=fastsolver)"
   ]
  },
  {
   "cell_type": "code",
   "execution_count": null,
   "metadata": {
    "collapsed": false
   },
   "outputs": [],
   "source": [
    "import time\n",
    "\n",
    "\n",
    "start = time.perf_counter()\n",
    "\n",
    "for _ in range(num_runs):\n",
    "    eq_exact = equilibrium(dbf, comps, phases, conds, solver=ipsolver)\n",
    "exact_tx = (time.perf_counter() - start) / num_runs"
   ]
  },
  {
   "cell_type": "code",
   "execution_count": null,
   "metadata": {
    "collapsed": false
   },
   "outputs": [],
   "source": [
    "import numpy as np\n",
    "results = []\n",
    "for pdens in [10, 50, 100, 200, 300, 400, 500]:\n",
    "    start = time.perf_counter()\n",
    "    for _ in range(num_runs):\n",
    "        eq = equilibrium(dbf, comps, phases, conds, solver=fastsolver, calc_opts={'pdens': pdens})\n",
    "    tx = (time.perf_counter() - start) / num_runs\n",
    "    results.append((pdens, exact_tx / tx, np.max(np.abs(eq.MU.values - eq_exact.MU.values))))"
   ]
  },
  {
   "cell_type": "code",
   "execution_count": null,
   "metadata": {
    "collapsed": false
   },
   "outputs": [],
   "source": [
    "%matplotlib inline\n",
    "import matplotlib.pyplot as plt\n",
    "pdens, tx, err = zip(*results)\n",
    "\n",
    "fig = plt.figure()\n",
    "ax1 = fig.gca()\n",
    "ax1.set_title('NoOpSolver Performance')\n",
    "ax1.set_ylabel('Speedup', color='r')\n",
    "ax1.plot(pdens, tx, color='r')\n",
    "ax1.tick_params('y', colors='r')\n",
    "ax1.set_xlabel('Point Density')\n",
    "\n",
    "ax2 = ax1.twinx()\n",
    "ax2.set_yscale('log')\n",
    "ax2.set_ylabel('Max Chem. Pot. Error (J/mol-atom)', color='b')\n",
    "ax2.plot(pdens, err, color='b')\n",
    "ax2.tick_params('y', colors='b')"
   ]
  },
  {
   "cell_type": "code",
   "execution_count": null,
   "metadata": {
    "collapsed": true
   },
   "outputs": [],
   "source": []
  }
 ],
 "metadata": {
  "kernelspec": {
   "display_name": "Python 3",
   "language": "python",
   "name": "python3"
  },
  "language_info": {
   "codemirror_mode": {
    "name": "ipython",
    "version": 3
   },
   "file_extension": ".py",
   "mimetype": "text/x-python",
   "name": "python",
   "nbconvert_exporter": "python",
   "pygments_lexer": "ipython3",
   "version": "3.5.2"
  }
 },
 "nbformat": 4,
 "nbformat_minor": 2
}
