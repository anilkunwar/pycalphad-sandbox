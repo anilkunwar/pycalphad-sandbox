{
 "cells": [
  {
   "cell_type": "code",
   "execution_count": 1,
   "metadata": {
    "collapsed": true
   },
   "outputs": [],
   "source": [
    "from pycalphad import Database\n",
    "from pycalphad.tests.datasets import DIFFUSION_TDB, ALFE_TDB, ALNIPT_TDB"
   ]
  },
  {
   "cell_type": "code",
   "execution_count": 2,
   "metadata": {
    "collapsed": false
   },
   "outputs": [],
   "source": [
    "dbf = Database(ALNIPT_TDB)"
   ]
  },
  {
   "cell_type": "code",
   "execution_count": 3,
   "metadata": {
    "collapsed": false,
    "scrolled": false
   },
   "outputs": [
    {
     "name": "stdout",
     "output_type": "stream",
     "text": [
      "True\n",
      "PT2AL3 eq\n",
      "AL3NI5 eq\n",
      "ALPT eq\n",
      "AL3NI2 eq\n",
      "ALPT2 eq\n",
      "PT5AL21 eq\n",
      "FCC_L12 eq\n",
      "FCC_A1 eq\n",
      "BCC_B2 eq\n",
      "AL3NI1 eq\n",
      "PT2AL eq\n",
      "LIQUID eq\n",
      "PT8AL21 eq\n",
      "PT5AL3 eq\n"
     ]
    }
   ],
   "source": [
    "other = Database.from_string(dbf.to_string(fmt='tdb'), fmt='tdb')\n",
    "\n",
    "print(dbf.phases.keys() == other.phases.keys())\n",
    "for phase in dbf.phases.keys():\n",
    "    if dbf.phases[phase] != other.phases[phase]:\n",
    "        print(phase + ' differs')\n",
    "    else:\n",
    "        print(phase + ' eq')"
   ]
  },
  {
   "cell_type": "code",
   "execution_count": 4,
   "metadata": {
    "collapsed": false
   },
   "outputs": [
    {
     "data": {
      "text/plain": [
       "True"
      ]
     },
     "execution_count": 4,
     "metadata": {},
     "output_type": "execute_result"
    }
   ],
   "source": [
    "dbf == other"
   ]
  },
  {
   "cell_type": "code",
   "execution_count": 5,
   "metadata": {
    "collapsed": false,
    "scrolled": false
   },
   "outputs": [
    {
     "name": "stdout",
     "output_type": "stream",
     "text": [
      "eq\n",
      "eq\n",
      "eq\n",
      "eq\n",
      "eq\n",
      "eq\n",
      "eq\n",
      "eq\n",
      "eq\n",
      "eq\n",
      "eq\n",
      "eq\n",
      "eq\n",
      "eq\n",
      "eq\n",
      "eq\n",
      "eq\n",
      "eq\n",
      "eq\n",
      "eq\n",
      "eq\n",
      "eq\n",
      "eq\n",
      "eq\n",
      "eq\n",
      "eq\n",
      "eq\n",
      "eq\n",
      "eq\n",
      "eq\n",
      "eq\n",
      "eq\n",
      "eq\n",
      "eq\n",
      "eq\n",
      "eq\n",
      "eq\n",
      "eq\n",
      "eq\n",
      "eq\n",
      "eq\n",
      "eq\n",
      "eq\n",
      "eq\n",
      "eq\n",
      "eq\n",
      "eq\n",
      "eq\n",
      "eq\n",
      "eq\n",
      "eq\n",
      "eq\n",
      "eq\n",
      "eq\n",
      "eq\n",
      "eq\n",
      "eq\n",
      "eq\n",
      "eq\n",
      "eq\n",
      "eq\n",
      "eq\n",
      "eq\n",
      "eq\n",
      "eq\n",
      "eq\n",
      "eq\n",
      "eq\n",
      "eq\n",
      "eq\n",
      "eq\n",
      "eq\n",
      "eq\n",
      "eq\n",
      "eq\n",
      "eq\n",
      "eq\n",
      "eq\n",
      "eq\n",
      "eq\n",
      "eq\n",
      "eq\n",
      "eq\n",
      "eq\n",
      "eq\n",
      "eq\n",
      "eq\n",
      "eq\n",
      "eq\n",
      "eq\n",
      "eq\n",
      "eq\n",
      "eq\n",
      "eq\n",
      "eq\n",
      "eq\n",
      "eq\n",
      "eq\n",
      "eq\n",
      "eq\n",
      "eq\n",
      "eq\n",
      "eq\n",
      "eq\n",
      "eq\n",
      "eq\n",
      "eq\n",
      "eq\n",
      "eq\n",
      "eq\n",
      "eq\n",
      "eq\n",
      "eq\n",
      "eq\n",
      "eq\n",
      "eq\n",
      "eq\n",
      "eq\n",
      "eq\n",
      "eq\n",
      "eq\n",
      "eq\n",
      "eq\n",
      "eq\n",
      "eq\n",
      "eq\n",
      "eq\n",
      "eq\n",
      "eq\n",
      "eq\n",
      "eq\n",
      "eq\n",
      "eq\n",
      "eq\n",
      "eq\n",
      "eq\n",
      "eq\n",
      "eq\n",
      "eq\n",
      "eq\n",
      "eq\n",
      "eq\n",
      "eq\n",
      "eq\n",
      "eq\n",
      "eq\n",
      "eq\n",
      "eq\n",
      "eq\n",
      "eq\n",
      "eq\n",
      "eq\n",
      "eq\n",
      "eq\n",
      "eq\n",
      "eq\n",
      "eq\n",
      "eq\n",
      "eq\n",
      "eq\n",
      "eq\n",
      "eq\n",
      "eq\n",
      "eq\n",
      "eq\n",
      "eq\n",
      "eq\n",
      "eq\n",
      "eq\n",
      "eq\n",
      "eq\n",
      "eq\n",
      "eq\n",
      "eq\n",
      "eq\n",
      "eq\n",
      "eq\n",
      "eq\n",
      "eq\n",
      "eq\n",
      "eq\n",
      "eq\n",
      "eq\n",
      "eq\n",
      "eq\n",
      "eq\n",
      "eq\n",
      "eq\n",
      "eq\n",
      "eq\n",
      "eq\n",
      "eq\n",
      "eq\n",
      "eq\n",
      "eq\n",
      "eq\n",
      "eq\n",
      "eq\n",
      "eq\n",
      "eq\n",
      "eq\n",
      "eq\n",
      "eq\n",
      "eq\n",
      "eq\n",
      "eq\n",
      "eq\n",
      "eq\n",
      "eq\n",
      "eq\n",
      "eq\n",
      "eq\n",
      "eq\n",
      "eq\n",
      "eq\n",
      "eq\n",
      "eq\n",
      "eq\n",
      "eq\n",
      "eq\n",
      "eq\n",
      "eq\n",
      "eq\n",
      "eq\n",
      "eq\n",
      "eq\n",
      "eq\n",
      "eq\n",
      "eq\n",
      "eq\n",
      "eq\n",
      "eq\n",
      "eq\n",
      "eq\n",
      "eq\n",
      "eq\n",
      "eq\n",
      "eq\n",
      "eq\n",
      "eq\n",
      "eq\n",
      "eq\n",
      "eq\n",
      "eq\n",
      "eq\n",
      "eq\n",
      "eq\n",
      "eq\n",
      "eq\n",
      "eq\n",
      "eq\n",
      "eq\n",
      "eq\n",
      "eq\n",
      "eq\n",
      "eq\n",
      "eq\n",
      "eq\n",
      "eq\n",
      "eq\n",
      "eq\n",
      "eq\n",
      "eq\n",
      "eq\n",
      "eq\n",
      "eq\n",
      "eq\n",
      "eq\n",
      "eq\n",
      "eq\n",
      "eq\n",
      "eq\n",
      "eq\n",
      "eq\n",
      "eq\n",
      "eq\n",
      "eq\n",
      "eq\n",
      "eq\n",
      "eq\n",
      "eq\n",
      "eq\n",
      "eq\n",
      "eq\n",
      "eq\n",
      "eq\n",
      "eq\n",
      "eq\n",
      "eq\n",
      "eq\n",
      "eq\n",
      "eq\n",
      "eq\n",
      "eq\n",
      "eq\n",
      "eq\n",
      "eq\n"
     ]
    }
   ],
   "source": [
    "def param_sort_key(x):\n",
    "    return x['phase_name'], x['parameter_type'], x['constituent_array'], x['parameter_order'], x['diffusing_species']\n",
    "\n",
    "self_params = sorted(dbf._parameters.all(), key=param_sort_key)\n",
    "other_params = sorted(other._parameters.all(), key=param_sort_key)\n",
    "self_params == other_params\n",
    "for s, o in zip(self_params, other_params):\n",
    "    if s != o:\n",
    "        if s['parameter'] != o['parameter']:\n",
    "            print('params differ')\n",
    "            print('self', s['parameter'])\n",
    "            print('other', o['parameter'])\n",
    "    else:\n",
    "        print('eq')"
   ]
  },
  {
   "cell_type": "code",
   "execution_count": 6,
   "metadata": {
    "collapsed": false
   },
   "outputs": [
    {
     "ename": "NameError",
     "evalue": "name 'operator' is not defined",
     "output_type": "error",
     "traceback": [
      "\u001b[1;31m---------------------------------------------------------------------------\u001b[0m",
      "\u001b[1;31mNameError\u001b[0m                                 Traceback (most recent call last)",
      "\u001b[1;32m<ipython-input-6-6fa973bf34f8>\u001b[0m in \u001b[0;36m<module>\u001b[1;34m()\u001b[0m\n\u001b[1;32m----> 1\u001b[1;33m \u001b[0mone\u001b[0m \u001b[1;33m=\u001b[0m \u001b[0msorted\u001b[0m\u001b[1;33m(\u001b[0m\u001b[0mself_params\u001b[0m\u001b[1;33m[\u001b[0m\u001b[1;36m0\u001b[0m\u001b[1;33m]\u001b[0m\u001b[1;33m.\u001b[0m\u001b[0mitems\u001b[0m\u001b[1;33m(\u001b[0m\u001b[1;33m)\u001b[0m\u001b[1;33m,\u001b[0m \u001b[0mkey\u001b[0m\u001b[1;33m=\u001b[0m\u001b[0moperator\u001b[0m\u001b[1;33m.\u001b[0m\u001b[0mitemgetter\u001b[0m\u001b[1;33m(\u001b[0m\u001b[1;36m0\u001b[0m\u001b[1;33m)\u001b[0m\u001b[1;33m)\u001b[0m\u001b[1;33m\u001b[0m\u001b[0m\n\u001b[0m",
      "\u001b[1;31mNameError\u001b[0m: name 'operator' is not defined"
     ]
    }
   ],
   "source": [
    "one = sorted(self_params[0].items(), key=operator.itemgetter(0))"
   ]
  },
  {
   "cell_type": "code",
   "execution_count": null,
   "metadata": {
    "collapsed": false
   },
   "outputs": [],
   "source": [
    "two = sorted(other_params[0].items(), key=operator.itemgetter(0))"
   ]
  },
  {
   "cell_type": "code",
   "execution_count": null,
   "metadata": {
    "collapsed": false
   },
   "outputs": [],
   "source": [
    "one == two"
   ]
  },
  {
   "cell_type": "code",
   "execution_count": null,
   "metadata": {
    "collapsed": false
   },
   "outputs": [],
   "source": [
    "one[2][1]"
   ]
  },
  {
   "cell_type": "code",
   "execution_count": null,
   "metadata": {
    "collapsed": false
   },
   "outputs": [],
   "source": [
    "two[2][1]"
   ]
  },
  {
   "cell_type": "code",
   "execution_count": null,
   "metadata": {
    "collapsed": false
   },
   "outputs": [],
   "source": [
    "one[2][1].args[1].args[1] == two[2][1].args[1].args[1]"
   ]
  },
  {
   "cell_type": "code",
   "execution_count": null,
   "metadata": {
    "collapsed": false
   },
   "outputs": [],
   "source": [
    "import numpy as np\n",
    "np.array(one[2][1].args[1].args[0], dtype=np.longdouble)"
   ]
  },
  {
   "cell_type": "code",
   "execution_count": null,
   "metadata": {
    "collapsed": false
   },
   "outputs": [],
   "source": [
    "np.array(two[2][1].args[1].args[0], dtype=np.longdouble)"
   ]
  },
  {
   "cell_type": "code",
   "execution_count": null,
   "metadata": {
    "collapsed": false
   },
   "outputs": [],
   "source": [
    "from sympy import sympify\n",
    "sympy.evaluate.global_evaluate = False\n",
    "sympify('ln(-5.01E-4, evaluate=False)', evaluate=False).__class__"
   ]
  },
  {
   "cell_type": "code",
   "execution_count": null,
   "metadata": {
    "collapsed": false
   },
   "outputs": [],
   "source": [
    "sympify('ln(x)', evaluate=False).xreplace({'x': 5.01E-4})"
   ]
  },
  {
   "cell_type": "code",
   "execution_count": null,
   "metadata": {
    "collapsed": false
   },
   "outputs": [],
   "source": [
    "sympy.S(5.01e-4).__class__"
   ]
  },
  {
   "cell_type": "code",
   "execution_count": null,
   "metadata": {
    "collapsed": true
   },
   "outputs": [],
   "source": []
  }
 ],
 "metadata": {
  "kernelspec": {
   "display_name": "Python 3",
   "language": "python",
   "name": "python3"
  },
  "language_info": {
   "codemirror_mode": {
    "name": "ipython",
    "version": 3
   },
   "file_extension": ".py",
   "mimetype": "text/x-python",
   "name": "python",
   "nbconvert_exporter": "python",
   "pygments_lexer": "ipython3",
   "version": "3.5.1"
  }
 },
 "nbformat": 4,
 "nbformat_minor": 0
}
