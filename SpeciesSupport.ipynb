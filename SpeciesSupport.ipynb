{
 "cells": [
  {
   "cell_type": "code",
   "execution_count": 1,
   "metadata": {
    "collapsed": false
   },
   "outputs": [],
   "source": [
    "from pycalphad import Database, Model"
   ]
  },
  {
   "cell_type": "code",
   "execution_count": 2,
   "metadata": {
    "collapsed": false
   },
   "outputs": [],
   "source": [
    "dbf = Database(open('cuo_05sch.tdb', encoding='latin-1'))"
   ]
  },
  {
   "cell_type": "code",
   "execution_count": 3,
   "metadata": {
    "collapsed": false
   },
   "outputs": [
    {
     "data": {
      "text/plain": [
       "Phase({'model_hints': {}, 'name': 'IONIC_LIQ', 'constituents': (frozenset({Species('CU+1', 'CU1.0', charge=1), Species('CU+3', 'CU1.0', charge=3), Species('CU+2', 'CU1.0', charge=2)}), frozenset({Species('VA', 'VA1'), Species('O-2', 'O1.0', charge=-2)})), 'sublattices': (1.0, 1.0)})"
      ]
     },
     "execution_count": 3,
     "metadata": {},
     "output_type": "execute_result"
    }
   ],
   "source": [
    "dbf.phases['IONIC_LIQ']"
   ]
  },
  {
   "cell_type": "code",
   "execution_count": 4,
   "metadata": {
    "collapsed": false
   },
   "outputs": [
    {
     "name": "stdout",
     "output_type": "stream",
     "text": [
      "[(IONIC_LIQ0CU_POS1 + 2*IONIC_LIQ0CU_POS2 + 3*IONIC_LIQ0CU_POS3)/(1.0*IONIC_LIQ0CU_POS1 + 1.0*IONIC_LIQ0CU_POS2 + 1.0*IONIC_LIQ0CU_POS3 + 1.0*IONIC_LIQ1O_NEG2), 2*IONIC_LIQ1O_NEG2/(1.0*IONIC_LIQ0CU_POS1 + 1.0*IONIC_LIQ0CU_POS2 + 1.0*IONIC_LIQ0CU_POS3 + 1.0*IONIC_LIQ1O_NEG2)]\n"
     ]
    }
   ],
   "source": [
    "mod = Model(dbf, ['CU', 'O', \"VA\"], 'IONIC_LIQ')"
   ]
  },
  {
   "cell_type": "code",
   "execution_count": 5,
   "metadata": {
    "collapsed": false
   },
   "outputs": [
    {
     "name": "stdout",
     "output_type": "stream",
     "text": [
      "[(IONIC_LIQ0CU_POS1 + 2*IONIC_LIQ0CU_POS2 + 3*IONIC_LIQ0CU_POS3)/(1.0*IONIC_LIQ0CU_POS1 + 1.0*IONIC_LIQ0CU_POS2 + 1.0*IONIC_LIQ0CU_POS3 + 1.0*IONIC_LIQ1O_NEG2), 2*IONIC_LIQ1O_NEG2/(1.0*IONIC_LIQ0CU_POS1 + 1.0*IONIC_LIQ0CU_POS2 + 1.0*IONIC_LIQ0CU_POS3 + 1.0*IONIC_LIQ1O_NEG2)]\n"
     ]
    }
   ],
   "source": [
    "from pycalphad import calculate\n",
    "res =calculate(dbf, ['CU', 'O', 'VA'], 'IONIC_LIQ', T=2000, P=1e5, points=[[8.42222E-02, 2.38784E-01, 6.76994E-01, 8.13918E-01, 1.86082E-01]])"
   ]
  },
  {
   "cell_type": "code",
   "execution_count": 6,
   "metadata": {
    "collapsed": false
   },
   "outputs": [
    {
     "data": {
      "text/plain": [
       "<xarray.DataArray 'X' (P: 1, T: 1, points: 1, component: 7, element: 2)>\n",
       "array([[[[[ 0.        ,  0.        ],\n",
       "          [ 0.0464311 ,  0.        ],\n",
       "          [ 0.13163991,  0.        ],\n",
       "          [ 0.37322194,  0.        ],\n",
       "          [ 0.        ,  0.        ],\n",
       "          [ 0.        ,  0.44870716],\n",
       "          [ 0.        ,  0.        ]]]]])\n",
       "Coordinates:\n",
       "  * T          (T) float64 2e+03\n",
       "  * element    (element) <U2 'CU' 'O'\n",
       "  * component  (component) <U4 'CU' 'CU+1' 'CU+2' 'CU+3' 'O' 'O-2' 'O2'\n",
       "  * P          (P) float64 1e+05\n",
       "  * points     (points) int64 0"
      ]
     },
     "execution_count": 6,
     "metadata": {},
     "output_type": "execute_result"
    }
   ],
   "source": [
    "res.X"
   ]
  },
  {
   "cell_type": "code",
   "execution_count": 7,
   "metadata": {
    "collapsed": false
   },
   "outputs": [
    {
     "data": {
      "text/plain": [
       "<xarray.DataArray 'component' (component: 7)>\n",
       "array(['CU', 'CU+1', 'CU+2', 'CU+3', 'O', 'O-2', 'O2'], \n",
       "      dtype='<U4')\n",
       "Coordinates:\n",
       "  * component  (component) <U4 'CU' 'CU+1' 'CU+2' 'CU+3' 'O' 'O-2' 'O2'"
      ]
     },
     "execution_count": 7,
     "metadata": {},
     "output_type": "execute_result"
    }
   ],
   "source": [
    "res.component"
   ]
  },
  {
   "cell_type": "code",
   "execution_count": 8,
   "metadata": {
    "collapsed": false
   },
   "outputs": [
    {
     "data": {
      "text/plain": [
       "<xarray.DataArray 'Y' (P: 1, T: 1, points: 1, internal_dof: 5)>\n",
       "array([[[[ 0.0842222,  0.238784 ,  0.676994 ,  0.813918 ,  0.186082 ]]]])\n",
       "Coordinates:\n",
       "  * T             (T) float64 2e+03\n",
       "  * P             (P) float64 1e+05\n",
       "  * points        (points) int64 0\n",
       "  * internal_dof  (internal_dof) int64 0 1 2 3 4"
      ]
     },
     "execution_count": 8,
     "metadata": {},
     "output_type": "execute_result"
    }
   ],
   "source": [
    "res.Y"
   ]
  },
  {
   "cell_type": "code",
   "execution_count": 9,
   "metadata": {
    "collapsed": false
   },
   "outputs": [
    {
     "data": {
      "text/plain": [
       "[T,\n",
       " IONIC_LIQ0CU_POS1,\n",
       " IONIC_LIQ0CU_POS2,\n",
       " IONIC_LIQ0CU_POS3,\n",
       " IONIC_LIQ1O_NEG2,\n",
       " IONIC_LIQ1VA]"
      ]
     },
     "execution_count": 9,
     "metadata": {},
     "output_type": "execute_result"
    }
   ],
   "source": [
    "mod.variables"
   ]
  },
  {
   "cell_type": "code",
   "execution_count": 10,
   "metadata": {
    "collapsed": false
   },
   "outputs": [
    {
     "data": {
      "text/plain": [
       "[Species('CU+1', 'CU1.0', charge=1),\n",
       " Species('CU+2', 'CU1.0', charge=2),\n",
       " Species('CU+3', 'CU1.0', charge=3),\n",
       " Species('O-2', 'O1.0', charge=-2),\n",
       " Species('VA', 'VA1')]"
      ]
     },
     "execution_count": 10,
     "metadata": {},
     "output_type": "execute_result"
    }
   ],
   "source": [
    "mod.components"
   ]
  },
  {
   "cell_type": "code",
   "execution_count": 11,
   "metadata": {
    "collapsed": false
   },
   "outputs": [
    {
     "data": {
      "text/plain": [
       "{Species('CU', 'CU1'),\n",
       " Species('CU+1', 'CU1.0', charge=1),\n",
       " Species('CU+2', 'CU1.0', charge=2),\n",
       " Species('CU+3', 'CU1.0', charge=3),\n",
       " Species('O', 'O1'),\n",
       " Species('O-2', 'O1.0', charge=-2),\n",
       " Species('O2', 'O2.0'),\n",
       " Species('VA', 'VA1')}"
      ]
     },
     "execution_count": 11,
     "metadata": {},
     "output_type": "execute_result"
    }
   ],
   "source": [
    "from pycalphad.core.utils import unpack_components\n",
    "unpack_components(dbf, ['CU', 'O', 'VA'])"
   ]
  },
  {
   "cell_type": "code",
   "execution_count": 12,
   "metadata": {
    "collapsed": false
   },
   "outputs": [
    {
     "data": {
      "text/plain": [
       "<xarray.Dataset>\n",
       "Dimensions:       (P: 1, T: 1, component: 7, element: 2, internal_dof: 5, points: 1)\n",
       "Coordinates:\n",
       "  * T             (T) float64 2e+03\n",
       "  * element       (element) <U2 'CU' 'O'\n",
       "  * component     (component) <U4 'CU' 'CU+1' 'CU+2' 'CU+3' 'O' 'O-2' 'O2'\n",
       "  * P             (P) float64 1e+05\n",
       "  * points        (points) int64 0\n",
       "  * internal_dof  (internal_dof) int64 0 1 2 3 4\n",
       "Data variables:\n",
       "    Y             (P, T, points, internal_dof) float64 0.08422 0.2388 0.677 ...\n",
       "    Phase         (P, T, points) <U9 'IONIC_LIQ'\n",
       "    GM            (P, T, points) float64 -2.653e+04\n",
       "    X             (P, T, points, component, element) float64 0.0 0.0 0.04643 ..."
      ]
     },
     "execution_count": 12,
     "metadata": {},
     "output_type": "execute_result"
    }
   ],
   "source": [
    "res"
   ]
  },
  {
   "cell_type": "code",
   "execution_count": 13,
   "metadata": {
    "collapsed": false
   },
   "outputs": [
    {
     "data": {
      "text/plain": [
       "<xarray.DataArray 'Y' (P: 1, T: 1, points: 1, internal_dof: 5)>\n",
       "array([[[[ 0.0842222,  0.238784 ,  0.676994 ,  0.813918 ,  0.186082 ]]]])\n",
       "Coordinates:\n",
       "  * T             (T) float64 2e+03\n",
       "  * P             (P) float64 1e+05\n",
       "  * points        (points) int64 0\n",
       "  * internal_dof  (internal_dof) int64 0 1 2 3 4"
      ]
     },
     "execution_count": 13,
     "metadata": {},
     "output_type": "execute_result"
    }
   ],
   "source": [
    "res.Y"
   ]
  },
  {
   "cell_type": "code",
   "execution_count": 14,
   "metadata": {
    "collapsed": false
   },
   "outputs": [
    {
     "data": {
      "text/plain": [
       "8.3145*T*(2*IONIC_LIQ1O_NEG2*Piecewise((IONIC_LIQ1O_NEG2*log(IONIC_LIQ1O_NEG2), IONIC_LIQ1O_NEG2 > 1.0e-13), (0, True))/(1.0*IONIC_LIQ0CU_POS1 + 1.0*IONIC_LIQ0CU_POS2 + 1.0*IONIC_LIQ0CU_POS3 + 1.0*IONIC_LIQ1O_NEG2) + 2*IONIC_LIQ1O_NEG2*Piecewise((IONIC_LIQ1VA*log(IONIC_LIQ1VA), IONIC_LIQ1VA > 1.0e-13), (0, True))/(1.0*IONIC_LIQ0CU_POS1 + 1.0*IONIC_LIQ0CU_POS2 + 1.0*IONIC_LIQ0CU_POS3 + 1.0*IONIC_LIQ1O_NEG2) + (IONIC_LIQ0CU_POS1 + 2*IONIC_LIQ0CU_POS2 + 3*IONIC_LIQ0CU_POS3)*Piecewise((IONIC_LIQ0CU_POS1*log(IONIC_LIQ0CU_POS1), IONIC_LIQ0CU_POS1 > 1.0e-13), (0, True))/(1.0*IONIC_LIQ0CU_POS1 + 1.0*IONIC_LIQ0CU_POS2 + 1.0*IONIC_LIQ0CU_POS3 + 1.0*IONIC_LIQ1O_NEG2) + (IONIC_LIQ0CU_POS1 + 2*IONIC_LIQ0CU_POS2 + 3*IONIC_LIQ0CU_POS3)*Piecewise((IONIC_LIQ0CU_POS2*log(IONIC_LIQ0CU_POS2), IONIC_LIQ0CU_POS2 > 1.0e-13), (0, True))/(1.0*IONIC_LIQ0CU_POS1 + 1.0*IONIC_LIQ0CU_POS2 + 1.0*IONIC_LIQ0CU_POS3 + 1.0*IONIC_LIQ1O_NEG2) + (IONIC_LIQ0CU_POS1 + 2*IONIC_LIQ0CU_POS2 + 3*IONIC_LIQ0CU_POS3)*Piecewise((IONIC_LIQ0CU_POS3*log(IONIC_LIQ0CU_POS3), IONIC_LIQ0CU_POS3 > 1.0e-13), (0, True))/(1.0*IONIC_LIQ0CU_POS1 + 1.0*IONIC_LIQ0CU_POS2 + 1.0*IONIC_LIQ0CU_POS3 + 1.0*IONIC_LIQ1O_NEG2))"
      ]
     },
     "execution_count": 14,
     "metadata": {},
     "output_type": "execute_result"
    }
   ],
   "source": [
    "mod.GM"
   ]
  },
  {
   "cell_type": "code",
   "execution_count": null,
   "metadata": {
    "collapsed": true
   },
   "outputs": [],
   "source": []
  }
 ],
 "metadata": {
  "kernelspec": {
   "display_name": "Python 3",
   "language": "python",
   "name": "python3"
  },
  "language_info": {
   "codemirror_mode": {
    "name": "ipython",
    "version": 3
   },
   "file_extension": ".py",
   "mimetype": "text/x-python",
   "name": "python",
   "nbconvert_exporter": "python",
   "pygments_lexer": "ipython3",
   "version": "3.5.2"
  }
 },
 "nbformat": 4,
 "nbformat_minor": 2
}
