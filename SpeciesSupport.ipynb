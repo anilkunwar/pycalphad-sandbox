{
 "cells": [
  {
   "cell_type": "code",
   "execution_count": 1,
   "metadata": {
    "collapsed": false
   },
   "outputs": [],
   "source": [
    "from pycalphad import Database, Model"
   ]
  },
  {
   "cell_type": "code",
   "execution_count": 2,
   "metadata": {
    "collapsed": false
   },
   "outputs": [],
   "source": [
    "dbf = Database('AlBeCuZrO.tdb')"
   ]
  },
  {
   "cell_type": "code",
   "execution_count": 3,
   "metadata": {
    "collapsed": false
   },
   "outputs": [
    {
     "data": {
      "text/plain": [
       "Phase({'name': 'IONIC_LIQ', 'model_hints': {}, 'constituents': (frozenset({Species('AL+3', 'AL1.0', charge=3), Species('CU+1', 'CU1.0', charge=1), Species('BE+2', 'BE1.0', charge=2), Species('CU+2', 'CU1.0', charge=2), Species('ZR+4', 'ZR1.0', charge=4)}), frozenset({Species('O', 'O1'), Species('ALO3/2', 'AL1.0O1.5'), Species('O-2', 'O1.0', charge=-2), Species('VA', 'VA1')})), 'sublattices': (12.0, 10.0)})"
      ]
     },
     "execution_count": 3,
     "metadata": {},
     "output_type": "execute_result"
    }
   ],
   "source": [
    "dbf.phases['IONIC_LIQ']"
   ]
  },
  {
   "cell_type": "code",
   "execution_count": 4,
   "metadata": {
    "collapsed": false
   },
   "outputs": [],
   "source": [
    "mod = Model(dbf, ['AL', 'O', \"VA\"], 'IONIC_LIQ')"
   ]
  },
  {
   "cell_type": "code",
   "execution_count": 5,
   "metadata": {
    "collapsed": false
   },
   "outputs": [],
   "source": [
    "from pycalphad import calculate\n",
    "res =calculate(dbf, ['AL', 'O', 'VA'], 'IONIC_LIQ')"
   ]
  },
  {
   "cell_type": "code",
   "execution_count": 6,
   "metadata": {
    "collapsed": false
   },
   "outputs": [
    {
     "data": {
      "text/plain": [
       "<xarray.DataArray 'Y' (P: 1, T: 1, points: 18004, internal_dof: 5)>\n",
       "array([[[[  1.00000000e+00,   1.00000000e+00,   1.00000000e-12,\n",
       "            1.00000000e-12,   1.00000000e-12],\n",
       "         [  1.00000000e+00,   1.00000000e-12,   1.00000000e+00,\n",
       "            1.00000000e-12,   1.00000000e-12],\n",
       "         [  1.00000000e+00,   1.00000000e-12,   1.00000000e-12,\n",
       "            1.00000000e+00,   1.00000000e-12],\n",
       "         ..., \n",
       "         [  1.00000000e+00,   4.81627173e-02,   4.47699484e-01,\n",
       "            4.48966804e-01,   5.51709949e-02],\n",
       "         [  1.00000000e+00,   8.93583615e-02,   4.40685339e-02,\n",
       "            5.75821361e-01,   2.90751743e-01],\n",
       "         [  1.00000000e+00,   2.33419945e-01,   6.40942530e-01,\n",
       "            3.28686676e-02,   9.27688566e-02]]]])\n",
       "Coordinates:\n",
       "  * T             (T) float64 300.0\n",
       "  * P             (P) float64 1.013e+05\n",
       "  * points        (points) int64 0 1 2 3 4 5 6 7 8 9 10 11 12 13 14 15 16 17 ...\n",
       "  * internal_dof  (internal_dof) int64 0 1 2 3 4"
      ]
     },
     "execution_count": 6,
     "metadata": {},
     "output_type": "execute_result"
    }
   ],
   "source": [
    "res.Y"
   ]
  }
 ],
 "metadata": {
  "kernelspec": {
   "display_name": "Python 3",
   "language": "python",
   "name": "python3"
  },
  "language_info": {
   "codemirror_mode": {
    "name": "ipython",
    "version": 3
   },
   "file_extension": ".py",
   "mimetype": "text/x-python",
   "name": "python",
   "nbconvert_exporter": "python",
   "pygments_lexer": "ipython3",
   "version": "3.5.2"
  }
 },
 "nbformat": 4,
 "nbformat_minor": 2
}
