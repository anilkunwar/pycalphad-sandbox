{
 "cells": [
  {
   "cell_type": "code",
   "execution_count": 1,
   "metadata": {
    "collapsed": false
   },
   "outputs": [],
   "source": [
    "from pycalphad import Database, Model"
   ]
  },
  {
   "cell_type": "code",
   "execution_count": 2,
   "metadata": {
    "collapsed": false
   },
   "outputs": [],
   "source": [
    "dbf = Database(open('cuo_05sch.tdb', encoding='latin-1'))"
   ]
  },
  {
   "cell_type": "code",
   "execution_count": 3,
   "metadata": {
    "collapsed": false
   },
   "outputs": [
    {
     "data": {
      "text/plain": [
       "Phase({'sublattices': (1.0, 1.0), 'constituents': (frozenset({Species('CU+1', 'CU1.0', charge=1), Species('CU+2', 'CU1.0', charge=2), Species('CU+3', 'CU1.0', charge=3)}), frozenset({Species('O-2', 'O1.0', charge=-2), Species('VA', 'VA1')})), 'model_hints': {'ionic_liquid_2SL': True}, 'name': 'IONIC_LIQ'})"
      ]
     },
     "execution_count": 3,
     "metadata": {},
     "output_type": "execute_result"
    }
   ],
   "source": [
    "dbf.phases['IONIC_LIQ']"
   ]
  },
  {
   "cell_type": "code",
   "execution_count": 4,
   "metadata": {
    "collapsed": false
   },
   "outputs": [],
   "source": [
    "mod = Model(dbf, ['CU', 'O', \"VA\"], 'IONIC_LIQ')"
   ]
  },
  {
   "cell_type": "code",
   "execution_count": 11,
   "metadata": {
    "collapsed": false
   },
   "outputs": [],
   "source": [
    "from pycalphad import calculate\n",
    "res =calculate(dbf, ['CU', 'O', 'VA'], 'IONIC_LIQ', T=1500, P=1e5, points=[[9.44972E-01, 5.43987E-02, 6.29226E-04, 9.41375E-01, 5.86248E-02]])"
   ]
  },
  {
   "cell_type": "code",
   "execution_count": 12,
   "metadata": {
    "collapsed": false
   },
   "outputs": [
    {
     "data": {
      "text/plain": [
       "<xarray.DataArray 'X' (P: 1, T: 1, points: 1, component: 2)>\n",
       "array([[[[ 0.66179991,  0.33819997]]]])\n",
       "Coordinates:\n",
       "  * component  (component) <U2 'CU' 'O'\n",
       "  * T          (T) float64 1.5e+03\n",
       "  * P          (P) float64 1e+05\n",
       "  * points     (points) int64 0"
      ]
     },
     "execution_count": 12,
     "metadata": {},
     "output_type": "execute_result"
    }
   ],
   "source": [
    "res.X"
   ]
  },
  {
   "cell_type": "code",
   "execution_count": 13,
   "metadata": {
    "collapsed": false
   },
   "outputs": [
    {
     "data": {
      "text/plain": [
       "<xarray.DataArray 'GM' (P: 1, T: 1, points: 1)>\n",
       "array([[[-133194.74799286]]])\n",
       "Coordinates:\n",
       "  * T        (T) float64 1.5e+03\n",
       "  * P        (P) float64 1e+05\n",
       "  * points   (points) int64 0"
      ]
     },
     "execution_count": 13,
     "metadata": {},
     "output_type": "execute_result"
    }
   ],
   "source": [
    "res.GM"
   ]
  },
  {
   "cell_type": "code",
   "execution_count": null,
   "metadata": {
    "collapsed": true
   },
   "outputs": [],
   "source": []
  }
 ],
 "metadata": {
  "kernelspec": {
   "display_name": "Python 3",
   "language": "python",
   "name": "python3"
  },
  "language_info": {
   "codemirror_mode": {
    "name": "ipython",
    "version": 3
   },
   "file_extension": ".py",
   "mimetype": "text/x-python",
   "name": "python",
   "nbconvert_exporter": "python",
   "pygments_lexer": "ipython3",
   "version": "3.5.2"
  }
 },
 "nbformat": 4,
 "nbformat_minor": 2
}
