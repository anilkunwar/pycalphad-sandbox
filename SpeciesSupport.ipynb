{
 "cells": [
  {
   "cell_type": "code",
   "execution_count": 1,
   "metadata": {
    "collapsed": false
   },
   "outputs": [],
   "source": [
    "from pycalphad import Database, Model"
   ]
  },
  {
   "cell_type": "code",
   "execution_count": 2,
   "metadata": {
    "collapsed": false
   },
   "outputs": [],
   "source": [
    "dbf = Database(open('cuo_05sch.tdb', encoding='latin-1'))"
   ]
  },
  {
   "cell_type": "code",
   "execution_count": 3,
   "metadata": {
    "collapsed": false
   },
   "outputs": [
    {
     "data": {
      "text/plain": [
       "Phase({'model_hints': {}, 'constituents': (frozenset({Species('CU+3', 'CU1.0', charge=3), Species('CU+1', 'CU1.0', charge=1), Species('CU+2', 'CU1.0', charge=2)}), frozenset({Species('VA', 'VA1'), Species('O-2', 'O1.0', charge=-2)})), 'name': 'IONIC_LIQ', 'sublattices': (1.0, 1.0)})"
      ]
     },
     "execution_count": 3,
     "metadata": {},
     "output_type": "execute_result"
    }
   ],
   "source": [
    "dbf.phases['IONIC_LIQ']"
   ]
  },
  {
   "cell_type": "code",
   "execution_count": 4,
   "metadata": {
    "collapsed": false
   },
   "outputs": [],
   "source": [
    "mod = Model(dbf, ['CU', 'O', \"VA\"], 'IONIC_LIQ')"
   ]
  },
  {
   "cell_type": "code",
   "execution_count": 5,
   "metadata": {
    "collapsed": false
   },
   "outputs": [],
   "source": [
    "from pycalphad import calculate\n",
    "res =calculate(dbf, ['CU', 'O', 'VA'], 'IONIC_LIQ', points=[[1/3, 1/3, 1/3, 1, 0]])"
   ]
  },
  {
   "cell_type": "code",
   "execution_count": 6,
   "metadata": {
    "collapsed": false
   },
   "outputs": [
    {
     "data": {
      "text/plain": [
       "<xarray.DataArray 'X' (P: 1, T: 1, points: 1, element: 2)>\n",
       "array([[[[ 0.5,  0.5]]]])\n",
       "Coordinates:\n",
       "  * element  (element) <U2 'CU' 'O'\n",
       "  * T        (T) float64 300.0\n",
       "  * P        (P) float64 1.013e+05\n",
       "  * points   (points) int64 0"
      ]
     },
     "execution_count": 6,
     "metadata": {},
     "output_type": "execute_result"
    }
   ],
   "source": [
    "res.X.sum('component')"
   ]
  },
  {
   "cell_type": "code",
   "execution_count": 7,
   "metadata": {
    "collapsed": false
   },
   "outputs": [
    {
     "data": {
      "text/plain": [
       "<xarray.DataArray 'component' (component: 7)>\n",
       "array(['CU', 'CU+1', 'CU+2', 'CU+3', 'O', 'O-2', 'O2'], \n",
       "      dtype='<U4')\n",
       "Coordinates:\n",
       "  * component  (component) <U4 'CU' 'CU+1' 'CU+2' 'CU+3' 'O' 'O-2' 'O2'"
      ]
     },
     "execution_count": 7,
     "metadata": {},
     "output_type": "execute_result"
    }
   ],
   "source": [
    "res.component"
   ]
  },
  {
   "cell_type": "code",
   "execution_count": 8,
   "metadata": {
    "collapsed": false
   },
   "outputs": [
    {
     "data": {
      "text/plain": [
       "<xarray.DataArray 'Y' (P: 1, T: 1, points: 1, internal_dof: 5)>\n",
       "array([[[[ 0.33333333,  0.33333333,  0.33333333,  1.        ,  0.        ]]]])\n",
       "Coordinates:\n",
       "  * T             (T) float64 300.0\n",
       "  * P             (P) float64 1.013e+05\n",
       "  * points        (points) int64 0\n",
       "  * internal_dof  (internal_dof) int64 0 1 2 3 4"
      ]
     },
     "execution_count": 8,
     "metadata": {},
     "output_type": "execute_result"
    }
   ],
   "source": [
    "res.Y"
   ]
  },
  {
   "cell_type": "code",
   "execution_count": 9,
   "metadata": {
    "collapsed": false
   },
   "outputs": [
    {
     "data": {
      "text/plain": [
       "[T,\n",
       " IONIC_LIQ0CU_POS1,\n",
       " IONIC_LIQ0CU_POS2,\n",
       " IONIC_LIQ0CU_POS3,\n",
       " IONIC_LIQ1O_NEG2,\n",
       " IONIC_LIQ1VA]"
      ]
     },
     "execution_count": 9,
     "metadata": {},
     "output_type": "execute_result"
    }
   ],
   "source": [
    "mod.variables"
   ]
  },
  {
   "cell_type": "code",
   "execution_count": 10,
   "metadata": {
    "collapsed": false
   },
   "outputs": [
    {
     "data": {
      "text/plain": [
       "[Species('CU+1', 'CU1.0', charge=1),\n",
       " Species('CU+2', 'CU1.0', charge=2),\n",
       " Species('CU+3', 'CU1.0', charge=3),\n",
       " Species('O-2', 'O1.0', charge=-2),\n",
       " Species('VA', 'VA1')]"
      ]
     },
     "execution_count": 10,
     "metadata": {},
     "output_type": "execute_result"
    }
   ],
   "source": [
    "mod.components"
   ]
  },
  {
   "cell_type": "code",
   "execution_count": 12,
   "metadata": {
    "collapsed": false
   },
   "outputs": [
    {
     "data": {
      "text/plain": [
       "{Species('CU', 'CU1'),\n",
       " Species('CU+1', 'CU1.0', charge=1),\n",
       " Species('CU+2', 'CU1.0', charge=2),\n",
       " Species('CU+3', 'CU1.0', charge=3),\n",
       " Species('O', 'O1'),\n",
       " Species('O-2', 'O1.0', charge=-2),\n",
       " Species('O2', 'O2.0'),\n",
       " Species('VA', 'VA1')}"
      ]
     },
     "execution_count": 12,
     "metadata": {},
     "output_type": "execute_result"
    }
   ],
   "source": [
    "from pycalphad.core.utils import unpack_components\n",
    "unpack_components(dbf, ['CU', 'O', 'VA'])"
   ]
  },
  {
   "cell_type": "code",
   "execution_count": 13,
   "metadata": {
    "collapsed": false
   },
   "outputs": [
    {
     "data": {
      "text/plain": [
       "<xarray.DataArray 'X' (P: 1, T: 1, points: 1, component: 7, element: 2)>\n",
       "array([[[[[ 0.        ,  0.        ],\n",
       "          [ 0.16666667,  0.        ],\n",
       "          [ 0.16666667,  0.        ],\n",
       "          [ 0.16666667,  0.        ],\n",
       "          [ 0.        ,  0.        ],\n",
       "          [ 0.        ,  0.5       ],\n",
       "          [ 0.        ,  0.        ]]]]])\n",
       "Coordinates:\n",
       "  * element    (element) <U2 'CU' 'O'\n",
       "  * component  (component) <U4 'CU' 'CU+1' 'CU+2' 'CU+3' 'O' 'O-2' 'O2'\n",
       "  * T          (T) float64 300.0\n",
       "  * P          (P) float64 1.013e+05\n",
       "  * points     (points) int64 0"
      ]
     },
     "execution_count": 13,
     "metadata": {},
     "output_type": "execute_result"
    }
   ],
   "source": [
    "res.X"
   ]
  },
  {
   "cell_type": "code",
   "execution_count": null,
   "metadata": {
    "collapsed": true
   },
   "outputs": [],
   "source": []
  }
 ],
 "metadata": {
  "kernelspec": {
   "display_name": "Python 3",
   "language": "python",
   "name": "python3"
  },
  "language_info": {
   "codemirror_mode": {
    "name": "ipython",
    "version": 3
   },
   "file_extension": ".py",
   "mimetype": "text/x-python",
   "name": "python",
   "nbconvert_exporter": "python",
   "pygments_lexer": "ipython3",
   "version": "3.5.2"
  }
 },
 "nbformat": 4,
 "nbformat_minor": 2
}
