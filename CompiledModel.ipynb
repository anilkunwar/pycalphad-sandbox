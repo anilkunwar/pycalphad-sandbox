{
 "cells": [
  {
   "cell_type": "code",
   "execution_count": 1,
   "metadata": {
    "collapsed": false
   },
   "outputs": [],
   "source": [
    "%load_ext Cython\n",
    "from pycalphad.core.compiled_model import CompiledModel\n",
    "from pycalphad import calculate, Database\n",
    "from pycalphad.core.phase_rec import PhaseRecord\n",
    "import pycalphad.variables as v\n",
    "import numpy as np"
   ]
  },
  {
   "cell_type": "code",
   "execution_count": 2,
   "metadata": {
    "collapsed": false
   },
   "outputs": [
    {
     "data": {
      "text/plain": [
       "<xarray.DataArray 'GM' (P: 1, T: 1, points: 1)>\n",
       "array([[[-54538.94279231]]])\n",
       "Coordinates:\n",
       "  * P        (P) float64 1.013e+05\n",
       "  * T        (T) float64 1e+03\n",
       "  * points   (points) int64 0"
      ]
     },
     "execution_count": 2,
     "metadata": {},
     "output_type": "execute_result"
    }
   ],
   "source": [
    "dbf = Database('alcocr-sandbox.tdb')\n",
    "res = calculate(dbf, ['AL', 'CO', 'VA'], 'BCC_B2', T=1000, P=101325, points=[[0.3, 0.6, 0.1, 0.6, 0.3, 0.1, 1]])\n",
    "res.GM"
   ]
  },
  {
   "cell_type": "code",
   "execution_count": 3,
   "metadata": {
    "collapsed": false
   },
   "outputs": [
    {
     "name": "stdout",
     "output_type": "stream",
     "text": [
      "-7465.969729321696\n",
      "-7465.969729321696\n",
      "-8295.521921468551\n",
      "('ordered_dof', array([  1.01325000e+05,   1.00000000e+03,   4.50000000e-01,\n",
      "         4.50000000e-01,   1.00000000e-01,   4.50000000e-01,\n",
      "         4.50000000e-01,   1.00000000e-01,   1.00000000e+00]))\n",
      "('main_ord', -8295.5219214685512)\n",
      "-7889.757391752295\n",
      "-7889.757391752295\n",
      "-8766.397101946994\n",
      "('main-sub', 8766.3971019469936)\n",
      "('disordered_energy', -54976.515447053105)\n",
      "CPU times: user 17.3 ms, sys: 12 µs, total: 17.3 ms\n",
      "Wall time: 16.3 ms\n"
     ]
    },
    {
     "name": "stderr",
     "output_type": "stream",
     "text": [
      "/home/rotis/anaconda/envs/calphadpy3/lib/python3.5/site-packages/ipykernel/__main__.py:1: RuntimeWarning: divide by zero encountered in double_scalars\n",
      "  if __name__ == '__main__':\n"
     ]
    },
    {
     "data": {
      "text/plain": [
       "array([-54505.64026657])"
      ]
     },
     "execution_count": 3,
     "metadata": {},
     "output_type": "execute_result"
    }
   ],
   "source": [
    "cmpd = CompiledModel(dbf, ['AL', 'CO', 'VA'], 'BCC_B2')\n",
    "from pycalphad.core.compiled_model import eval_energy\n",
    "out = np.atleast_1d(np.zeros(1))\n",
    "%time eval_energy(cmpd, out, np.array([101325, 1000, 0.3, 0.6, 0.1, 0.6, 0.3, 0.1, 1]), np.array([]), 1)\n",
    "out"
   ]
  },
  {
   "cell_type": "code",
   "execution_count": 4,
   "metadata": {
    "collapsed": false
   },
   "outputs": [
    {
     "data": {
      "text/plain": [
       "<xarray.DataArray 'GM' (P: 1, T: 1, points: 1)>\n",
       "array([[[-55009.81797279]]])\n",
       "Coordinates:\n",
       "  * P        (P) float64 1.013e+05\n",
       "  * T        (T) float64 1e+03\n",
       "  * points   (points) int64 0"
      ]
     },
     "execution_count": 4,
     "metadata": {},
     "output_type": "execute_result"
    }
   ],
   "source": [
    "dbf = Database('alcocr-sandbox.tdb')\n",
    "res = calculate(dbf, ['AL', 'CO', 'VA'], 'BCC_A2', T=1000, P=101325, points=[[0.45, 0.45, 0.1, 1]])\n",
    "res.GM"
   ]
  },
  {
   "cell_type": "code",
   "execution_count": 5,
   "metadata": {
    "collapsed": false
   },
   "outputs": [
    {
     "name": "stdout",
     "output_type": "stream",
     "text": [
      "-42444.891402347814\n",
      "-49478.86390234782\n",
      "-55009.8154187113\n",
      "CPU times: user 3.3 ms, sys: 13 µs, total: 3.31 ms\n",
      "Wall time: 3.13 ms\n"
     ]
    },
    {
     "data": {
      "text/plain": [
       "array([-55009.81541871])"
      ]
     },
     "execution_count": 5,
     "metadata": {},
     "output_type": "execute_result"
    }
   ],
   "source": [
    "cmpd = CompiledModel(dbf, ['AL', 'CO', 'VA'], 'BCC_A2')\n",
    "from pycalphad.core.compiled_model import eval_energy\n",
    "out = np.atleast_1d(np.zeros(1))\n",
    "%time eval_energy(cmpd, out, np.array([101325, 1000, 0.45, 0.45, 0.1, 1]), np.array([]), 1)\n",
    "out"
   ]
  },
  {
   "cell_type": "code",
   "execution_count": null,
   "metadata": {
    "collapsed": true
   },
   "outputs": [],
   "source": []
  }
 ],
 "metadata": {
  "kernelspec": {
   "display_name": "Python 3",
   "language": "python",
   "name": "python3"
  },
  "language_info": {
   "codemirror_mode": {
    "name": "ipython",
    "version": 3
   },
   "file_extension": ".py",
   "mimetype": "text/x-python",
   "name": "python",
   "nbconvert_exporter": "python",
   "pygments_lexer": "ipython3",
   "version": "3.5.2"
  }
 },
 "nbformat": 4,
 "nbformat_minor": 2
}
