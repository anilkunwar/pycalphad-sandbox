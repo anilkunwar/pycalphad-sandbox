{
 "cells": [
  {
   "cell_type": "markdown",
   "metadata": {},
   "source": [
    "Current tasks\n",
    "-------------\n",
    "- Set _eval_energy and eval_energy to be nogil\n",
    "- Make RedlichKisterSum a cdef class\n",
    "- ~~Make CompiledModel a cdef class~~\n",
    "- Link CompiledModel-based energy evaluation into the main solver\n",
    "- Decide how/if to store gradients and Hessians of RedlichKisterSums\n",
    "- Write analagous eval_gradient and eval_hessian functions\n",
    "- Link gradient and Hessian for CompiledModel into main solver"
   ]
  },
  {
   "cell_type": "code",
   "execution_count": 1,
   "metadata": {
    "collapsed": false
   },
   "outputs": [],
   "source": [
    "from pycalphad.core.compiled_model import CompiledModel\n",
    "from pycalphad import calculate, Database, Model\n",
    "from pycalphad.core.phase_rec import PhaseRecord\n",
    "import pycalphad.variables as v\n",
    "import numpy as np"
   ]
  },
  {
   "cell_type": "code",
   "execution_count": 2,
   "metadata": {
    "collapsed": false
   },
   "outputs": [],
   "source": [
    "dbf = Database('alcocr-sandbox.tdb')"
   ]
  },
  {
   "cell_type": "code",
   "execution_count": 3,
   "metadata": {
    "collapsed": false
   },
   "outputs": [
    {
     "data": {
      "text/plain": [
       "<xarray.DataArray 'GM' (P: 1, T: 1, points: 1)>\n",
       "array([[[-57590.99363009]]])\n",
       "Coordinates:\n",
       "  * T        (T) float64 1e+03\n",
       "  * P        (P) float64 1.013e+05\n",
       "  * points   (points) int64 0"
      ]
     },
     "execution_count": 3,
     "metadata": {},
     "output_type": "execute_result"
    }
   ],
   "source": [
    "class ModelTest(Model):\n",
    "    @property\n",
    "    def mag_GM(self):\n",
    "        return self.models['mag']\n",
    "res = calculate(dbf, ['AL', 'CO', 'VA'], 'BCC_B2', T=1000, P=101325, points=[[0.3, 0.6, 0.1, 0.6, 0.3, 0.1, 1]], output='GM', model=ModelTest)\n",
    "res.GM"
   ]
  },
  {
   "cell_type": "code",
   "execution_count": 7,
   "metadata": {
    "collapsed": false
   },
   "outputs": [
    {
     "name": "stdout",
     "output_type": "stream",
     "text": [
      "CPU times: user 0 ns, sys: 0 ns, total: 0 ns\n",
      "Wall time: 166 µs\n"
     ]
    },
    {
     "data": {
      "text/plain": [
       "array([-57590.99363009])"
      ]
     },
     "execution_count": 7,
     "metadata": {},
     "output_type": "execute_result"
    }
   ],
   "source": [
    "cmpd = CompiledModel(dbf, ['AL', 'CO', 'VA'], 'BCC_B2')\n",
    "from pycalphad.core.compiled_model import eval_energy\n",
    "out = np.atleast_1d(np.zeros(1))\n",
    "params = np.array([])\n",
    "%time eval_energy(cmpd, out, np.array([101325, 1000, 0.3, 0.6, 0.1, 0.6, 0.3, 0.1, 1]), params, 1)\n",
    "out"
   ]
  },
  {
   "cell_type": "code",
   "execution_count": 5,
   "metadata": {
    "collapsed": false
   },
   "outputs": [
    {
     "data": {
      "text/plain": [
       "<xarray.DataArray 'GM' (P: 1, T: 1, points: 1)>\n",
       "array([[[-55009.81541871]]])\n",
       "Coordinates:\n",
       "  * T        (T) float64 1e+03\n",
       "  * P        (P) float64 1.013e+05\n",
       "  * points   (points) int64 0"
      ]
     },
     "execution_count": 5,
     "metadata": {},
     "output_type": "execute_result"
    }
   ],
   "source": [
    "dbf = Database('alcocr-sandbox.tdb')\n",
    "res = calculate(dbf, ['AL', 'CO', 'VA'], 'BCC_A2', T=1000, P=101325, points=[[0.45, 0.45, 0.1, 1]])\n",
    "res.GM"
   ]
  },
  {
   "cell_type": "code",
   "execution_count": 6,
   "metadata": {
    "collapsed": false
   },
   "outputs": [
    {
     "name": "stdout",
     "output_type": "stream",
     "text": [
      "CPU times: user 0 ns, sys: 0 ns, total: 0 ns\n",
      "Wall time: 54.1 µs\n"
     ]
    },
    {
     "data": {
      "text/plain": [
       "array([-55009.81541871])"
      ]
     },
     "execution_count": 6,
     "metadata": {},
     "output_type": "execute_result"
    }
   ],
   "source": [
    "cmpd = CompiledModel(dbf, ['AL', 'CO', 'VA'], 'BCC_A2')\n",
    "from pycalphad.core.compiled_model import eval_energy\n",
    "out = np.atleast_1d(np.zeros(1))\n",
    "%time eval_energy(cmpd, out, np.array([101325, 1000, 0.45, 0.45, 0.1, 1]), np.array([]), 1)\n",
    "out"
   ]
  },
  {
   "cell_type": "code",
   "execution_count": null,
   "metadata": {
    "collapsed": true
   },
   "outputs": [],
   "source": []
  }
 ],
 "metadata": {
  "kernelspec": {
   "display_name": "Python 3",
   "language": "python",
   "name": "python3"
  },
  "language_info": {
   "codemirror_mode": {
    "name": "ipython",
    "version": 3
   },
   "file_extension": ".py",
   "mimetype": "text/x-python",
   "name": "python",
   "nbconvert_exporter": "python",
   "pygments_lexer": "ipython3",
   "version": "3.5.2"
  }
 },
 "nbformat": 4,
 "nbformat_minor": 2
}
