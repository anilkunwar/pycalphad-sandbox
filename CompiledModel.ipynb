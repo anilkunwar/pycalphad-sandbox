{
 "cells": [
  {
   "cell_type": "markdown",
   "metadata": {
    "nbpresent": {
     "id": "7746ff7e-7f6f-4494-8629-b6fb97e585c2"
    }
   },
   "source": [
    "Current tasks\n",
    "-------------\n",
    "- Set _eval_energy and eval_energy to be nogil\n",
    "- ~~Make CompiledModel a cdef class~~\n",
    "- Link CompiledModel-based energy evaluation into the main solver\n",
    "- Decide how/if to store gradients and Hessians of RedlichKisterSums\n",
    "- Write analagous eval_gradient and eval_hessian functions\n",
    "- Link gradient and Hessian for CompiledModel into main solver"
   ]
  },
  {
   "cell_type": "code",
   "execution_count": 1,
   "metadata": {
    "collapsed": false,
    "nbpresent": {
     "id": "534a3cd3-5d2f-49d6-a49e-e9e5481faed6"
    }
   },
   "outputs": [],
   "source": [
    "from pycalphad.core.compiled_model import CompiledModel\n",
    "from pycalphad import calculate, Database, Model\n",
    "from pycalphad.core.phase_rec import PhaseRecord\n",
    "import pycalphad.variables as v\n",
    "import numpy as np"
   ]
  },
  {
   "cell_type": "code",
   "execution_count": 2,
   "metadata": {
    "collapsed": false,
    "nbpresent": {
     "id": "c3df6372-87a6-49e1-8bef-44eecdc018dd"
    }
   },
   "outputs": [],
   "source": [
    "dbf = Database('alcocr-sandbox.tdb')"
   ]
  },
  {
   "cell_type": "code",
   "execution_count": 3,
   "metadata": {
    "collapsed": false,
    "nbpresent": {
     "id": "2cd9171b-61e1-4d16-a748-7a6d4ae63a7f"
    }
   },
   "outputs": [
    {
     "name": "stdout",
     "output_type": "stream",
     "text": [
      "CPU times: user 4.06 s, sys: 38 ms, total: 4.1 s\n",
      "Wall time: 4.09 s\n"
     ]
    },
    {
     "data": {
      "text/plain": [
       "<xarray.DataArray 'GM' (P: 1, T: 1, points: 20)>\n",
       "array([[[ -1.24620355e+05,  -1.40654061e+05,  -1.23950630e+05,\n",
       "          -1.41731195e+05,  -1.24840486e+05,  -1.43867091e+05,\n",
       "          -1.33280011e+05,  -1.30571011e+05,  -1.35062664e+05,\n",
       "          -1.32621793e+05,  -1.28914793e+05,  -1.27018480e+05,\n",
       "          -1.16082917e+05,  -4.16487951e+16,  -1.07117763e+05,\n",
       "          -4.16487951e+16,  -2.50497941e+07,  -1.26045210e+07,\n",
       "          -8.45287840e+06,  -6.37540592e+06]]])\n",
       "Coordinates:\n",
       "  * T        (T) float64 2e+03\n",
       "  * P        (P) float64 1.013e+05\n",
       "  * points   (points) int64 0 1 2 3 4 5 6 7 8 9 10 11 12 13 14 15 16 17 18 19"
      ]
     },
     "execution_count": 3,
     "metadata": {},
     "output_type": "execute_result"
    }
   ],
   "source": [
    "%time res = calculate(dbf, ['AL', 'CO', 'CR', 'VA'], sorted(dbf.phases.keys()), T=2000, P=101325, output='GM', pdens=200, model=CompiledModel)\n",
    "res.GM[..., :20]"
   ]
  },
  {
   "cell_type": "code",
   "execution_count": 5,
   "metadata": {
    "collapsed": false,
    "nbpresent": {
     "id": "2cd9171b-61e1-4d16-a748-7a6d4ae63a7f"
    }
   },
   "outputs": [
    {
     "name": "stdout",
     "output_type": "stream",
     "text": [
      "CPU times: user 1.34 s, sys: 8 ms, total: 1.34 s\n",
      "Wall time: 1.34 s\n"
     ]
    },
    {
     "data": {
      "text/plain": [
       "<xarray.DataArray 'GM' (P: 1, T: 1, points: 20)>\n",
       "array([[[-124620.3550105 , -140654.06057889, -123950.62999833,\n",
       "         -141731.19452637, -124840.4862879 , -143867.09125597,\n",
       "         -133280.01139747, -130571.01139747, -135062.66440623,\n",
       "         -132621.79260181, -128914.79260181, -127018.48031487,\n",
       "         -116082.91742063, -124957.49305299, -107117.76273728,\n",
       "         -124957.49305299, -125878.36251989, -126678.60266942,\n",
       "         -127430.32768293, -128148.86278724]]])\n",
       "Coordinates:\n",
       "  * T        (T) float64 2e+03\n",
       "  * P        (P) float64 1.013e+05\n",
       "  * points   (points) int64 0 1 2 3 4 5 6 7 8 9 10 11 12 13 14 15 16 17 18 19"
      ]
     },
     "execution_count": 5,
     "metadata": {},
     "output_type": "execute_result"
    }
   ],
   "source": [
    "%time res2 = calculate(dbf, ['AL', 'CO', 'CR', 'VA'], sorted(dbf.phases.keys()), T=2000, P=101325, output='GM', pdens=200, model=Model)\n",
    "res2.GM[..., :20]"
   ]
  },
  {
   "cell_type": "code",
   "execution_count": null,
   "metadata": {
    "collapsed": true
   },
   "outputs": [],
   "source": []
  }
 ],
 "metadata": {
  "anaconda-cloud": {},
  "kernelspec": {
   "display_name": "Python 3",
   "language": "python",
   "name": "python3"
  },
  "language_info": {
   "codemirror_mode": {
    "name": "ipython",
    "version": 3
   },
   "file_extension": ".py",
   "mimetype": "text/x-python",
   "name": "python",
   "nbconvert_exporter": "python",
   "pygments_lexer": "ipython3",
   "version": "3.5.2"
  }
 },
 "nbformat": 4,
 "nbformat_minor": 2
}
