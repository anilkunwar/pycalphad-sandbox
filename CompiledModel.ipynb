{
 "cells": [
  {
   "cell_type": "code",
   "execution_count": 1,
   "metadata": {
    "collapsed": false
   },
   "outputs": [],
   "source": [
    "%load_ext Cython\n",
    "from pycalphad.core.compiled_model import CompiledModel\n",
    "from pycalphad import calculate, Database\n",
    "from pycalphad.core.phase_rec import PhaseRecord\n",
    "import pycalphad.variables as v\n",
    "import numpy as np"
   ]
  },
  {
   "cell_type": "code",
   "execution_count": 2,
   "metadata": {
    "collapsed": false
   },
   "outputs": [
    {
     "data": {
      "text/plain": [
       "<xarray.DataArray 'GM' (P: 1, T: 1, points: 1)>\n",
       "array([[[-67770.71912472]]])\n",
       "Coordinates:\n",
       "  * P        (P) float64 1.013e+05\n",
       "  * T        (T) float64 1e+03\n",
       "  * points   (points) int64 0"
      ]
     },
     "execution_count": 2,
     "metadata": {},
     "output_type": "execute_result"
    }
   ],
   "source": [
    "dbf = Database('7-3-2014_ALCOCR.TDB')\n",
    "res = calculate(dbf, ['AL', 'CO', 'VA'], 'FCC_A1', T=1000, P=101325, points=[[0.3, 0.7, 1]])\n",
    "res.GM"
   ]
  },
  {
   "cell_type": "code",
   "execution_count": 3,
   "metadata": {
    "collapsed": false
   },
   "outputs": [],
   "source": [
    "cmpd = CompiledModel(dbf, ['AL', 'CO', 'VA'], 'FCC_A1')\n",
    "prx = PhaseRecord(['AL', 'CO', 'VA'], [v.P, v.T, v.Y('FCC_A1', 0, 'AL'), v.Y('FCC_A1', 0, 'CO'), v.Y('FCC_A1', 1, 'VA')],\n",
    "                  np.array([1., 1.]), np.array([]), None, None, None)"
   ]
  },
  {
   "cell_type": "code",
   "execution_count": 4,
   "metadata": {
    "collapsed": false
   },
   "outputs": [
    {
     "name": "stdout",
     "output_type": "stream",
     "text": [
      "CPU times: user 7.84 ms, sys: 0 ns, total: 7.84 ms\n",
      "Wall time: 7.77 ms\n"
     ]
    },
    {
     "data": {
      "text/plain": [
       "array([-67770.71742781])"
      ]
     },
     "execution_count": 4,
     "metadata": {},
     "output_type": "execute_result"
    }
   ],
   "source": [
    "from pycalphad.core.compiled_model import eval_energy\n",
    "out = np.atleast_1d(np.zeros(1))\n",
    "%time eval_energy(cmpd, prx, out, np.array([101325, 1000, 0.3, 0.7, 1]), np.array([]), 1)\n",
    "out"
   ]
  },
  {
   "cell_type": "code",
   "execution_count": null,
   "metadata": {
    "collapsed": true
   },
   "outputs": [],
   "source": []
  }
 ],
 "metadata": {
  "kernelspec": {
   "display_name": "Python 3",
   "language": "python",
   "name": "python3"
  },
  "language_info": {
   "codemirror_mode": {
    "name": "ipython",
    "version": 3
   },
   "file_extension": ".py",
   "mimetype": "text/x-python",
   "name": "python",
   "nbconvert_exporter": "python",
   "pygments_lexer": "ipython3",
   "version": "3.5.2"
  }
 },
 "nbformat": 4,
 "nbformat_minor": 2
}
