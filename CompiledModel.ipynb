{
 "cells": [
  {
   "cell_type": "markdown",
   "metadata": {
    "nbpresent": {
     "id": "7746ff7e-7f6f-4494-8629-b6fb97e585c2"
    }
   },
   "source": [
    "Current tasks\n",
    "-------------\n",
    "- Set _eval_energy and eval_energy to be nogil\n",
    "- ~~Make CompiledModel a cdef class~~\n",
    "- Link CompiledModel-based energy evaluation into the main solver\n",
    "- Decide how/if to store gradients and Hessians of RedlichKisterSums\n",
    "- Write analagous eval_gradient and eval_hessian functions\n",
    "- Link gradient and Hessian for CompiledModel into main solver"
   ]
  },
  {
   "cell_type": "code",
   "execution_count": 1,
   "metadata": {
    "collapsed": false,
    "nbpresent": {
     "id": "534a3cd3-5d2f-49d6-a49e-e9e5481faed6"
    }
   },
   "outputs": [],
   "source": [
    "from pycalphad.core.compiled_model import CompiledModel\n",
    "from pycalphad import calculate, Database, Model\n",
    "from pycalphad.core.phase_rec import PhaseRecord\n",
    "import pycalphad.variables as v\n",
    "import numpy as np"
   ]
  },
  {
   "cell_type": "code",
   "execution_count": 2,
   "metadata": {
    "collapsed": false,
    "nbpresent": {
     "id": "c3df6372-87a6-49e1-8bef-44eecdc018dd"
    }
   },
   "outputs": [],
   "source": [
    "dbf = Database('alcocr-sandbox.tdb')"
   ]
  },
  {
   "cell_type": "code",
   "execution_count": 3,
   "metadata": {
    "collapsed": false
   },
   "outputs": [
    {
     "data": {
      "text/plain": [
       "array([  0.00000000e+00,  -9.05365885e+00,  -1.01755913e+03,\n",
       "        -1.01755913e+03,   4.17600426e+02,  -1.32854175e+05,\n",
       "        -6.76268123e+03])"
      ]
     },
     "execution_count": 3,
     "metadata": {},
     "output_type": "execute_result"
    }
   ],
   "source": [
    "cmpmdl = CompiledModel(dbf, ['AL', 'CO', 'CR', 'VA'], 'BCC_A2')\n",
    "out = np.zeros(7)\n",
    "cmpmdl.eval_energy_gradient(out, np.array([101325, 600, 0.3, 0.3, 0.4-1e-12, 1e-12, 1]), np.array([]))\n",
    "out"
   ]
  },
  {
   "cell_type": "code",
   "execution_count": 7,
   "metadata": {
    "collapsed": false
   },
   "outputs": [
    {
     "data": {
      "text/plain": [
       "[0,\n",
       " -9.05365884524735,\n",
       " -1017.55912894182,\n",
       " -1017.55912894182,\n",
       " 417.600425887349,\n",
       " -138286.370348319,\n",
       " -16296.5859214615]"
      ]
     },
     "execution_count": 7,
     "metadata": {},
     "output_type": "execute_result"
    }
   ],
   "source": [
    "mdl = Model(dbf, ['AL', 'CO', 'CR', 'VA'], 'BCC_A2')\n",
    "[mdl.GM.diff(x).subs({v.T: 600., v.P:101325., v.Y('BCC_A2', 0, 'AL'): 0.3, v.Y('BCC_A2', 0, 'CO'): 0.3,\n",
    "                    v.Y('BCC_A2', 0, 'CR'): 0.4-1e-12, v.Y('BCC_A2', 0, 'VA'): 1e-12, v.Y('BCC_A2', 1, 'VA'): 1.})\n",
    " for x in [v.P, v.T, v.Y('BCC_A2', 0, 'AL'),v.Y('BCC_A2', 0, 'CO'),v.Y('BCC_A2', 0, 'CR'),v.Y('BCC_A2', 0, 'VA'), v.Y('BCC_A2', 1, 'VA')]]"
   ]
  },
  {
   "cell_type": "code",
   "execution_count": 5,
   "metadata": {
    "collapsed": false,
    "nbpresent": {
     "id": "2cd9171b-61e1-4d16-a748-7a6d4ae63a7f"
    }
   },
   "outputs": [
    {
     "name": "stdout",
     "output_type": "stream",
     "text": [
      "CPU times: user 3.01 s, sys: 20 ms, total: 3.03 s\n",
      "Wall time: 3.03 s\n"
     ]
    },
    {
     "data": {
      "text/plain": [
       "<xarray.DataArray 'GM' (P: 1, T: 1, points: 20)>\n",
       "array([[[ -1.24620355e+05,  -1.40654061e+05,  -1.23950630e+05,\n",
       "          -1.41731195e+05,  -1.24840486e+05,  -1.43867091e+05,\n",
       "          -1.33280011e+05,  -1.30571011e+05,  -1.35062664e+05,\n",
       "          -1.32621793e+05,  -1.28914793e+05,  -1.27018480e+05,\n",
       "          -1.42832019e-06,  -1.42832019e-06,  -4.76098411e+05,\n",
       "          -1.42832019e-06,  -5.25675953e+02,  -9.35087210e+02,\n",
       "          -1.30035020e+03,  -1.63679237e+03]]])\n",
       "Coordinates:\n",
       "  * T        (T) float64 2e+03\n",
       "  * P        (P) float64 1.013e+05\n",
       "  * points   (points) int64 0 1 2 3 4 5 6 7 8 9 10 11 12 13 14 15 16 17 18 19"
      ]
     },
     "execution_count": 5,
     "metadata": {},
     "output_type": "execute_result"
    }
   ],
   "source": [
    "%time res = calculate(dbf, ['AL', 'CO', 'CR', 'VA'], sorted(dbf.phases.keys()), T=2000, P=101325, output='GM', pdens=200, model=CompiledModel)\n",
    "res.GM[..., :20]"
   ]
  },
  {
   "cell_type": "code",
   "execution_count": 6,
   "metadata": {
    "collapsed": false,
    "nbpresent": {
     "id": "2cd9171b-61e1-4d16-a748-7a6d4ae63a7f"
    }
   },
   "outputs": [
    {
     "name": "stdout",
     "output_type": "stream",
     "text": [
      "CPU times: user 4.21 s, sys: 159 ms, total: 4.37 s\n",
      "Wall time: 22.4 s\n"
     ]
    },
    {
     "data": {
      "text/plain": [
       "<xarray.DataArray 'GM' (P: 1, T: 1, points: 20)>\n",
       "array([[[ -1.24620355e+05,  -1.40654061e+05,  -1.23950630e+05,\n",
       "          -1.41731195e+05,  -1.24840486e+05,  -1.43867091e+05,\n",
       "          -1.33280011e+05,  -1.30571011e+05,  -1.35062664e+05,\n",
       "          -1.32621793e+05,  -1.28914793e+05,  -1.27018480e+05,\n",
       "          -1.42832019e-06,  -1.42832019e-06,  -1.42831649e-06,\n",
       "          -1.42832019e-06,  -5.25675953e+02,  -9.35087210e+02,\n",
       "          -1.30035020e+03,  -1.63679237e+03]]])\n",
       "Coordinates:\n",
       "  * T        (T) float64 2e+03\n",
       "  * P        (P) float64 1.013e+05\n",
       "  * points   (points) int64 0 1 2 3 4 5 6 7 8 9 10 11 12 13 14 15 16 17 18 19"
      ]
     },
     "execution_count": 6,
     "metadata": {},
     "output_type": "execute_result"
    }
   ],
   "source": [
    "%time res2 = calculate(dbf, ['AL', 'CO', 'CR', 'VA'], sorted(dbf.phases.keys()), T=2000, P=101325, output='GM', pdens=200, model=Model)\n",
    "res2.GM[..., :20]"
   ]
  },
  {
   "cell_type": "code",
   "execution_count": null,
   "metadata": {
    "collapsed": true
   },
   "outputs": [],
   "source": []
  }
 ],
 "metadata": {
  "anaconda-cloud": {},
  "kernelspec": {
   "display_name": "Python 3",
   "language": "python",
   "name": "python3"
  },
  "language_info": {
   "codemirror_mode": {
    "name": "ipython",
    "version": 3
   },
   "file_extension": ".py",
   "mimetype": "text/x-python",
   "name": "python",
   "nbconvert_exporter": "python",
   "pygments_lexer": "ipython3",
   "version": "3.5.2"
  }
 },
 "nbformat": 4,
 "nbformat_minor": 2
}
