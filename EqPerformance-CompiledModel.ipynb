{
 "cells": [
  {
   "cell_type": "code",
   "execution_count": 1,
   "metadata": {
    "collapsed": false
   },
   "outputs": [],
   "source": [
    "%load_ext cython\n",
    "%load_ext line_profiler\n",
    "from Cython.Compiler.Options import get_directive_defaults\n",
    "\n",
    "get_directive_defaults()['linetrace'] = True\n",
    "get_directive_defaults()['binding'] = True"
   ]
  },
  {
   "cell_type": "code",
   "execution_count": 2,
   "metadata": {
    "collapsed": false
   },
   "outputs": [],
   "source": [
    "import numpy as np\n",
    "from pycalphad import CompiledModel, Model, Database, calculate, equilibrium\n",
    "import pycalphad.variables as v\n",
    "\n",
    "#dbf = Database('2016-08-10-AlGdMgand18RLPSO-for 3d plot.tdb')\n",
    "dbf = Database('alfe_sei.TDB')"
   ]
  },
  {
   "cell_type": "code",
   "execution_count": 3,
   "metadata": {
    "collapsed": false,
    "scrolled": true
   },
   "outputs": [],
   "source": [
    "%lprun -f CompiledModel.eval_energy_gradient equilibrium(dbf, ['AL', 'FE', 'VA'], ['B2_BCC', 'AL13FE4'], {v.T: 700, v.X('AL'): (0,1,0.02), v.P: 101325})"
   ]
  },
  {
   "cell_type": "code",
   "execution_count": null,
   "metadata": {
    "collapsed": true
   },
   "outputs": [],
   "source": []
  }
 ],
 "metadata": {
  "kernelspec": {
   "display_name": "Python 3",
   "language": "python",
   "name": "python3"
  },
  "language_info": {
   "codemirror_mode": {
    "name": "ipython",
    "version": 3
   },
   "file_extension": ".py",
   "mimetype": "text/x-python",
   "name": "python",
   "nbconvert_exporter": "python",
   "pygments_lexer": "ipython3",
   "version": "3.5.2"
  }
 },
 "nbformat": 4,
 "nbformat_minor": 0
}
