{
 "cells": [
  {
   "cell_type": "code",
   "execution_count": null,
   "metadata": {
    "collapsed": false
   },
   "outputs": [],
   "source": [
    "%load_ext cython\n",
    "%load_ext line_profiler\n",
    "from Cython.Compiler.Options import get_directive_defaults\n",
    "\n",
    "get_directive_defaults()['linetrace'] = True\n",
    "get_directive_defaults()['binding'] = True"
   ]
  },
  {
   "cell_type": "code",
   "execution_count": null,
   "metadata": {
    "collapsed": false
   },
   "outputs": [],
   "source": [
    "import numpy as np\n",
    "from pycalphad import CompiledModel, Model, Database, calculate, equilibrium\n",
    "import pycalphad.variables as v\n",
    "\n",
    "#dbf = Database('2016-08-10-AlGdMgand18RLPSO-for 3d plot.tdb')\n",
    "dbf = Database('alfe_sei.TDB')"
   ]
  },
  {
   "cell_type": "code",
   "execution_count": null,
   "metadata": {
    "collapsed": false,
    "scrolled": true
   },
   "outputs": [],
   "source": [
    "%time eq = equilibrium(dbf, ['AL', 'FE', 'VA'], dbf.phases.keys(), {v.T: 490, v.X('AL'): 0.72, v.P: 101325}, verbose=True, model={'AL13FE4': CompiledModel(dbf, ['AL', 'FE', 'VA'], 'AL13FE4', _debug=True)})"
   ]
  },
  {
   "cell_type": "code",
   "execution_count": null,
   "metadata": {
    "collapsed": false
   },
   "outputs": [],
   "source": [
    "import matplotlib.pyplot as plt\n",
    "plt.scatter(eq.coords['X_AL'], eq.GM[0,0])\n",
    "plt.show()"
   ]
  },
  {
   "cell_type": "code",
   "execution_count": null,
   "metadata": {
    "collapsed": false
   },
   "outputs": [],
   "source": [
    "res = calculate(dbf, ['AL', 'FE', 'VA'], ['B2_BCC'], T=790, P=101325, model=Model, pdens=50)"
   ]
  },
  {
   "cell_type": "code",
   "execution_count": null,
   "metadata": {
    "collapsed": false
   },
   "outputs": [],
   "source": [
    "import matplotlib.pyplot as plt\n",
    "plt.scatter(res.X[0,0].sel(component='AL'), res.GM[0,0])\n",
    "#plt.plot([1,0], [-105391.47499307,  -31879.10489844])\n",
    "\n",
    "#plt.xlim((0.135, 0.145))\n",
    "#plt.ylim((-45000, -40000))\n",
    "plt.show()"
   ]
  },
  {
   "cell_type": "code",
   "execution_count": 2,
   "metadata": {
    "collapsed": false,
    "scrolled": false
   },
   "outputs": [
    {
     "name": "stdout",
     "output_type": "stream",
     "text": [
      "Calculation Backend: Compiled (autowrap)\n",
      "Components: AL FE VA\n",
      "Phases: FCC_A1 LIQUID [done]\n",
      "('l_hessian eigenvalues', array([  8.24851038e+06,  -1.82261066e+05,   3.38675779e+04,\n",
      "         2.94249124e+04,  -1.20880218e+05,   1.38993032e+05,\n",
      "         2.86657905e+03]))\n",
      "('Phases', [CompositionSet(FCC_A1, [  9.99113453e-01   8.86546530e-04]), CompositionSet(LIQUID, [ 0.9844327  0.0155673])])\n",
      "('step', array([ -8.10145308e-05,   8.10145308e-05,   1.45091738e-16,\n",
      "         8.70924197e-04,  -8.70924197e-04,   2.80888797e-03,\n",
      "        -2.80888797e-03,   7.25638458e+03,  -2.84848936e+04,\n",
      "         3.62578523e+02,  -3.71770724e+04,  -1.26452218e+05]))\n",
      "('Site fractions', array([  9.99032439e-01,   9.67561061e-04,   1.00000000e+00,\n",
      "         9.85303623e-01,   1.46963771e-02]))\n",
      "('Phase fractions', array([ 0.96102265,  0.03897735]))\n",
      "('NEW_L_MULTIPLIERS', array([   7256.38457938,  -28484.89361053,     362.57852251,\n",
      "        -37177.07244668, -126452.21819156]))\n",
      "('Chemical potentials', array([ -37177.07244668, -126452.21819156]))\n",
      "('Chem pot progress', array([  -12.70867465,  6124.25111119]))\n",
      "('Energy progress', 0.0)\n",
      "('Driving force', -3.7419468198349932)\n",
      "('obj weight', 1.0)\n",
      "('l_hessian eigenvalues', array([  7.57169899e+06,  -7.04800937e+04,   3.21380463e+04,\n",
      "        -4.15459807e+03,   2.08315837e+04,  -6.64220559e+03,\n",
      "         6.51720957e+03]))\n",
      "('Phases', [CompositionSet(FCC_A1, [  9.99032439e-01   9.67561061e-04]), CompositionSet(LIQUID, [ 0.98530362  0.01469638])])\n",
      "('step', array([  1.40303747e-03,  -1.40303747e-03,  -3.57491449e-17,\n",
      "        -1.01544003e-02,   1.01544003e-02,  -6.91891646e-02,\n",
      "         6.91891646e-02,   6.84353027e+03,  -2.62892027e+04,\n",
      "         6.83004337e+02,  -3.71596043e+04,  -1.37322635e+05]))\n",
      "('Site fractions', array([  1.00000000e+00,   1.00000000e-12,   1.00000000e+00,\n",
      "         9.75149223e-01,   2.48507774e-02]))\n",
      "('Phase fractions', array([ 0.89183349,  0.10816651]))\n",
      "('NEW_L_MULTIPLIERS', array([   6843.5302741 ,  -26289.20274281,     683.00433682,\n",
      "        -37159.604275  , -137322.63471425]))\n",
      "('Chemical potentials', array([ -37159.604275  , -137322.63471425]))\n",
      "('Chem pot progress', array([    17.46817168, -10870.41652269]))\n",
      "('Energy progress', 0.21435115333588328)\n",
      "('Driving force', -121.57711598296737)\n",
      "('obj weight', 1.0)\n",
      "('l_hessian eigenvalues', array([  4.73888638e+15,  -6.62104551e+04,   3.13972262e+04,\n",
      "        -4.15884186e+03,   4.06070886e+04,  -1.19454622e+04,\n",
      "         5.75263251e+03]))\n",
      "('Phases', [CompositionSet(FCC_A1, [  1.00000000e+00   1.00000000e-12]), CompositionSet(LIQUID, [ 0.97514922  0.02485078])])\n",
      "('step', array([ -3.12388099e-11,   3.02390479e-11,   6.48565954e-16,\n",
      "         4.42024255e-04,  -4.42024255e-04,   4.58822553e-02,\n",
      "        -4.58822553e-02,   7.18836125e+03,  -2.76596168e+04,\n",
      "         3.63911971e+02,  -3.71626245e+04,  -1.31715405e+05]))\n",
      "('Site fractions', array([  1.00000000e+00,   3.12390479e-11,   1.00000000e+00,\n",
      "         9.75591247e-01,   2.44087532e-02]))\n",
      "('Phase fractions', array([ 0.93771574,  0.06228426]))\n",
      "('NEW_L_MULTIPLIERS', array([   7188.36125174,  -27659.61677255,     363.91197144,\n",
      "        -37162.62445667, -131715.40487608]))\n",
      "('Chemical potentials', array([ -37162.62445667, -131715.40487608]))\n",
      "('Chem pot progress', array([ -3.02018167e+00,   5.60722984e+03]))\n",
      "('Energy progress', -109.03390734266577)\n",
      "('Driving force', 109.93022755626589)\n",
      "('obj weight', 1.0)\n",
      "('l_hessian eigenvalues', array([  2.30191289e+14,  -6.87178220e+04,   3.19161210e+04,\n",
      "        -4.14300641e+03,  -9.44606280e+03,   5.49793828e+03,\n",
      "         2.41115057e+04]))\n",
      "('Phases', [CompositionSet(FCC_A1, [  1.00000000e+00   3.12390479e-11]), CompositionSet(LIQUID, [ 0.97559125  0.02440875])])\n",
      "('step', array([ -4.44092912e-10,   4.44092686e-10,  -1.73952626e-16,\n",
      "         3.44200125e-02,  -3.44200125e-02,  -8.69992576e-02,\n",
      "         8.69992576e-02,   6.52156626e+03,  -2.50932911e+04,\n",
      "         1.04225453e+03,  -3.71626245e+04,  -1.37651734e+05]))\n",
      "('Site fractions', array([  1.00000000e+00,   4.75331734e-10,   1.00000000e+00,\n",
      "         1.00000000e+00,   1.00000000e-12]))\n",
      "('Phase fractions', array([ 0.85071649,  0.14928351]))\n",
      "('NEW_L_MULTIPLIERS', array([   6521.56625547,  -25093.29108887,    1042.25453053,\n",
      "        -37162.62451233, -137651.73427748]))\n",
      "('Chemical potentials', array([ -37162.62451233, -137651.73427748]))\n",
      "('Chem pot progress', array([ -5.56619998e-05,  -5.93632940e+03]))\n",
      "('Energy progress', 110.08752603903849)\n",
      "('Driving force', 143.58940748759051)\n",
      "('obj weight', 1.0)\n",
      "('l_hessian eigenvalues', array([  1.37200514e+13,  -6.39518778e+04,   3.09779813e+04,\n",
      "        -4.16068263e+03,   7.93239568e+14,   8.39231248e+03,\n",
      "        -7.24528051e+03]))\n",
      "('Phases', [CompositionSet(FCC_A1, [  1.00000000e+00   4.75331734e-10]), CompositionSet(LIQUID, [  1.00000000e+00   1.00000000e-12])])\n",
      "('step', array([  6.83930947e-04,  -6.83931254e-04,  -6.67111588e-11,\n",
      "         1.16837309e-03,  -1.16835064e-03,   4.75668507e+06,\n",
      "        -4.75668507e+06,   3.64646068e+10,  -1.40306326e+11,\n",
      "        -3.70913646e+10,  -3.68235375e+04,  -5.69624454e+11]))\n",
      "('Site fractions', array([  1.00000000e+00,   1.00000000e-12,   1.00000000e+00,\n",
      "         1.00000000e+00,   1.00000000e-12]))\n",
      "('Phase fractions', array([ 5., -4.]))\n",
      "('NEW_L_MULTIPLIERS', array([  3.64646068e+10,  -1.40306326e+11,  -3.70913646e+10,\n",
      "        -3.68235375e+04,  -5.69624454e+11]))\n",
      "('Chemical potentials', array([ -3.68235375e+04,  -5.69624454e+11]))\n",
      "('Chem pot progress', array([  3.39087007e+02,  -5.69624316e+11]))\n",
      "('Energy progress', 163.25978120534273)\n",
      "('Driving force', 318.8470617038256)\n",
      "('obj weight', 1.0)\n",
      "Candidate composition set FCC_A1 at [  1.00000000e+00   1.00000000e-12] is not distinct\n",
      "Removing CompositionSet(LIQUID, [  1.00000000e+00   1.00000000e-12])\n",
      "('l_hessian eigenvalues', array([  2.65682240e+16,  -7.72980210e+05,   1.76289629e+05,\n",
      "         6.85237193e+03]))\n",
      "('Phases', [CompositionSet(FCC_A1, [  1.00000000e+00   1.00000000e-12])])\n",
      "('step', array([ -3.00000001e-04,   3.00000000e-04,   6.67114834e-11,\n",
      "        -4.00000000e+00,   1.56663413e+05,   1.19102304e+05,\n",
      "        -3.72385120e+04,   1.59409335e+12]))\n",
      "('Site fractions', array([  9.99700000e-01,   3.00000001e-04,   1.00000000e+00]))\n",
      "('Phase fractions', array([ 1.]))\n",
      "('NEW_L_MULTIPLIERS', array([  1.56663413e+05,   1.19102304e+05,  -3.72385120e+04,\n",
      "         1.59409335e+12]))\n",
      "('Chemical potentials', array([ -3.72385120e+04,   1.59409335e+12]))\n",
      "('Chem pot progress', array([ -4.14974491e+02,   2.16371781e+12]))\n",
      "('Energy progress', -148670.16806016379)\n",
      "('Driving force', 478376592.52019221)\n",
      "('obj weight', 1.0)\n",
      "('l_hessian eigenvalues', array([ -2.25485428e+12,   3.21220610e+04,  -2.05957314e+04,\n",
      "         2.25392327e+12]))\n",
      "('Phases', [CompositionSet(FCC_A1, [  9.99700000e-01   3.00000001e-04])])\n",
      "('step', array([ -1.20000000e-03,   1.20000000e-03,   4.79664917e-12,\n",
      "         2.54910367e-10,   1.91291983e+09,  -2.95505228e+04,\n",
      "        -1.91294936e+09,  -1.91301713e+09]))\n",
      "('Site fractions', array([ 0.9985,  0.0015,  1.    ]))\n",
      "('Phase fractions', array([ 1.]))\n",
      "('NEW_L_MULTIPLIERS', array([  1.91291983e+09,  -2.95505228e+04,  -1.91294936e+09,\n",
      "        -1.91301713e+09]))\n",
      "('Chemical potentials', array([ -1.91294936e+09,  -1.91301713e+09]))\n",
      "('Chem pot progress', array([ -1.91291212e+09,  -1.59600637e+12]))\n",
      "('Energy progress', 148618.79444028233)\n",
      "('Driving force', -1912912265.0355139)\n",
      "('obj weight', 1.0)\n",
      "('l_hessian eigenvalues', array([  6.59905901e+09,  -2.77131649e+09,   3.07421702e+06,\n",
      "         2.97916874e+04]))\n",
      "('Phases', [CompositionSet(FCC_A1, [ 0.9985  0.0015])])\n",
      "('step', array([  5.35463490e-12,  -3.17735466e-13,   2.24177443e-17,\n",
      "         7.93466345e-12,   7.64474238e+03,  -2.95503983e+04,\n",
      "        -3.71741039e+04,  -1.22860009e+05]))\n",
      "('Site fractions', array([ 0.9985,  0.0015,  1.    ]))\n",
      "('Phase fractions', array([ 1.]))\n",
      "('NEW_L_MULTIPLIERS', array([   7644.74238319,  -29550.39834993,  -37174.10389322,\n",
      "       -122860.00866283]))\n",
      "('Chemical potentials', array([ -37174.10389322, -122860.00866283]))\n",
      "('Chem pot progress', array([  1.91291218e+09,   1.91289427e+09]))\n",
      "('Energy progress', -108.3145860029108)\n",
      "('Driving force', 0.0096347773796878755)\n",
      "('obj weight', 1.0)\n",
      "('l_hessian eigenvalues', array([  5.06681499e+06,  -7.30289181e+04,   3.25665775e+04,\n",
      "        -4.13336215e+03]))\n",
      "('Phases', [CompositionSet(FCC_A1, [ 0.9985  0.0015])])\n",
      "('step', array([ -3.10036143e-18,  -4.49522285e-18,   2.91335836e-16,\n",
      "        -7.40379770e-16,   7.64473684e+03,  -2.95504135e+04,\n",
      "        -3.71741135e+04,  -1.22860018e+05]))\n",
      "('Site fractions', array([ 0.9985,  0.0015,  1.    ]))\n",
      "('Phase fractions', array([ 1.]))\n",
      "('NEW_L_MULTIPLIERS', array([   7644.73684002,  -29550.41352828,  -37174.11352842,\n",
      "       -122860.01829789]))\n",
      "('Chemical potentials', array([ -37174.11352842, -122860.01829789]))\n",
      "('Chem pot progress', array([-0.0096352 , -0.00963505]))\n",
      "('Energy progress', -4.1750899981707335e-07)\n",
      "('Driving force', 1.4551915228366852e-11)\n",
      "('obj weight', 1.0)\n",
      "Adding CompositionSet(LIQUID, [ 0.96392786  0.03607214]) Driving force: 226.62740428540565\n",
      "Deferring convergence due to active phases changing\n",
      "('l_hessian eigenvalues', array([  5.07524557e+06,  -1.91175104e+05,   3.48668128e+04,\n",
      "         2.86621879e+04,  -1.22094725e+05,   1.22094725e+05,\n",
      "         5.98141620e-07]))\n",
      "('Phases', [CompositionSet(FCC_A1, [ 0.9985  0.0015]), CompositionSet(LIQUID, [ 0.96392786  0.03607214])])\n",
      "('step', array([  3.16316466e-13,  -3.16194347e-13,   7.80609577e-17,\n",
      "         2.65221234e-03,  -2.65221234e-03,   8.71027057e-14,\n",
      "        -8.67979496e-14,   7.64473684e+03,  -2.95504135e+04,\n",
      "         5.37306920e-08,  -3.71741135e+04,  -1.22860018e+05]))\n",
      "('Site fractions', array([ 0.9985    ,  0.0015    ,  1.        ,  0.96658007,  0.03341993]))\n",
      "('Phase fractions', array([  1.00000000e+00,   9.91320205e-12]))\n",
      "('NEW_L_MULTIPLIERS', array([  7.64473684e+03,  -2.95504135e+04,   5.37306920e-08,\n",
      "        -3.71741135e+04,  -1.22860018e+05]))\n",
      "('Chemical potentials', array([ -37174.11352839, -122860.01829948]))\n",
      "('Chem pot progress', array([  2.95331120e-08,  -1.59115007e-06]))\n",
      "('Energy progress', -3.1854142434895039e-08)\n",
      "('Driving force', 5.893525667488575e-08)\n",
      "('obj weight', 1.0)\n",
      "Candidate composition set LIQUID at [ 0.96392786  0.03607214] is not distinct\n",
      "No progress\n",
      "<xarray.Dataset>\n",
      "Dimensions:       (P: 1, T: 1, X_FE: 1, component: 2, internal_dof: 3, vertex: 2)\n",
      "Coordinates:\n",
      "  * X_FE          (X_FE) float64 0.0015\n",
      "  * vertex        (vertex) int64 0 1\n",
      "  * T             (T) float64 922.0\n",
      "  * component     (component) <U2 'AL' 'FE'\n",
      "  * P             (P) float64 1.013e+05\n",
      "  * internal_dof  (internal_dof) int64 0 1 2\n",
      "Data variables:\n",
      "    GM            (P, T, X_FE) float64 -3.73e+04\n",
      "    NP            (P, T, X_FE, vertex) float64 1.0 9.913e-12\n",
      "    MU            (P, T, X_FE, component) float64 -3.717e+04 -1.229e+05\n",
      "    Phase         (P, T, X_FE, vertex) <U6 'FCC_A1' 'LIQUID'\n",
      "    Y             (P, T, X_FE, vertex, internal_dof) float64 0.9985 0.0015 ...\n",
      "    X             (P, T, X_FE, vertex, component) float64 0.9985 0.0015 ...\n",
      "Attributes:\n",
      "    solve_iterations: 0\n",
      "    hull_iterations: 1\n",
      "    engine: pycalphad 0.4.2+233.g2c2cf55.dirty\n"
     ]
    },
    {
     "data": {
      "image/png": "[encoded data removed]",
      "text/plain": [
       "<matplotlib.figure.Figure at 0x7f4fb4d51588>"
      ]
     },
     "metadata": {},
     "output_type": "display_data"
    }
   ],
   "source": [
    "%matplotlib inline\n",
    "import matplotlib.pyplot as plt\n",
    "from pycalphad import equilibrium, calculate\n",
    "from pycalphad import Database, Model\n",
    "import pycalphad.variables as v\n",
    "import numpy as np\n",
    "from pycalphad.plot.utils import phase_legend\n",
    "\n",
    "db = Database('alfe_sei.TDB')\n",
    "phase_names=sorted(list(db.phases.keys()))\n",
    "\n",
    "my_phases = ['LIQUID', 'FCC_A1']\n",
    "phase_handles, phasemap = phase_legend(my_phases)\n",
    "\n",
    "Tvector=np.arange(900.0,950.0,1.0)\n",
    "\n",
    "eq = equilibrium(db, ['AL', 'FE', 'VA'], my_phases, {v.X('FE'): 1.5e-3, v.T: 922, v.P: 101325}, verbose=True)\n",
    "\n",
    "print(eq)\n",
    "\n",
    "plt.figure()\n",
    "\n",
    "for name in my_phases:\n",
    "    phase_indices = np.nonzero(eq.Phase.values == name)\n",
    "    plt.scatter(np.take(eq['T'].values, phase_indices[1]), eq.NP.values[phase_indices], color=phasemap[name])\n",
    "    plt.gca().legend(phase_handles, my_phases, loc='lower right')"
   ]
  },
  {
   "cell_type": "code",
   "execution_count": null,
   "metadata": {
    "collapsed": false
   },
   "outputs": [],
   "source": []
  },
  {
   "cell_type": "code",
   "execution_count": null,
   "metadata": {
    "collapsed": false,
    "scrolled": false
   },
   "outputs": [],
   "source": [
    "import numpy as np\n",
    "from pycalphad.plot.utils import phase_legend\n",
    "fig = plt.figure()\n",
    "phase_handles, phasemap = phase_legend(['LIQUID', 'FCC_A1'])\n",
    "for phase, color in phasemap.items():\n",
    "    res = calculate(db, ['AL', 'FE', 'VA'], phase, T=920, P=101325)\n",
    "    order = np.argsort(res.X[0,0].sel(component='FE'))\n",
    "    x = res.X[0,0].sel(component='FE').values[order]\n",
    "    y = res.GM[0,0].values[order]\n",
    "    fig.gca().plot(x, y, c=color)\n",
    "fig.gca().vlines(1.5e-3, -39000, -37000, colors='r', linestyles='dotted')\n",
    "fig.gca().set_xlim((0, 2e-2))\n",
    "fig.gca().set_ylim((-39000, -37000))\n",
    "fig.gca().set_xlabel('X(FE)')\n",
    "fig.gca().set_ylabel('Molar Gibbs Energy (J/mol-atom)')\n",
    "fig.gca().set_title('T = 920 K')\n",
    "fig.gca().legend(phase_handles, ['LIQUID', 'FCC_A1'], loc='lower right')"
   ]
  },
  {
   "cell_type": "code",
   "execution_count": null,
   "metadata": {
    "collapsed": true
   },
   "outputs": [],
   "source": []
  }
 ],
 "metadata": {
  "kernelspec": {
   "display_name": "Python 3",
   "language": "python",
   "name": "python3"
  },
  "language_info": {
   "codemirror_mode": {
    "name": "ipython",
    "version": 3
   },
   "file_extension": ".py",
   "mimetype": "text/x-python",
   "name": "python",
   "nbconvert_exporter": "python",
   "pygments_lexer": "ipython3",
   "version": "3.5.2"
  }
 },
 "nbformat": 4,
 "nbformat_minor": 0
}
