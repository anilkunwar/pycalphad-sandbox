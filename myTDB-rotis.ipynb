{
 "cells": [
  {
   "cell_type": "code",
   "execution_count": 1,
   "metadata": {
    "collapsed": true
   },
   "outputs": [],
   "source": [
    "# Only needed in a Jupyter Notebook\n",
    "%matplotlib inline\n",
    "# Optional plot styling\n",
    "import matplotlib\n",
    "matplotlib.style.use('fivethirtyeight')"
   ]
  },
  {
   "cell_type": "code",
   "execution_count": 2,
   "metadata": {
    "collapsed": true
   },
   "outputs": [],
   "source": [
    "import matplotlib.pyplot as plt\n",
    "from pycalphad import Database, binplot, calculate, Model, equilibrium\n",
    "import pycalphad.variables as v\n",
    "import numpy as np"
   ]
  },
  {
   "cell_type": "code",
   "execution_count": 3,
   "metadata": {
    "collapsed": false
   },
   "outputs": [],
   "source": [
    "db = Database('N.TDB')"
   ]
  },
  {
   "cell_type": "code",
   "execution_count": 4,
   "metadata": {
    "collapsed": true
   },
   "outputs": [],
   "source": [
    "my_phases = ['Q']"
   ]
  },
  {
   "cell_type": "code",
   "execution_count": 5,
   "metadata": {
    "collapsed": false
   },
   "outputs": [
    {
     "name": "stderr",
     "output_type": "stream",
     "text": [
      "Solve (3/3):  24%|██▎       | 8/34 [00:18<01:04,  2.50s/cond]"
     ]
    },
    {
     "name": "stdout",
     "output_type": "stream",
     "text": [
      "Failed to compute  OrderedDict([('P', <xarray.DataArray 'P' ()>\n",
      "array(101325.0)\n",
      "Coordinates:\n",
      "    P        float64 1.013e+05), ('T', <xarray.DataArray 'T' ()>\n",
      "array(650.0)\n",
      "Coordinates:\n",
      "    T        float64 650.0), ('X_CU', <xarray.DataArray 'X_CU' ()>\n",
      "array(0.09523809523809523)\n",
      "Coordinates:\n",
      "    X_CU     float64 0.09524), ('X_MG', <xarray.DataArray 'X_MG' ()>\n",
      "array(0.42857142857142855)\n",
      "Coordinates:\n",
      "    X_MG     float64 0.4286), ('X_SI', <xarray.DataArray 'X_SI' ()>\n",
      "array(0.3333333333333333)\n",
      "Coordinates:\n",
      "    X_SI     float64 0.3333)])\n",
      "Failed to compute "
     ]
    },
    {
     "name": "stderr",
     "output_type": "stream",
     "text": [
      "\r",
      "Solve (3/3):  26%|██▋       | 9/34 [00:25<01:35,  3.81s/cond]"
     ]
    },
    {
     "name": "stdout",
     "output_type": "stream",
     "text": [
      " OrderedDict([('P', <xarray.DataArray 'P' ()>\n",
      "array(101325.0)\n",
      "Coordinates:\n",
      "    P        float64 1.013e+05), ('T', <xarray.DataArray 'T' ()>\n",
      "array(700.0)\n",
      "Coordinates:\n",
      "    T        float64 700.0), ('X_CU', <xarray.DataArray 'X_CU' ()>\n",
      "array(0.09523809523809523)\n",
      "Coordinates:\n",
      "    X_CU     float64 0.09524), ('X_MG', <xarray.DataArray 'X_MG' ()>\n",
      "array(0.42857142857142855)\n",
      "Coordinates:\n",
      "    X_MG     float64 0.4286), ('X_SI', <xarray.DataArray 'X_SI' ()>\n",
      "array(0.3333333333333333)\n",
      "Coordinates:\n",
      "    X_SI     float64 0.3333)])\n",
      "Failed to compute "
     ]
    },
    {
     "name": "stderr",
     "output_type": "stream",
     "text": [
      "\r",
      "Solve (3/3):  29%|██▉       | 10/34 [00:31<01:45,  4.39s/cond]"
     ]
    },
    {
     "name": "stdout",
     "output_type": "stream",
     "text": [
      " OrderedDict([('P', <xarray.DataArray 'P' ()>\n",
      "array(101325.0)\n",
      "Coordinates:\n",
      "    P        float64 1.013e+05), ('T', <xarray.DataArray 'T' ()>\n",
      "array(750.0)\n",
      "Coordinates:\n",
      "    T        float64 750.0), ('X_CU', <xarray.DataArray 'X_CU' ()>\n",
      "array(0.09523809523809523)\n",
      "Coordinates:\n",
      "    X_CU     float64 0.09524), ('X_MG', <xarray.DataArray 'X_MG' ()>\n",
      "array(0.42857142857142855)\n",
      "Coordinates:\n",
      "    X_MG     float64 0.4286), ('X_SI', <xarray.DataArray 'X_SI' ()>\n",
      "array(0.3333333333333333)\n",
      "Coordinates:\n",
      "    X_SI     float64 0.3333)])\n",
      "Failed to compute "
     ]
    },
    {
     "name": "stderr",
     "output_type": "stream",
     "text": [
      "\r",
      "Solve (3/3):  32%|███▏      | 11/34 [00:36<01:48,  4.73s/cond]"
     ]
    },
    {
     "name": "stdout",
     "output_type": "stream",
     "text": [
      " OrderedDict([('P', <xarray.DataArray 'P' ()>\n",
      "array(101325.0)\n",
      "Coordinates:\n",
      "    P        float64 1.013e+05), ('T', <xarray.DataArray 'T' ()>\n",
      "array(800.0)\n",
      "Coordinates:\n",
      "    T        float64 800.0), ('X_CU', <xarray.DataArray 'X_CU' ()>\n",
      "array(0.09523809523809523)\n",
      "Coordinates:\n",
      "    X_CU     float64 0.09524), ('X_MG', <xarray.DataArray 'X_MG' ()>\n",
      "array(0.42857142857142855)\n",
      "Coordinates:\n",
      "    X_MG     float64 0.4286), ('X_SI', <xarray.DataArray 'X_SI' ()>\n",
      "array(0.3333333333333333)\n",
      "Coordinates:\n",
      "    X_SI     float64 0.3333)])\n",
      "Failed to compute "
     ]
    },
    {
     "name": "stderr",
     "output_type": "stream",
     "text": [
      "\r",
      "Solve (3/3):  35%|███▌      | 12/34 [00:44<02:04,  5.66s/cond]"
     ]
    },
    {
     "name": "stdout",
     "output_type": "stream",
     "text": [
      " OrderedDict([('P', <xarray.DataArray 'P' ()>\n",
      "array(101325.0)\n",
      "Coordinates:\n",
      "    P        float64 1.013e+05), ('T', <xarray.DataArray 'T' ()>\n",
      "array(850.0)\n",
      "Coordinates:\n",
      "    T        float64 850.0), ('X_CU', <xarray.DataArray 'X_CU' ()>\n",
      "array(0.09523809523809523)\n",
      "Coordinates:\n",
      "    X_CU     float64 0.09524), ('X_MG', <xarray.DataArray 'X_MG' ()>\n",
      "array(0.42857142857142855)\n",
      "Coordinates:\n",
      "    X_MG     float64 0.4286), ('X_SI', <xarray.DataArray 'X_SI' ()>\n",
      "array(0.3333333333333333)\n",
      "Coordinates:\n",
      "    X_SI     float64 0.3333)])\n",
      "Failed to compute "
     ]
    },
    {
     "name": "stderr",
     "output_type": "stream",
     "text": [
      "\r",
      "Solve (3/3):  38%|███▊      | 13/34 [00:50<02:03,  5.88s/cond]"
     ]
    },
    {
     "name": "stdout",
     "output_type": "stream",
     "text": [
      " OrderedDict([('P', <xarray.DataArray 'P' ()>\n",
      "array(101325.0)\n",
      "Coordinates:\n",
      "    P        float64 1.013e+05), ('T', <xarray.DataArray 'T' ()>\n",
      "array(900.0)\n",
      "Coordinates:\n",
      "    T        float64 900.0), ('X_CU', <xarray.DataArray 'X_CU' ()>\n",
      "array(0.09523809523809523)\n",
      "Coordinates:\n",
      "    X_CU     float64 0.09524), ('X_MG', <xarray.DataArray 'X_MG' ()>\n",
      "array(0.42857142857142855)\n",
      "Coordinates:\n",
      "    X_MG     float64 0.4286), ('X_SI', <xarray.DataArray 'X_SI' ()>\n",
      "array(0.3333333333333333)\n",
      "Coordinates:\n",
      "    X_SI     float64 0.3333)])\n",
      "Failed to compute "
     ]
    },
    {
     "name": "stderr",
     "output_type": "stream",
     "text": [
      "\r",
      "Solve (3/3):  41%|████      | 14/34 [00:56<01:57,  5.89s/cond]"
     ]
    },
    {
     "name": "stdout",
     "output_type": "stream",
     "text": [
      " OrderedDict([('P', <xarray.DataArray 'P' ()>\n",
      "array(101325.0)\n",
      "Coordinates:\n",
      "    P        float64 1.013e+05), ('T', <xarray.DataArray 'T' ()>\n",
      "array(950.0)\n",
      "Coordinates:\n",
      "    T        float64 950.0), ('X_CU', <xarray.DataArray 'X_CU' ()>\n",
      "array(0.09523809523809523)\n",
      "Coordinates:\n",
      "    X_CU     float64 0.09524), ('X_MG', <xarray.DataArray 'X_MG' ()>\n",
      "array(0.42857142857142855)\n",
      "Coordinates:\n",
      "    X_MG     float64 0.4286), ('X_SI', <xarray.DataArray 'X_SI' ()>\n",
      "array(0.3333333333333333)\n",
      "Coordinates:\n",
      "    X_SI     float64 0.3333)])\n",
      "Failed to compute "
     ]
    },
    {
     "name": "stderr",
     "output_type": "stream",
     "text": [
      "\r",
      "Solve (3/3):  44%|████▍     | 15/34 [01:00<01:38,  5.16s/cond]"
     ]
    },
    {
     "name": "stdout",
     "output_type": "stream",
     "text": [
      " OrderedDict([('P', <xarray.DataArray 'P' ()>\n",
      "array(101325.0)\n",
      "Coordinates:\n",
      "    P        float64 1.013e+05), ('T', <xarray.DataArray 'T' ()>\n",
      "array(1000.0)\n",
      "Coordinates:\n",
      "    T        float64 1e+03), ('X_CU', <xarray.DataArray 'X_CU' ()>\n",
      "array(0.09523809523809523)\n",
      "Coordinates:\n",
      "    X_CU     float64 0.09524), ('X_MG', <xarray.DataArray 'X_MG' ()>\n",
      "array(0.42857142857142855)\n",
      "Coordinates:\n",
      "    X_MG     float64 0.4286), ('X_SI', <xarray.DataArray 'X_SI' ()>\n",
      "array(0.3333333333333333)\n",
      "Coordinates:\n",
      "    X_SI     float64 0.3333)])\n",
      "Failed to compute "
     ]
    },
    {
     "name": "stderr",
     "output_type": "stream",
     "text": [
      "\r",
      "Solve (3/3):  47%|████▋     | 16/34 [01:05<01:32,  5.14s/cond]"
     ]
    },
    {
     "name": "stdout",
     "output_type": "stream",
     "text": [
      " OrderedDict([('P', <xarray.DataArray 'P' ()>\n",
      "array(101325.0)\n",
      "Coordinates:\n",
      "    P        float64 1.013e+05), ('T', <xarray.DataArray 'T' ()>\n",
      "array(1050.0)\n",
      "Coordinates:\n",
      "    T        float64 1.05e+03), ('X_CU', <xarray.DataArray 'X_CU' ()>\n",
      "array(0.09523809523809523)\n",
      "Coordinates:\n",
      "    X_CU     float64 0.09524), ('X_MG', <xarray.DataArray 'X_MG' ()>\n",
      "array(0.42857142857142855)\n",
      "Coordinates:\n",
      "    X_MG     float64 0.4286), ('X_SI', <xarray.DataArray 'X_SI' ()>\n",
      "array(0.3333333333333333)\n",
      "Coordinates:\n",
      "    X_SI     float64 0.3333)])\n",
      "Failed to compute "
     ]
    },
    {
     "name": "stderr",
     "output_type": "stream",
     "text": [
      "\r",
      "Solve (3/3):  50%|█████     | 17/34 [01:09<01:24,  5.00s/cond]"
     ]
    },
    {
     "name": "stdout",
     "output_type": "stream",
     "text": [
      " OrderedDict([('P', <xarray.DataArray 'P' ()>\n",
      "array(101325.0)\n",
      "Coordinates:\n",
      "    P        float64 1.013e+05), ('T', <xarray.DataArray 'T' ()>\n",
      "array(1100.0)\n",
      "Coordinates:\n",
      "    T        float64 1.1e+03), ('X_CU', <xarray.DataArray 'X_CU' ()>\n",
      "array(0.09523809523809523)\n",
      "Coordinates:\n",
      "    X_CU     float64 0.09524), ('X_MG', <xarray.DataArray 'X_MG' ()>\n",
      "array(0.42857142857142855)\n",
      "Coordinates:\n",
      "    X_MG     float64 0.4286), ('X_SI', <xarray.DataArray 'X_SI' ()>\n",
      "array(0.3333333333333333)\n",
      "Coordinates:\n",
      "    X_SI     float64 0.3333)])\n",
      "Failed to compute "
     ]
    },
    {
     "name": "stderr",
     "output_type": "stream",
     "text": [
      "Solve (3/3):  56%|█████▌    | 19/34 [01:15<01:00,  4.04s/cond]"
     ]
    },
    {
     "name": "stdout",
     "output_type": "stream",
     "text": [
      " OrderedDict([('P', <xarray.DataArray 'P' ()>\n",
      "array(101325.0)\n",
      "Coordinates:\n",
      "    P        float64 1.013e+05), ('T', <xarray.DataArray 'T' ()>\n",
      "array(1150.0)\n",
      "Coordinates:\n",
      "    T        float64 1.15e+03), ('X_CU', <xarray.DataArray 'X_CU' ()>\n",
      "array(0.09523809523809523)\n",
      "Coordinates:\n",
      "    X_CU     float64 0.09524), ('X_MG', <xarray.DataArray 'X_MG' ()>\n",
      "array(0.42857142857142855)\n",
      "Coordinates:\n",
      "    X_MG     float64 0.4286), ('X_SI', <xarray.DataArray 'X_SI' ()>\n",
      "array(0.3333333333333333)\n",
      "Coordinates:\n",
      "    X_SI     float64 0.3333)])\n",
      "Failed to compute "
     ]
    },
    {
     "name": "stderr",
     "output_type": "stream",
     "text": [
      "\r",
      "Solve (3/3):  59%|█████▉    | 20/34 [01:17<00:45,  3.27s/cond]"
     ]
    },
    {
     "name": "stdout",
     "output_type": "stream",
     "text": [
      " OrderedDict([('P', <xarray.DataArray 'P' ()>\n",
      "array(101325.0)\n",
      "Coordinates:\n",
      "    P        float64 1.013e+05), ('T', <xarray.DataArray 'T' ()>\n",
      "array(1250.0)\n",
      "Coordinates:\n",
      "    T        float64 1.25e+03), ('X_CU', <xarray.DataArray 'X_CU' ()>\n",
      "array(0.09523809523809523)\n",
      "Coordinates:\n",
      "    X_CU     float64 0.09524), ('X_MG', <xarray.DataArray 'X_MG' ()>\n",
      "array(0.42857142857142855)\n",
      "Coordinates:\n",
      "    X_MG     float64 0.4286), ('X_SI', <xarray.DataArray 'X_SI' ()>\n",
      "array(0.3333333333333333)\n",
      "Coordinates:\n",
      "    X_SI     float64 0.3333)])\n",
      "Failed to compute "
     ]
    },
    {
     "name": "stderr",
     "output_type": "stream",
     "text": [
      "\r",
      "Solve (3/3):  62%|██████▏   | 21/34 [01:17<00:31,  2.43s/cond]"
     ]
    },
    {
     "name": "stdout",
     "output_type": "stream",
     "text": [
      " OrderedDict([('P', <xarray.DataArray 'P' ()>\n",
      "array(101325.0)\n",
      "Coordinates:\n",
      "    P        float64 1.013e+05), ('T', <xarray.DataArray 'T' ()>\n",
      "array(1300.0)\n",
      "Coordinates:\n",
      "    T        float64 1.3e+03), ('X_CU', <xarray.DataArray 'X_CU' ()>\n",
      "array(0.09523809523809523)\n",
      "Coordinates:\n",
      "    X_CU     float64 0.09524), ('X_MG', <xarray.DataArray 'X_MG' ()>\n",
      "array(0.42857142857142855)\n",
      "Coordinates:\n",
      "    X_MG     float64 0.4286), ('X_SI', <xarray.DataArray 'X_SI' ()>\n",
      "array(0.3333333333333333)\n",
      "Coordinates:\n",
      "    X_SI     float64 0.3333)])\n",
      "Failed to compute "
     ]
    },
    {
     "name": "stderr",
     "output_type": "stream",
     "text": [
      "\r",
      "Solve (3/3):  65%|██████▍   | 22/34 [01:22<00:37,  3.13s/cond]"
     ]
    },
    {
     "name": "stdout",
     "output_type": "stream",
     "text": [
      " OrderedDict([('P', <xarray.DataArray 'P' ()>\n",
      "array(101325.0)\n",
      "Coordinates:\n",
      "    P        float64 1.013e+05), ('T', <xarray.DataArray 'T' ()>\n",
      "array(1350.0)\n",
      "Coordinates:\n",
      "    T        float64 1.35e+03), ('X_CU', <xarray.DataArray 'X_CU' ()>\n",
      "array(0.09523809523809523)\n",
      "Coordinates:\n",
      "    X_CU     float64 0.09524), ('X_MG', <xarray.DataArray 'X_MG' ()>\n",
      "array(0.42857142857142855)\n",
      "Coordinates:\n",
      "    X_MG     float64 0.4286), ('X_SI', <xarray.DataArray 'X_SI' ()>\n",
      "array(0.3333333333333333)\n",
      "Coordinates:\n",
      "    X_SI     float64 0.3333)])\n",
      "Failed to compute "
     ]
    },
    {
     "name": "stderr",
     "output_type": "stream",
     "text": [
      "\r",
      "Solve (3/3):  68%|██████▊   | 23/34 [01:25<00:34,  3.13s/cond]"
     ]
    },
    {
     "name": "stdout",
     "output_type": "stream",
     "text": [
      " OrderedDict([('P', <xarray.DataArray 'P' ()>\n",
      "array(101325.0)\n",
      "Coordinates:\n",
      "    P        float64 1.013e+05), ('T', <xarray.DataArray 'T' ()>\n",
      "array(1400.0)\n",
      "Coordinates:\n",
      "    T        float64 1.4e+03), ('X_CU', <xarray.DataArray 'X_CU' ()>\n",
      "array(0.09523809523809523)\n",
      "Coordinates:\n",
      "    X_CU     float64 0.09524), ('X_MG', <xarray.DataArray 'X_MG' ()>\n",
      "array(0.42857142857142855)\n",
      "Coordinates:\n",
      "    X_MG     float64 0.4286), ('X_SI', <xarray.DataArray 'X_SI' ()>\n",
      "array(0.3333333333333333)\n",
      "Coordinates:\n",
      "    X_SI     float64 0.3333)])\n",
      "Failed to compute "
     ]
    },
    {
     "name": "stderr",
     "output_type": "stream",
     "text": [
      "\r",
      "Solve (3/3):  71%|███████   | 24/34 [01:26<00:23,  2.33s/cond]"
     ]
    },
    {
     "name": "stdout",
     "output_type": "stream",
     "text": [
      " OrderedDict([('P', <xarray.DataArray 'P' ()>\n",
      "array(101325.0)\n",
      "Coordinates:\n",
      "    P        float64 1.013e+05), ('T', <xarray.DataArray 'T' ()>\n",
      "array(1450.0)\n",
      "Coordinates:\n",
      "    T        float64 1.45e+03), ('X_CU', <xarray.DataArray 'X_CU' ()>\n",
      "array(0.09523809523809523)\n",
      "Coordinates:\n",
      "    X_CU     float64 0.09524), ('X_MG', <xarray.DataArray 'X_MG' ()>\n",
      "array(0.42857142857142855)\n",
      "Coordinates:\n",
      "    X_MG     float64 0.4286), ('X_SI', <xarray.DataArray 'X_SI' ()>\n",
      "array(0.3333333333333333)\n",
      "Coordinates:\n",
      "    X_SI     float64 0.3333)])\n",
      "Failed to compute "
     ]
    },
    {
     "name": "stderr",
     "output_type": "stream",
     "text": [
      "\r",
      "Solve (3/3):  74%|███████▎  | 25/34 [01:27<00:18,  2.03s/cond]"
     ]
    },
    {
     "name": "stdout",
     "output_type": "stream",
     "text": [
      " OrderedDict([('P', <xarray.DataArray 'P' ()>\n",
      "array(101325.0)\n",
      "Coordinates:\n",
      "    P        float64 1.013e+05), ('T', <xarray.DataArray 'T' ()>\n",
      "array(1500.0)\n",
      "Coordinates:\n",
      "    T        float64 1.5e+03), ('X_CU', <xarray.DataArray 'X_CU' ()>\n",
      "array(0.09523809523809523)\n",
      "Coordinates:\n",
      "    X_CU     float64 0.09524), ('X_MG', <xarray.DataArray 'X_MG' ()>\n",
      "array(0.42857142857142855)\n",
      "Coordinates:\n",
      "    X_MG     float64 0.4286), ('X_SI', <xarray.DataArray 'X_SI' ()>\n",
      "array(0.3333333333333333)\n",
      "Coordinates:\n",
      "    X_SI     float64 0.3333)])\n",
      "Failed to compute "
     ]
    },
    {
     "name": "stderr",
     "output_type": "stream",
     "text": [
      "\r",
      "Solve (3/3):  76%|███████▋  | 26/34 [01:28<00:14,  1.82s/cond]"
     ]
    },
    {
     "name": "stdout",
     "output_type": "stream",
     "text": [
      " OrderedDict([('P', <xarray.DataArray 'P' ()>\n",
      "array(101325.0)\n",
      "Coordinates:\n",
      "    P        float64 1.013e+05), ('T', <xarray.DataArray 'T' ()>\n",
      "array(1550.0)\n",
      "Coordinates:\n",
      "    T        float64 1.55e+03), ('X_CU', <xarray.DataArray 'X_CU' ()>\n",
      "array(0.09523809523809523)\n",
      "Coordinates:\n",
      "    X_CU     float64 0.09524), ('X_MG', <xarray.DataArray 'X_MG' ()>\n",
      "array(0.42857142857142855)\n",
      "Coordinates:\n",
      "    X_MG     float64 0.4286), ('X_SI', <xarray.DataArray 'X_SI' ()>\n",
      "array(0.3333333333333333)\n",
      "Coordinates:\n",
      "    X_SI     float64 0.3333)])\n",
      "Failed to compute "
     ]
    },
    {
     "name": "stderr",
     "output_type": "stream",
     "text": [
      "\r",
      "Solve (3/3):  79%|███████▉  | 27/34 [01:29<00:10,  1.43s/cond]"
     ]
    },
    {
     "name": "stdout",
     "output_type": "stream",
     "text": [
      " OrderedDict([('P', <xarray.DataArray 'P' ()>\n",
      "array(101325.0)\n",
      "Coordinates:\n",
      "    P        float64 1.013e+05), ('T', <xarray.DataArray 'T' ()>\n",
      "array(1600.0)\n",
      "Coordinates:\n",
      "    T        float64 1.6e+03), ('X_CU', <xarray.DataArray 'X_CU' ()>\n",
      "array(0.09523809523809523)\n",
      "Coordinates:\n",
      "    X_CU     float64 0.09524), ('X_MG', <xarray.DataArray 'X_MG' ()>\n",
      "array(0.42857142857142855)\n",
      "Coordinates:\n",
      "    X_MG     float64 0.4286), ('X_SI', <xarray.DataArray 'X_SI' ()>\n",
      "array(0.3333333333333333)\n",
      "Coordinates:\n",
      "    X_SI     float64 0.3333)])\n",
      "Failed to compute "
     ]
    },
    {
     "name": "stderr",
     "output_type": "stream",
     "text": [
      "\r",
      "Solve (3/3):  82%|████████▏ | 28/34 [01:30<00:08,  1.48s/cond]"
     ]
    },
    {
     "name": "stdout",
     "output_type": "stream",
     "text": [
      " OrderedDict([('P', <xarray.DataArray 'P' ()>\n",
      "array(101325.0)\n",
      "Coordinates:\n",
      "    P        float64 1.013e+05), ('T', <xarray.DataArray 'T' ()>\n",
      "array(1650.0)\n",
      "Coordinates:\n",
      "    T        float64 1.65e+03), ('X_CU', <xarray.DataArray 'X_CU' ()>\n",
      "array(0.09523809523809523)\n",
      "Coordinates:\n",
      "    X_CU     float64 0.09524), ('X_MG', <xarray.DataArray 'X_MG' ()>\n",
      "array(0.42857142857142855)\n",
      "Coordinates:\n",
      "    X_MG     float64 0.4286), ('X_SI', <xarray.DataArray 'X_SI' ()>\n",
      "array(0.3333333333333333)\n",
      "Coordinates:\n",
      "    X_SI     float64 0.3333)])\n",
      "Failed to compute "
     ]
    },
    {
     "name": "stderr",
     "output_type": "stream",
     "text": [
      "\r",
      "Solve (3/3):  85%|████████▌ | 29/34 [01:32<00:07,  1.43s/cond]"
     ]
    },
    {
     "name": "stdout",
     "output_type": "stream",
     "text": [
      " OrderedDict([('P', <xarray.DataArray 'P' ()>\n",
      "array(101325.0)\n",
      "Coordinates:\n",
      "    P        float64 1.013e+05), ('T', <xarray.DataArray 'T' ()>\n",
      "array(1700.0)\n",
      "Coordinates:\n",
      "    T        float64 1.7e+03), ('X_CU', <xarray.DataArray 'X_CU' ()>\n",
      "array(0.09523809523809523)\n",
      "Coordinates:\n",
      "    X_CU     float64 0.09524), ('X_MG', <xarray.DataArray 'X_MG' ()>\n",
      "array(0.42857142857142855)\n",
      "Coordinates:\n",
      "    X_MG     float64 0.4286), ('X_SI', <xarray.DataArray 'X_SI' ()>\n",
      "array(0.3333333333333333)\n",
      "Coordinates:\n",
      "    X_SI     float64 0.3333)])\n",
      "Failed to compute "
     ]
    },
    {
     "name": "stderr",
     "output_type": "stream",
     "text": [
      "\r",
      "Solve (3/3):  88%|████████▊ | 30/34 [01:33<00:05,  1.49s/cond]"
     ]
    },
    {
     "name": "stdout",
     "output_type": "stream",
     "text": [
      " OrderedDict([('P', <xarray.DataArray 'P' ()>\n",
      "array(101325.0)\n",
      "Coordinates:\n",
      "    P        float64 1.013e+05), ('T', <xarray.DataArray 'T' ()>\n",
      "array(1750.0)\n",
      "Coordinates:\n",
      "    T        float64 1.75e+03), ('X_CU', <xarray.DataArray 'X_CU' ()>\n",
      "array(0.09523809523809523)\n",
      "Coordinates:\n",
      "    X_CU     float64 0.09524), ('X_MG', <xarray.DataArray 'X_MG' ()>\n",
      "array(0.42857142857142855)\n",
      "Coordinates:\n",
      "    X_MG     float64 0.4286), ('X_SI', <xarray.DataArray 'X_SI' ()>\n",
      "array(0.3333333333333333)\n",
      "Coordinates:\n",
      "    X_SI     float64 0.3333)])\n",
      "Failed to compute "
     ]
    },
    {
     "name": "stderr",
     "output_type": "stream",
     "text": [
      "\r",
      "Solve (3/3):  91%|█████████ | 31/34 [01:35<00:04,  1.52s/cond]"
     ]
    },
    {
     "name": "stdout",
     "output_type": "stream",
     "text": [
      " OrderedDict([('P', <xarray.DataArray 'P' ()>\n",
      "array(101325.0)\n",
      "Coordinates:\n",
      "    P        float64 1.013e+05), ('T', <xarray.DataArray 'T' ()>\n",
      "array(1800.0)\n",
      "Coordinates:\n",
      "    T        float64 1.8e+03), ('X_CU', <xarray.DataArray 'X_CU' ()>\n",
      "array(0.09523809523809523)\n",
      "Coordinates:\n",
      "    X_CU     float64 0.09524), ('X_MG', <xarray.DataArray 'X_MG' ()>\n",
      "array(0.42857142857142855)\n",
      "Coordinates:\n",
      "    X_MG     float64 0.4286), ('X_SI', <xarray.DataArray 'X_SI' ()>\n",
      "array(0.3333333333333333)\n",
      "Coordinates:\n",
      "    X_SI     float64 0.3333)])\n",
      "Failed to compute "
     ]
    },
    {
     "name": "stderr",
     "output_type": "stream",
     "text": [
      "\r",
      "Solve (3/3):  94%|█████████▍| 32/34 [01:35<00:02,  1.20s/cond]"
     ]
    },
    {
     "name": "stdout",
     "output_type": "stream",
     "text": [
      " OrderedDict([('P', <xarray.DataArray 'P' ()>\n",
      "array(101325.0)\n",
      "Coordinates:\n",
      "    P        float64 1.013e+05), ('T', <xarray.DataArray 'T' ()>\n",
      "array(1850.0)\n",
      "Coordinates:\n",
      "    T        float64 1.85e+03), ('X_CU', <xarray.DataArray 'X_CU' ()>\n",
      "array(0.09523809523809523)\n",
      "Coordinates:\n",
      "    X_CU     float64 0.09524), ('X_MG', <xarray.DataArray 'X_MG' ()>\n",
      "array(0.42857142857142855)\n",
      "Coordinates:\n",
      "    X_MG     float64 0.4286), ('X_SI', <xarray.DataArray 'X_SI' ()>\n",
      "array(0.3333333333333333)\n",
      "Coordinates:\n",
      "    X_SI     float64 0.3333)])\n",
      "Failed to compute "
     ]
    },
    {
     "name": "stderr",
     "output_type": "stream",
     "text": [
      "                                                              "
     ]
    },
    {
     "name": "stdout",
     "output_type": "stream",
     "text": [
      " OrderedDict([('P', <xarray.DataArray 'P' ()>\n",
      "array(101325.0)\n",
      "Coordinates:\n",
      "    P        float64 1.013e+05), ('T', <xarray.DataArray 'T' ()>\n",
      "array(1900.0)\n",
      "Coordinates:\n",
      "    T        float64 1.9e+03), ('X_CU', <xarray.DataArray 'X_CU' ()>\n",
      "array(0.09523809523809523)\n",
      "Coordinates:\n",
      "    X_CU     float64 0.09524), ('X_MG', <xarray.DataArray 'X_MG' ()>\n",
      "array(0.42857142857142855)\n",
      "Coordinates:\n",
      "    X_MG     float64 0.4286), ('X_SI', <xarray.DataArray 'X_SI' ()>\n",
      "array(0.3333333333333333)\n",
      "Coordinates:\n",
      "    X_SI     float64 0.3333)])\n"
     ]
    },
    {
     "name": "stderr",
     "output_type": "stream",
     "text": [
      "\r"
     ]
    }
   ],
   "source": [
    "eq = equilibrium(db, ['MG', 'AL', 'SI', 'CU'], my_phases, {v.X('SI'): 7/21,v.X('MG'): 9/21,v.X('CU'): 2/21, v.T: (300,2000,50), v.P: 101325},\n",
    "                 output='heat_capacity')"
   ]
  },
  {
   "cell_type": "code",
   "execution_count": 6,
   "metadata": {
    "collapsed": false
   },
   "outputs": [
    {
     "data": {
      "image/png": "[encoded data removed]",
      "text/plain": [
       "<matplotlib.figure.Figure at 0x7f38109bfe10>"
      ]
     },
     "metadata": {},
     "output_type": "display_data"
    }
   ],
   "source": [
    "fig = plt.figure(figsize=(9,6))\n",
    "fig.gca().set_xlabel('Temperature (K)')\n",
    "fig.gca().set_ylabel('Isobaric Heat Capacity (J/mol-formula-K)')\n",
    "fig.gca().plot(eq['T'], np.squeeze(eq['heat_capacity'].values))\n",
    "plt.show()"
   ]
  },
  {
   "cell_type": "code",
   "execution_count": null,
   "metadata": {
    "collapsed": true
   },
   "outputs": [],
   "source": []
  }
 ],
 "metadata": {
  "kernelspec": {
   "display_name": "Python 3",
   "language": "python",
   "name": "python3"
  },
  "language_info": {
   "codemirror_mode": {
    "name": "ipython",
    "version": 3
   },
   "file_extension": ".py",
   "mimetype": "text/x-python",
   "name": "python",
   "nbconvert_exporter": "python",
   "pygments_lexer": "ipython3",
   "version": "3.5.1"
  }
 },
 "nbformat": 4,
 "nbformat_minor": 0
}
