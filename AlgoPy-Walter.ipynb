{
 "cells": [
  {
   "cell_type": "markdown",
   "metadata": {},
   "source": [
    "# Comparison using AlgoPy\n",
    "https://github.com/b45ch1/algopy"
   ]
  },
  {
   "cell_type": "code",
   "execution_count": 129,
   "metadata": {
    "collapsed": true
   },
   "outputs": [],
   "source": [
    "import numpy as np\n",
    "import algopy\n",
    "import autograd.numpy as anp\n",
    "\n",
    "\n",
    "def func(x0, x1, x2, x3, x4, x5, x6, x7, x8, x9, mod=anp):\n",
    "    \"Toy function (calibrated to take roughly the same time as real one)\"\n",
    "    return 8.3145 * x0 * (x1 * mod.log(x1) + x2 * mod.log(x2)) + \\\n",
    "2000*x1*x2 + 100*x1*x2*(x1-x2) + 200*x2*x3*(x1-x2)**2 + 2000*x3*x4 + 100*x5*x6*(x1-x2) + 200*x7*x8*(x8-x9)**2 + \\\n",
    "2400*x1*x2 + 120*x1*x2*(x1-x2) + 200*x1*x2*(x1-x2)**2 + 2000*x1*x2 + 100*x1*x2*(x1-x2) + 200*x1*x2*(x1-x2)**2 + \\\n",
    "2000*x1*x2 + 160*x1*x2*(x1-x2) + 1000*x1*x2*(x1-x2)**2 + 2000*x1*x2 + 100*x1*x2*(x1-x2) + 500*x1*x2*(x1-x2)**2"
   ]
  },
  {
   "cell_type": "code",
   "execution_count": 130,
   "metadata": {
    "collapsed": false
   },
   "outputs": [
    {
     "name": "stdout",
     "output_type": "stream",
     "text": [
      "(20000, 10)\n"
     ]
    }
   ],
   "source": [
    "# We repeat the same two values over and over to simulate lots of different input\n",
    "C = 20000\n",
    "N = 10\n",
    "inp_arr = np.tile([[300,0.5,0.5, 300,0.5,0.5, 300,0.5,0.5, 1], [600, 0.4, 0.6, 600, 0.4, 0.6, 600, 0.4, 0.6, 1]], (int(C/2),1))\n",
    "print(inp_arr.shape)"
   ]
  },
  {
   "cell_type": "code",
   "execution_count": 134,
   "metadata": {
    "collapsed": false
   },
   "outputs": [
    {
     "name": "stdout",
     "output_type": "stream",
     "text": [
      "1000 loops, best of 3: 502 µs per loop\n"
     ]
    }
   ],
   "source": [
    "%%timeit\n",
    "\n",
    "# record computational graph\n",
    "cg = algopy.CGraph()\n",
    "fx = algopy.Function(np.ones(N))\n",
    "fy = func(fx[0], fx[1], fx[2], fx[3], fx[4], fx[5], fx[6], fx[7], fx[8], fx[9], mod=algopy)\n",
    "cg.independentFunctionList = [fx]\n",
    "cg.dependentFunctionList = [fy]"
   ]
  },
  {
   "cell_type": "code",
   "execution_count": 135,
   "metadata": {
    "collapsed": false
   },
   "outputs": [
    {
     "name": "stdout",
     "output_type": "stream",
     "text": [
      "10 loops, best of 3: 42.4 ms per loop\n"
     ]
    }
   ],
   "source": [
    "%%timeit\n",
    "\n",
    "# compute obj and grad in reverse mode\n",
    "ux = algopy.UTPM(np.zeros((1, C, N)))\n",
    "ux.data[0, ...] = inp_arr\n",
    "cg.pushforward([ux])\n",
    "uy_bar = algopy.UTPM(np.ones((1,C)))\n",
    "cg.pullback([uy_bar])\n",
    "\n",
    "obj_cgraph = cg.dependentFunctionList[0].x.data[0]\n",
    "grad_cgraph = cg.independentFunctionList[0].xbar.data[0,:,:]\n"
   ]
  },
  {
   "cell_type": "code",
   "execution_count": 136,
   "metadata": {
    "collapsed": false
   },
   "outputs": [
    {
     "name": "stdout",
     "output_type": "stream",
     "text": [
      "1 loops, best of 3: 958 ms per loop\n"
     ]
    }
   ],
   "source": [
    "%%timeit\n",
    "\n",
    "# compute obj, grad, hess in combined forward+reverse mode\n",
    "ux = algopy.UTPM(np.zeros((2, N*C, N)))\n",
    "for i in range(N):\n",
    "    ux.data[0, i::N, :] = inp_arr\n",
    "    ux.data[1, i::N, i::N] = 1\n",
    "\n",
    "cg.pushforward([ux])\n",
    "uy_bar = algopy.UTPM(np.zeros((2,N*C)))\n",
    "uy_bar.data[0,:] = 1\n",
    "cg.pullback([uy_bar])\n",
    "\n",
    "obj_cgraph = cg.dependentFunctionList[0].x.data[0, ::N]\n",
    "grad_cgraph = cg.independentFunctionList[0].xbar.data[0,::N]\n",
    "hess_cgraph = cg.independentFunctionList[0].xbar.data[1,:,:].reshape((C, N, N))"
   ]
  },
  {
   "cell_type": "code",
   "execution_count": 137,
   "metadata": {
    "collapsed": false
   },
   "outputs": [],
   "source": [
    "def extract_hessian(N, y):\n",
    "    \"Vectorized version of extract_hessian\"\n",
    "    H = np.zeros((y.data.shape[1], N,N), dtype=y.data.dtype)\n",
    "    for n in range(N):\n",
    "        for m in range(n):\n",
    "            a =  sum(range(n+1))\n",
    "            b =  sum(range(m+1))\n",
    "            k =  sum(range(n+2)) - m - 1\n",
    "            #print 'k,a,b=', k,a,b\n",
    "            if n!=m:\n",
    "                tmp = (y.data[2, :, k] - y.data[2, :, a] - y.data[2, :, b])\n",
    "                H[:, m,n]= H[:, n,m]= tmp\n",
    "        a =  sum(range(n+1))\n",
    "        H[:, n,n] = 2*y.data[2, :, a]\n",
    "    return H"
   ]
  },
  {
   "cell_type": "code",
   "execution_count": 138,
   "metadata": {
    "collapsed": false
   },
   "outputs": [],
   "source": [
    "# generate directions\n",
    "M = (N*(N+1))/2\n",
    "L = (N*(N-1))/2\n",
    "S = np.zeros((N,M))\n",
    "\n",
    "s = 0\n",
    "i = 0\n",
    "for n in range(1,N+1):\n",
    "    S[-n:, s:s+n] = np.eye(n)\n",
    "    S[-n, s:s+n] = np.ones(n)\n",
    "    s += n\n",
    "    i += 1\n",
    "#print(S)\n",
    "S = S[::-1].T\n",
    "#print(S)\n",
    "x = algopy.UTPM(np.zeros((3, inp_arr.shape[0]) + S.shape))\n",
    "x.data[0, :, :, :] = inp_arr[..., None, :]\n",
    "x.data[1, :, :] = S"
   ]
  },
  {
   "cell_type": "code",
   "execution_count": 140,
   "metadata": {
    "collapsed": false
   },
   "outputs": [
    {
     "name": "stdout",
     "output_type": "stream",
     "text": [
      "1 loops, best of 3: 2.76 s per loop\n"
     ]
    }
   ],
   "source": [
    "%%timeit\n",
    "y = func(*[x[..., i] for i in range(N)], mod=algopy)\n",
    "obj_algopy = y.data[0, :, 0]\n",
    "grad_algopy = y.data[1, :, np.cumsum(np.arange(N), dtype=np.int)].T\n",
    "hess_algopy = extract_hessian(N, y)\n",
    "#print('OBJ SHAPE', obj_algopy.shape)\n",
    "#print('GRAD SHAPE', grad_algopy.shape)\n",
    "#print('HESS SHAPE', hess_algopy.shape)"
   ]
  },
  {
   "cell_type": "markdown",
   "metadata": {},
   "source": [
    "# Comparison using Autograd\n",
    "\n",
    "https://github.com/HIPS/autograd"
   ]
  },
  {
   "cell_type": "code",
   "execution_count": 142,
   "metadata": {
    "collapsed": true
   },
   "outputs": [],
   "source": [
    "import autograd.numpy as anp\n",
    "from autograd import elementwise_grad, jacobian\n",
    "from itertools import chain\n",
    "\n",
    "def elementwise_hess(fun, argnum=0):\n",
    "    \"\"\"\n",
    "    From https://github.com/HIPS/autograd/issues/60\n",
    "    \"\"\"\n",
    "    def sum_latter_dims(x):\n",
    "        return anp.sum(x.reshape(x.shape[0], -1), 1)\n",
    "\n",
    "    def sum_grad_output(*args, **kwargs):\n",
    "        return sum_latter_dims(elementwise_grad(fun)(*args, **kwargs))\n",
    "    return jacobian(sum_grad_output, argnum)\n",
    "\n",
    "\n",
    "def build_functions():\n",
    "    obj = func\n",
    "\n",
    "    def argwrapper(args):\n",
    "        return obj(*args)\n",
    "\n",
    "    def grad_func(*args):\n",
    "        inp = anp.array(anp.broadcast_arrays(*args))\n",
    "        result = anp.atleast_2d(elementwise_grad(argwrapper)(inp))\n",
    "        # Put 'gradient' axis at end\n",
    "        axes = list(range(len(result.shape)))\n",
    "        result = result.transpose(*chain(axes[1:], [axes[0]]))\n",
    "        return result\n",
    "\n",
    "    def hess_func(*args):\n",
    "        result = anp.atleast_3d(elementwise_hess(argwrapper)(anp.array(anp.broadcast_arrays(*args))))\n",
    "        # Put 'hessian' axes at end\n",
    "        axes = list(range(len(result.shape)))\n",
    "        result = result.transpose(*chain(axes[2:], axes[0:2]))\n",
    "        return result\n",
    "\n",
    "    return obj, grad_func, hess_func\n",
    "\n",
    "autograd_obj, autograd_grad, autograd_hess = build_functions()"
   ]
  },
  {
   "cell_type": "code",
   "execution_count": 143,
   "metadata": {
    "collapsed": false
   },
   "outputs": [
    {
     "name": "stdout",
     "output_type": "stream",
     "text": [
      "1 loops, best of 3: 498 ms per loop\n"
     ]
    }
   ],
   "source": [
    "%%timeit\n",
    "ag_o = autograd_obj(*[inp_arr[..., i] for i in range(inp_arr.shape[-1])])\n",
    "ag_g = autograd_grad(*[inp_arr[..., i] for i in range(inp_arr.shape[-1])])\n",
    "ag_h = autograd_hess(*[inp_arr[..., i] for i in range(inp_arr.shape[-1])])"
   ]
  },
  {
   "cell_type": "code",
   "execution_count": 144,
   "metadata": {
    "collapsed": false
   },
   "outputs": [
    {
     "name": "stdout",
     "output_type": "stream",
     "text": [
      "equivalent\n"
     ]
    }
   ],
   "source": [
    "# Have to comment out '%%timeit' lines to actually run this\n",
    "import numpy.testing\n",
    "\n",
    "numpy.testing.assert_allclose(obj_algopy, ag_o)\n",
    "numpy.testing.assert_allclose(grad_algopy, ag_g)\n",
    "numpy.testing.assert_allclose(hess_algopy, ag_h)\n",
    "\n",
    "numpy.testing.assert_allclose(obj_cgraph, ag_o)\n",
    "numpy.testing.assert_allclose(grad_cgraph, ag_g)\n",
    "numpy.testing.assert_allclose(hess_cgraph, ag_h)\n",
    "\n",
    "print('equivalent')"
   ]
  },
  {
   "cell_type": "code",
   "execution_count": null,
   "metadata": {
    "collapsed": false
   },
   "outputs": [],
   "source": []
  },
  {
   "cell_type": "code",
   "execution_count": null,
   "metadata": {
    "collapsed": true
   },
   "outputs": [],
   "source": []
  }
 ],
 "metadata": {
  "kernelspec": {
   "display_name": "Python 3",
   "language": "python",
   "name": "python3"
  },
  "language_info": {
   "codemirror_mode": {
    "name": "ipython",
    "version": 3
   },
   "file_extension": ".py",
   "mimetype": "text/x-python",
   "name": "python",
   "nbconvert_exporter": "python",
   "pygments_lexer": "ipython3",
   "version": "3.5.1"
  }
 },
 "nbformat": 4,
 "nbformat_minor": 0
}
