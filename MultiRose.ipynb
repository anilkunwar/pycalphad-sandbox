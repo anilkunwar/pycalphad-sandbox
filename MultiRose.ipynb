{
 "cells": [
  {
   "cell_type": "code",
   "execution_count": 1,
   "metadata": {
    "collapsed": false
   },
   "outputs": [
    {
     "name": "stderr",
     "output_type": "stream",
     "text": []
    }
   ],
   "source": [
    "from pycalphad import equilibrium, Database\n",
    "import pycalphad.variables as v\n",
    "from pycalphad.tests.datasets import ROSE_TDB\n",
    "\n",
    "ROSE_DBF = Database(ROSE_TDB)\n",
    "my_phases_rose = ['TEST']\n",
    "comps = ['H', 'HE', 'LI', 'BE', 'B', 'C', 'N', 'O', 'F']\n",
    "conds = dict({v.T: 1000, v.P: 101325})\n",
    "for comp in comps[:-1]:\n",
    "    conds[v.X(comp)] = 1.0/float(len(comps))\n",
    "eqx = equilibrium(ROSE_DBF, comps, my_phases_rose, conds)"
   ]
  },
  {
   "cell_type": "code",
   "execution_count": 2,
   "metadata": {
    "collapsed": false
   },
   "outputs": [
    {
     "name": "stdout",
     "output_type": "stream",
     "text": [
      "<xarray.DataArray 'GM' (P: 1, T: 1, X_B: 1, X_BE: 1, X_C: 1, X_H: 1, X_HE: 1, X_LI: 1, X_N: 1, X_O: 1)>\n",
      "array([[[[[[[[[[-5835.09917627]]]]]]]]]])\n",
      "Coordinates:\n",
      "  * P        (P) float64 1.013e+05\n",
      "  * T        (T) float64 1e+03\n",
      "  * X_B      (X_B) float64 0.1111\n",
      "  * X_BE     (X_BE) float64 0.1111\n",
      "  * X_C      (X_C) float64 0.1111\n",
      "  * X_H      (X_H) float64 0.1111\n",
      "  * X_HE     (X_HE) float64 0.1111\n",
      "  * X_LI     (X_LI) float64 0.1111\n",
      "  * X_N      (X_N) float64 0.1111\n",
      "  * X_O      (X_O) float64 0.1111\n",
      "<xarray.DataArray 'MU' (P: 1, T: 1, X_B: 1, X_BE: 1, X_C: 1, X_H: 1, X_HE: 1, X_LI: 1, X_N: 1, X_O: 1, component: 9)>\n",
      "array([[[[[[[[[[[-5835.09917627, -5835.09917627, -5835.09917627,\n",
      "                 -5835.09917627, -5835.09917627, -5835.09917627,\n",
      "                 -5835.09917627, -5835.09917627, -5835.09917627]]]]]]]]]]])\n",
      "Coordinates:\n",
      "  * P          (P) float64 1.013e+05\n",
      "  * T          (T) float64 1e+03\n",
      "  * X_B        (X_B) float64 0.1111\n",
      "  * X_BE       (X_BE) float64 0.1111\n",
      "  * X_C        (X_C) float64 0.1111\n",
      "  * X_H        (X_H) float64 0.1111\n",
      "  * X_HE       (X_HE) float64 0.1111\n",
      "  * X_LI       (X_LI) float64 0.1111\n",
      "  * X_N        (X_N) float64 0.1111\n",
      "  * X_O        (X_O) float64 0.1111\n",
      "  * component  (component) object 'B' 'BE' 'C' 'F' 'H' 'HE' 'LI' 'N' 'O'\n",
      "<xarray.DataArray 'X' (P: 1, T: 1, X_B: 1, X_BE: 1, X_C: 1, X_H: 1, X_HE: 1, X_LI: 1, X_N: 1, X_O: 1, vertex: 9, component: 9)>\n",
      "array([[[[[[[[[[[[ 0.4956269 ,  0.4956269 ,  0.00124946,  0.00124946,\n",
      "                   0.00124946,  0.00124946,  0.00124946,  0.00124946,\n",
      "                   0.00124946],\n",
      "                 [ 0.00124946,  0.00124946,  0.4956269 ,  0.4956269 ,\n",
      "                   0.00124946,  0.00124946,  0.00124946,  0.00124946,\n",
      "                   0.00124946],\n",
      "                 [ 0.00124946,  0.00124946,  0.00124946,  0.00124946,\n",
      "                   0.4956269 ,  0.00124946,  0.00124946,  0.4956269 ,\n",
      "                   0.00124946],\n",
      "                 [ 0.00124946,  0.00124946,  0.00124946,  0.00124946,\n",
      "                   0.00124946,  0.4956269 ,  0.00124946,  0.4956269 ,\n",
      "                   0.00124946],\n",
      "                 [ 0.00124946,  0.00124946,  0.00124946,  0.00124946,\n",
      "                   0.4956269 ,  0.4956269 ,  0.00124946,  0.00124946,\n",
      "                   0.00124946],\n",
      "                 [ 0.00124946,  0.00124946,  0.00124946,  0.00124946,\n",
      "                   0.00124946,  0.00124946,  0.4956269 ,  0.00124946,\n",
      "                   0.4956269 ],\n",
      "                 [        nan,         nan,         nan,         nan,\n",
      "                          nan,         nan,         nan,         nan,\n",
      "                          nan],\n",
      "                 [        nan,         nan,         nan,         nan,\n",
      "                          nan,         nan,         nan,         nan,\n",
      "                          nan],\n",
      "                 [        nan,         nan,         nan,         nan,\n",
      "                          nan,         nan,         nan,         nan,\n",
      "                          nan]]]]]]]]]]]])\n",
      "Coordinates:\n",
      "  * P          (P) float64 1.013e+05\n",
      "  * T          (T) float64 1e+03\n",
      "  * X_B        (X_B) float64 0.1111\n",
      "  * X_BE       (X_BE) float64 0.1111\n",
      "  * X_C        (X_C) float64 0.1111\n",
      "  * X_H        (X_H) float64 0.1111\n",
      "  * X_HE       (X_HE) float64 0.1111\n",
      "  * X_LI       (X_LI) float64 0.1111\n",
      "  * X_N        (X_N) float64 0.1111\n",
      "  * X_O        (X_O) float64 0.1111\n",
      "  * vertex     (vertex) int64 0 1 2 3 4 5 6 7 8\n",
      "  * component  (component) object 'B' 'BE' 'C' 'F' 'H' 'HE' 'LI' 'N' 'O'\n"
     ]
    }
   ],
   "source": [
    "print(eqx.GM)\n",
    "print(eqx.MU)\n",
    "print(eqx.X)"
   ]
  },
  {
   "cell_type": "code",
   "execution_count": null,
   "metadata": {
    "collapsed": true
   },
   "outputs": [],
   "source": []
  }
 ],
 "metadata": {
  "kernelspec": {
   "display_name": "Python 3",
   "language": "python",
   "name": "python3"
  },
  "language_info": {
   "codemirror_mode": {
    "name": "ipython",
    "version": 3
   },
   "file_extension": ".py",
   "mimetype": "text/x-python",
   "name": "python",
   "nbconvert_exporter": "python",
   "pygments_lexer": "ipython3",
   "version": "3.5.2"
  }
 },
 "nbformat": 4,
 "nbformat_minor": 0
}
