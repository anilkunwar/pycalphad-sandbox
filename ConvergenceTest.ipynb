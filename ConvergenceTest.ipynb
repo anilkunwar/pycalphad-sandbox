{
 "cells": [
  {
   "cell_type": "code",
   "execution_count": 1,
   "metadata": {
    "collapsed": false,
    "deletable": true,
    "editable": true
   },
   "outputs": [],
   "source": [
    "from pycalphad import Database, Model, variables as v\n",
    "from pycalphad.tests.datasets import ROSE_TDB"
   ]
  },
  {
   "cell_type": "code",
   "execution_count": 2,
   "metadata": {
    "collapsed": false,
    "deletable": true,
    "editable": true,
    "scrolled": false
   },
   "outputs": [],
   "source": [
    "from pycalphad import equilibrium\n",
    "import numpy as np\n",
    "\n",
    "my_phases_rose = ['TEST']\n",
    "comps = ['H', 'HE', 'LI', 'BE', 'B', 'C', 'N', 'O', 'F']\n",
    "comps = sorted(comps)\n",
    "conds = dict({v.T: 1000, v.P: 101325})\n",
    "for comp in comps[1:]:\n",
    "    conds[v.X(comp)] = 1.0/float(len(comps))\n",
    "dbf = Database(ROSE_TDB)\n",
    "res_x = []\n",
    "res_y = []\n",
    "for pdens in np.logspace(2, 3.3, num=30):\n",
    "    eqx = equilibrium(Database(ROSE_TDB), comps, my_phases_rose, conds, calc_opts={'pdens': int(pdens)})\n",
    "    res_x.append(int(pdens))\n",
    "    res_y.append(eqx.GM)"
   ]
  },
  {
   "cell_type": "code",
   "execution_count": 3,
   "metadata": {
    "collapsed": false,
    "deletable": true,
    "editable": true
   },
   "outputs": [
    {
     "data": {
      "text/plain": [
       "<matplotlib.text.Text at 0x7f275682c160>"
      ]
     },
     "execution_count": 3,
     "metadata": {},
     "output_type": "execute_result"
    },
    {
     "data": {
      "image/png": "[encoded data removed]",
      "text/plain": [
       "<matplotlib.figure.Figure at 0x7f275d058e48>"
      ]
     },
     "metadata": {},
     "output_type": "display_data"
    }
   ],
   "source": [
    "%matplotlib inline\n",
    "import matplotlib.pyplot as plt\n",
    "import matplotlib\n",
    "matplotlib.style.use('fivethirtyeight')\n",
    "\n",
    "plt.plot(np.array(res_x), np.array([float(y) for y in res_y]))\n",
    "plt.gca().axhline(y=-5.8351e3, xmin=0, xmax=2000, linewidth=0.5)\n",
    "plt.xlabel('pdens')\n",
    "plt.ylabel('Total Energy')\n",
    "plt.title('test_rose_nine')"
   ]
  },
  {
   "cell_type": "code",
   "execution_count": 4,
   "metadata": {
    "collapsed": false,
    "deletable": true,
    "editable": true
   },
   "outputs": [
    {
     "data": {
      "text/plain": [
       "<xarray.DataArray 'MU' (P: 1, T: 1, X_BE: 1, X_C: 1, X_F: 1, X_H: 1, X_HE: 1, X_LI: 1, X_N: 1, X_O: 1, component: 9)>\n",
       "array([[[[[[[[[[[-5835.099181, -5835.099171, -5835.099185, -5835.099181,\n",
       "                 -5835.099171, -5835.099177, -5835.099173, -5835.099166,\n",
       "                 -5835.09918 ]]]]]]]]]]])\n",
       "Coordinates:\n",
       "  * P          (P) float64 1.013e+05\n",
       "  * X_N        (X_N) float64 0.1111\n",
       "  * X_F        (X_F) float64 0.1111\n",
       "  * X_C        (X_C) float64 0.1111\n",
       "  * X_HE       (X_HE) float64 0.1111\n",
       "  * X_LI       (X_LI) float64 0.1111\n",
       "  * X_H        (X_H) float64 0.1111\n",
       "  * T          (T) float64 1e+03\n",
       "  * X_BE       (X_BE) float64 0.1111\n",
       "  * X_O        (X_O) float64 0.1111\n",
       "  * component  (component) <U2 'B' 'BE' 'C' 'F' 'H' 'HE' 'LI' 'N' 'O'"
      ]
     },
     "execution_count": 4,
     "metadata": {},
     "output_type": "execute_result"
    }
   ],
   "source": [
    "eqx.MU"
   ]
  },
  {
   "cell_type": "code",
   "execution_count": 5,
   "metadata": {
    "collapsed": false
   },
   "outputs": [
    {
     "data": {
      "text/plain": [
       "<xarray.DataArray 'X' (P: 1, T: 1, X_BE: 1, X_C: 1, X_F: 1, X_H: 1, X_HE: 1, X_LI: 1, X_N: 1, X_O: 1, vertex: 9, component: 9)>\n",
       "array([[[[[[[[[[[[ 0.001249,  0.001249,  0.001249,  0.001249,  0.001249,\n",
       "                   0.495627,  0.495627,  0.001249,  0.001249],\n",
       "                 [ 0.001249,  0.001249,  0.495627,  0.001249,  0.001249,\n",
       "                   0.001249,  0.001249,  0.001249,  0.495627],\n",
       "                 [ 0.495627,  0.001249,  0.001249,  0.001249,  0.495627,\n",
       "                   0.001249,  0.001249,  0.001249,  0.001249],\n",
       "                 [ 0.001249,  0.001249,  0.001249,  0.495627,  0.001249,\n",
       "                   0.495627,  0.001249,  0.001249,  0.001249],\n",
       "                 [ 0.001249,  0.495627,  0.001249,  0.001249,  0.001249,\n",
       "                   0.001249,  0.001249,  0.495627,  0.001249],\n",
       "                 [ 0.001249,  0.001249,  0.001249,  0.495627,  0.001249,\n",
       "                   0.001249,  0.495627,  0.001249,  0.001249],\n",
       "                 [      nan,       nan,       nan,       nan,       nan,\n",
       "                        nan,       nan,       nan,       nan],\n",
       "                 [      nan,       nan,       nan,       nan,       nan,\n",
       "                        nan,       nan,       nan,       nan],\n",
       "                 [      nan,       nan,       nan,       nan,       nan,\n",
       "                        nan,       nan,       nan,       nan]]]]]]]]]]]])\n",
       "Coordinates:\n",
       "  * P          (P) float64 1.013e+05\n",
       "  * X_N        (X_N) float64 0.1111\n",
       "  * X_F        (X_F) float64 0.1111\n",
       "  * X_C        (X_C) float64 0.1111\n",
       "  * X_HE       (X_HE) float64 0.1111\n",
       "  * X_LI       (X_LI) float64 0.1111\n",
       "  * X_H        (X_H) float64 0.1111\n",
       "  * T          (T) float64 1e+03\n",
       "  * X_BE       (X_BE) float64 0.1111\n",
       "  * vertex     (vertex) int64 0 1 2 3 4 5 6 7 8\n",
       "  * X_O        (X_O) float64 0.1111\n",
       "  * component  (component) <U2 'B' 'BE' 'C' 'F' 'H' 'HE' 'LI' 'N' 'O'"
      ]
     },
     "execution_count": 5,
     "metadata": {},
     "output_type": "execute_result"
    }
   ],
   "source": [
    "eqx.X"
   ]
  },
  {
   "cell_type": "code",
   "execution_count": null,
   "metadata": {
    "collapsed": true
   },
   "outputs": [],
   "source": []
  }
 ],
 "metadata": {
  "kernelspec": {
   "display_name": "Python 3",
   "language": "python",
   "name": "python3"
  },
  "language_info": {
   "codemirror_mode": {
    "name": "ipython",
    "version": 3
   },
   "file_extension": ".py",
   "mimetype": "text/x-python",
   "name": "python",
   "nbconvert_exporter": "python",
   "pygments_lexer": "ipython3",
   "version": "3.5.2"
  }
 },
 "nbformat": 4,
 "nbformat_minor": 2
}
