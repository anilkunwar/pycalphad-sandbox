{
 "cells": [
  {
   "cell_type": "code",
   "execution_count": 77,
   "metadata": {
    "collapsed": false
   },
   "outputs": [],
   "source": [
    "from pycalphad.core.hillertmin import lower_convex_hull\n",
    "import numpy as np\n",
    "\n",
    "points = np.linspace(1e-12, 0.99, 100)\n",
    "comptwo = 1 - points\n",
    "energies = 8.3145 * 2000 * (points*np.log(points) + comptwo*np.log(comptwo))\n",
    "points = np.array([points, comptwo, energies]).T\n",
    "num_components = 2\n",
    "# Add some fictitious points above the hyperplane\n",
    "max_points = np.zeros((num_components, num_components+1))\n",
    "max_points[:num_components, :num_components] = np.eye(num_components)\n",
    "max_points[:, -1] = np.log(np.exp(points[:, num_components].max())+100)\n",
    "points = np.concatenate((max_points, points), axis=0)\n",
    "res = np.zeros(2)\n",
    "lower_convex_hull(points, np.array([0.3, 0.7]), res)"
   ]
  },
  {
   "cell_type": "code",
   "execution_count": 78,
   "metadata": {
    "collapsed": true
   },
   "outputs": [],
   "source": [
    "points2 = np.linspace(1e-12, 0.99, 100)\n",
    "comptwo = 1 - points2\n",
    "energies = 8.3145 * 1000 * (points2*np.log(points2) + comptwo*np.log(comptwo))\n",
    "points2 = np.array([points2, comptwo, energies]).T\n",
    "num_components = 2\n",
    "# Add some fictitious points above the hyperplane\n",
    "max_points = np.zeros((num_components, num_components+1))\n",
    "max_points[:num_components, :num_components] = np.eye(num_components)\n",
    "max_points[:, -1] = np.log(np.exp(points2[:, num_components].max())+100)\n",
    "points2 = np.concatenate((max_points, points2), axis=0)"
   ]
  },
  {
   "cell_type": "code",
   "execution_count": 79,
   "metadata": {
    "collapsed": false
   },
   "outputs": [
    {
     "data": {
      "text/plain": [
       "[<matplotlib.lines.Line2D at 0x7f90f789bd68>]"
      ]
     },
     "execution_count": 79,
     "metadata": {},
     "output_type": "execute_result"
    },
    {
     "data": {
      "image/png": "[encoded data removed]",
      "text/plain": [
       "<matplotlib.figure.Figure at 0x7f90f7def6d8>"
      ]
     },
     "metadata": {},
     "output_type": "display_data"
    }
   ],
   "source": [
    "%matplotlib inline\n",
    "import matplotlib.pyplot as plt\n",
    "\n",
    "plt.scatter(points[:, 1], points[:, 2])\n",
    "plt.plot([0, 1], res)"
   ]
  },
  {
   "cell_type": "code",
   "execution_count": 80,
   "metadata": {
    "collapsed": false
   },
   "outputs": [],
   "source": [
    "import numba\n",
    "nbhyper = numba.guvectorize(['float64[:,:], float64[:], float64[:]'], '(k,l),(m)->(m)')(lower_convex_hull)"
   ]
  },
  {
   "cell_type": "code",
   "execution_count": 81,
   "metadata": {
    "collapsed": false
   },
   "outputs": [
    {
     "name": "stdout",
     "output_type": "stream",
     "text": [
      "CPU times: user 5 ms, sys: 1 ms, total: 6 ms\n",
      "Wall time: 5.93 ms\n"
     ]
    },
    {
     "data": {
      "text/plain": [
       "array([[-20299.81291143,  -5811.59800777],\n",
       "       [ -3024.5941915 ,  -9872.71768462],\n",
       "       [ -5846.32277664,  -5680.02168889]])"
      ]
     },
     "execution_count": 81,
     "metadata": {},
     "output_type": "execute_result"
    }
   ],
   "source": [
    "%time nbhyper(np.stack([points, points2, points2]), np.array([[0.3, 0.7], [0.7, 0.3], [0.5, 0.5]]))"
   ]
  },
  {
   "cell_type": "code",
   "execution_count": null,
   "metadata": {
    "collapsed": true
   },
   "outputs": [],
   "source": []
  }
 ],
 "metadata": {
  "kernelspec": {
   "display_name": "Python 3",
   "language": "python",
   "name": "python3"
  },
  "language_info": {
   "codemirror_mode": {
    "name": "ipython",
    "version": 3
   },
   "file_extension": ".py",
   "mimetype": "text/x-python",
   "name": "python",
   "nbconvert_exporter": "python",
   "pygments_lexer": "ipython3",
   "version": "3.5.1"
  }
 },
 "nbformat": 4,
 "nbformat_minor": 0
}
