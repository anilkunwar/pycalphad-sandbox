{
 "cells": [
  {
   "cell_type": "code",
   "execution_count": 2,
   "metadata": {
    "collapsed": false
   },
   "outputs": [
    {
     "name": "stderr",
     "output_type": "stream",
     "text": [
      "/home/rotis/anaconda/envs/calphadpy3/lib/python3.5/site-packages/Cython/Distutils/old_build_ext.py:30: UserWarning: Cython.Distutils.old_build_ext does not properly handle dependencies and is deprecated.\n",
      "  \"Cython.Distutils.old_build_ext does not properly handle dependencies \"\n"
     ]
    }
   ],
   "source": [
    "%load_ext Cython"
   ]
  },
  {
   "cell_type": "code",
   "execution_count": 68,
   "metadata": {
    "collapsed": false
   },
   "outputs": [
    {
     "name": "stdout",
     "output_type": "stream",
     "text": [
      "[  0.00000000e+00  -3.55256010e+00  -1.15287101e+04   0.00000000e+00\n",
      "   0.00000000e+00]\n"
     ]
    }
   ],
   "source": [
    "%%cython\n",
    "from pycalphad.core.rksum import RedlichKisterSum\n",
    "from pycalphad import Database\n",
    "cimport numpy as np\n",
    "import numpy as np\n",
    "from tinydb import where\n",
    "from sympy import Symbol\n",
    "\n",
    "cdef np.ndarray[ndim=1, dtype=np.float64_t] _eval_rk_matrix_gradient(double[:,:] coef_mat, double[:,:] symbol_mat,\n",
    "                                   double[:] eval_row, double[:] parameters):\n",
    "    cdef np.ndarray[ndim=1, dtype=np.float64_t] out = np.zeros(eval_row.shape[0]-2)\n",
    "    cdef double result = 0\n",
    "    cdef double prod_result\n",
    "    cdef int row_idx1 = 0\n",
    "    cdef int row_idx2 = 0\n",
    "    cdef int col_idx = 0\n",
    "    cdef int dof_idx\n",
    "    # eval_row order: P,T,ln(P),ln(T),y...\n",
    "    # dof order: P,T,y...\n",
    "    # coef_mat order: low_temp,high_temp,P,T,ln(P),ln(T),y...,constant_term,parameter_value\n",
    "    for dof_idx in range(eval_row.shape[0]-2):\n",
    "        if coef_mat.shape[1] > 0:\n",
    "            for row_idx1 in range(coef_mat.shape[0]):\n",
    "                if (eval_row[1] >= coef_mat[row_idx1, 0]) and (eval_row[1] < coef_mat[row_idx1, 1]):\n",
    "                    if dof_idx < 2:\n",
    "                        # special handling for state variables since they also can have a ln term\n",
    "                        if coef_mat[row_idx1, 2+dof_idx] != 0:\n",
    "                            prod_result = coef_mat[row_idx1, coef_mat.shape[1]-2] * coef_mat[row_idx1, coef_mat.shape[1]-1]\n",
    "                            for col_idx in range(coef_mat.shape[1]-4):\n",
    "                                if col_idx == dof_idx:\n",
    "                                    prod_result *= (eval_row[col_idx]**(coef_mat[row_idx1, 2+col_idx]-1) * eval_row[2+col_idx]**(coef_mat[row_idx1, 4+col_idx]-1) * (coef_mat[row_idx1, 4+col_idx]+coef_mat[row_idx1, 2+col_idx]*(eval_row[2+col_idx])))\n",
    "                                else:\n",
    "                                    prod_result *= (eval_row[col_idx] ** coef_mat[row_idx1, 2+col_idx])\n",
    "                            out[dof_idx] += prod_result\n",
    "                    else:\n",
    "                        if coef_mat[row_idx1, 4+dof_idx] != 0:\n",
    "                            prod_result = coef_mat[row_idx1, coef_mat.shape[1]-2] * coef_mat[row_idx1, coef_mat.shape[1]-1]\n",
    "                            for col_idx in range(coef_mat.shape[1]-4):\n",
    "                                if col_idx == 2+dof_idx:\n",
    "                                    prod_result *= (coef_mat[row_idx1, 4+dof_idx] * eval_row[col_idx] ** (coef_mat[row_idx1, 2+col_idx] - 1))\n",
    "                                else:\n",
    "                                    prod_result *= (eval_row[col_idx] ** coef_mat[row_idx1, 2+col_idx])\n",
    "                            out[dof_idx] += prod_result\n",
    "        if symbol_mat.shape[1] > 0:\n",
    "            for row_idx2 in range(symbol_mat.shape[0]):\n",
    "                if (eval_row[1] >= symbol_mat[row_idx2, 0]) and (eval_row[1] < symbol_mat[row_idx2, 1]):\n",
    "                    if dof_idx < 2:\n",
    "                        # special handling for state variables since they also can have a ln term\n",
    "                        if coef_mat[row_idx2, 2+dof_idx] != 0:\n",
    "                            prod_result = coef_mat[row_idx2, coef_mat.shape[1]-2] * parameters[<int>symbol_mat[row_idx2, symbol_mat.shape[1]-1]]\n",
    "                            for col_idx in range(coef_mat.shape[1]-4):\n",
    "                                if col_idx == dof_idx:\n",
    "                                    prod_result *= (eval_row[col_idx]**(coef_mat[row_idx1, 2+col_idx]-1) * eval_row[2+col_idx]**(coef_mat[row_idx1, 4+col_idx]-1) * (coef_mat[row_idx1, 4+col_idx]+coef_mat[row_idx1, 2+col_idx]*(eval_row[2+col_idx])))\n",
    "                                else:\n",
    "                                    prod_result *= (eval_row[col_idx] ** coef_mat[row_idx1, 2+col_idx])\n",
    "                            out[dof_idx] += prod_result\n",
    "                    else:\n",
    "                        if coef_mat[row_idx1, 4+dof_idx] != 0:\n",
    "                            prod_result = coef_mat[row_idx2, coef_mat.shape[1]-2] * parameters[<int>symbol_mat[row_idx2, symbol_mat.shape[1]-1]]\n",
    "                            for col_idx in range(coef_mat.shape[1]-4):\n",
    "                                if col_idx == 2+dof_idx:\n",
    "                                    prod_result *= (coef_mat[row_idx2, 4+dof_idx] * eval_row[col_idx] ** (coef_mat[row_idx2, 2+col_idx] - 1))\n",
    "                                else:\n",
    "                                    prod_result *= (eval_row[col_idx] ** coef_mat[row_idx2, 2+col_idx])\n",
    "                            out[dof_idx] += prod_result\n",
    "    return out\n",
    "\n",
    "dbf = Database('alcocr-sandbox.tdb')\n",
    "param_query = (\n",
    "    (where('phase_name') == 'LIQUID') & \\\n",
    "    (where('parameter_type') == \"G\")\n",
    ")\n",
    "parameters = {}\n",
    "all_symbols = dbf.symbols.copy()\n",
    "# Convert string symbol names to sympy Symbol objects\n",
    "# This makes xreplace work with the symbols dict\n",
    "all_symbols = dict([(Symbol(s), val) for s, val in all_symbols.items()])\n",
    "for param in parameters.keys():\n",
    "    all_symbols.pop(param, None)\n",
    "rks = RedlichKisterSum(['AL','CO','CR','VA'], dbf.phases['LIQUID'], dbf.search, param_query, list(parameters.keys()), all_symbols)\n",
    "exx = _eval_rk_matrix_gradient(rks.output_matrix[2:4,:], np.array([[]]),\n",
    "                        np.array([1013235, 300, np.log(101325), np.log(300), 0.3, 0.3, 0.4]), np.array([]))\n",
    "print(exx)"
   ]
  },
  {
   "cell_type": "code",
   "execution_count": 69,
   "metadata": {
    "collapsed": false
   },
   "outputs": [
    {
     "data": {
      "text/plain": [
       "array([[  2.98150000e+02,   9.33600000e+02,   0.00000000e+00,\n",
       "          1.00000000e+00,   0.00000000e+00,   0.00000000e+00,\n",
       "          1.00000000e+00,   0.00000000e+00,   0.00000000e+00,\n",
       "          1.00000000e+00,  -1.18418670e+01],\n",
       "       [  2.98150000e+02,   7.00000000e+02,   0.00000000e+00,\n",
       "          0.00000000e+00,   0.00000000e+00,   0.00000000e+00,\n",
       "          1.00000000e+00,   0.00000000e+00,   0.00000000e+00,\n",
       "          1.00000000e+00,  -7.97615000e+03]])"
      ]
     },
     "execution_count": 69,
     "metadata": {},
     "output_type": "execute_result"
    }
   ],
   "source": [
    "rks.output_matrix[2:4,:]"
   ]
  },
  {
   "cell_type": "code",
   "execution_count": 70,
   "metadata": {
    "collapsed": false
   },
   "outputs": [
    {
     "data": {
      "text/plain": [
       "-11528.7101"
      ]
     },
     "execution_count": 70,
     "metadata": {},
     "output_type": "execute_result"
    }
   ],
   "source": [
    "-1.18418670e01 * 300 + -7.97615000e03"
   ]
  },
  {
   "cell_type": "code",
   "execution_count": null,
   "metadata": {
    "collapsed": true
   },
   "outputs": [],
   "source": []
  }
 ],
 "metadata": {
  "kernelspec": {
   "display_name": "Python 3",
   "language": "python",
   "name": "python3"
  },
  "language_info": {
   "codemirror_mode": {
    "name": "ipython",
    "version": 3
   },
   "file_extension": ".py",
   "mimetype": "text/x-python",
   "name": "python",
   "nbconvert_exporter": "python",
   "pygments_lexer": "ipython3",
   "version": "3.5.2"
  }
 },
 "nbformat": 4,
 "nbformat_minor": 0
}
