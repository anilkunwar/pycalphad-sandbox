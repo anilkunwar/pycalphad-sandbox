{
 "cells": [
  {
   "cell_type": "code",
   "execution_count": 1,
   "metadata": {
    "collapsed": false,
    "scrolled": false
   },
   "outputs": [
    {
     "name": "stdout",
     "output_type": "stream",
     "text": [
      "Calculation Backend: Compiled (ufuncify)\n",
      "Components: AL FE\n",
      "Phases: LIQUID [done]\n",
      "Computing initial grid [204 points, 27.8KB]\n",
      "Computing convex hull [iteration 1]\n",
      "progress 262390.178337 [0 conditions updated]\n",
      "Global search complete\n",
      "Refining equilibrium\n",
      "{'P': array([0]), 'X_AL': array([0, 1, 2, 3, 4]), 'T': array([0, 1])} [[[ -79222.7448164   -86061.43330619  -90886.85876494  -92697.19178195\n",
      "    -88845.8932317 ]\n",
      "  [-192453.32547153 -198406.11693955 -202046.38918927 -199300.69249888\n",
      "   -194678.13710397]]]\n",
      "<xarray.DataArray 'GM' (P: 1, T: 2, X_AL: 5)>\n",
      "array([[[ -79222.7448164 ,  -86061.43330619,  -90886.85876494,\n",
      "          -92697.19178195,  -88845.8932317 ],\n",
      "        [-192453.32547153, -198406.11693955, -202046.38918927,\n",
      "         -199300.69249888, -194678.13710397]]])\n",
      "Coordinates:\n",
      "  * P        (P) float64 1.013e+05\n",
      "  * T        (T) float64 1.4e+03 2.5e+03\n",
      "  * X_AL     (X_AL) float64 0.1 0.2 0.3 0.7 0.8\n"
     ]
    }
   ],
   "source": [
    "from pycalphad import calculate, equilibrium, Database\n",
    "import pycalphad.variables as v\n",
    "from numpy.testing import assert_allclose\n",
    "from pycalphad.tests.datasets import ALFE_TDB\n",
    "ALFE_DBF = Database(ALFE_TDB)\n",
    "res = calculate(ALFE_DBF, ['AL', 'FE'], 'LIQUID', T=[1400, 2500], P=101325,\n",
    "                points={'LIQUID': [[0.1, 0.9], [0.2, 0.8], [0.3, 0.7],\n",
    "                                   [0.7, 0.3], [0.8, 0.2]]})\n",
    "eq = equilibrium(ALFE_DBF, ['AL', 'FE'], 'LIQUID',\n",
    "                 {v.T: [1400, 2500], v.P: 101325,\n",
    "                  v.X('AL'): [0.1, 0.2, 0.3, 0.7, 0.8]}, verbose=True, pbar=False, nprocs=2)\n",
    "assert_allclose(eq.GM, res.GM, atol=0.1)"
   ]
  },
  {
   "cell_type": "code",
   "execution_count": null,
   "metadata": {
    "collapsed": true
   },
   "outputs": [],
   "source": []
  }
 ],
 "metadata": {
  "kernelspec": {
   "display_name": "Python 3",
   "language": "python",
   "name": "python3"
  },
  "language_info": {
   "codemirror_mode": {
    "name": "ipython",
    "version": 3
   },
   "file_extension": ".py",
   "mimetype": "text/x-python",
   "name": "python",
   "nbconvert_exporter": "python",
   "pygments_lexer": "ipython3",
   "version": "3.5.1"
  }
 },
 "nbformat": 4,
 "nbformat_minor": 0
}
