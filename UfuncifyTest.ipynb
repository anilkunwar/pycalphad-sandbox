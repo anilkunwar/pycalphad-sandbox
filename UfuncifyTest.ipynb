{
 "cells": [
  {
   "cell_type": "code",
   "execution_count": 2,
   "metadata": {
    "collapsed": false
   },
   "outputs": [],
   "source": [
    "from pycalphad import Model, Database\n",
    "from pycalphad.core.autograd_utils import build_functions as bf_interpreted\n",
    "from pycalphad.core.custom_ufuncify import ufuncify\n",
    "from pycalphad.core.sympydiff_utils import build_functions as bf_compiled\n",
    "import pycalphad.variables as v\n",
    "from sympy.printing.ccode import CCodePrinter\n",
    "import numpy as np\n",
    "\n",
    "dbf = Database('2016-04-09-AlNi.tdb')\n",
    "mod = Model(dbf, ['AL', 'NI', 'VA'], 'FCC_L12')"
   ]
  },
  {
   "cell_type": "code",
   "execution_count": 3,
   "metadata": {
    "collapsed": false,
    "scrolled": false
   },
   "outputs": [],
   "source": [
    "%lprun -f CCodePrinter._print_Piecewise obj, grad, hess = bf_compiled(mod.ast, tuple([v.T] + mod.site_fractions))\n",
    "temps = np.linspace(300., 2000., 1000)"
   ]
  },
  {
   "cell_type": "code",
   "execution_count": 3,
   "metadata": {
    "collapsed": false
   },
   "outputs": [
    {
     "name": "stdout",
     "output_type": "stream",
     "text": [
      "CPU times: user 0 ns, sys: 0 ns, total: 0 ns\n",
      "Wall time: 220 µs\n"
     ]
    }
   ],
   "source": [
    "%time res1 = hess(300, 0.4, 0.6, 0.4, 0.6, 0.4, 0.6, 0.4, 0.6, 1)"
   ]
  },
  {
   "cell_type": "code",
   "execution_count": 4,
   "metadata": {
    "collapsed": false
   },
   "outputs": [
    {
     "name": "stdout",
     "output_type": "stream",
     "text": [
      "CPU times: user 303 ms, sys: 2 ms, total: 305 ms\n",
      "Wall time: 305 ms\n"
     ]
    }
   ],
   "source": [
    "%time ag_obj, ag_grad, ag_hess = bf_interpreted(mod.ast, [v.T] + mod.site_fractions)"
   ]
  },
  {
   "cell_type": "code",
   "execution_count": 5,
   "metadata": {
    "collapsed": false
   },
   "outputs": [
    {
     "name": "stdout",
     "output_type": "stream",
     "text": [
      "CPU times: user 554 ms, sys: 1 ms, total: 555 ms\n",
      "Wall time: 554 ms\n"
     ]
    }
   ],
   "source": [
    "%time res2 = ag_hess(300, 0.4, 0.6, 0.4, 0.6, 0.4, 0.6, 0.4, 0.6, 1)"
   ]
  },
  {
   "cell_type": "code",
   "execution_count": 6,
   "metadata": {
    "collapsed": false
   },
   "outputs": [],
   "source": [
    "np.testing.assert_allclose(np.squeeze(res1), np.squeeze(res2))"
   ]
  },
  {
   "cell_type": "code",
   "execution_count": null,
   "metadata": {
    "collapsed": true
   },
   "outputs": [],
   "source": []
  }
 ],
 "metadata": {
  "kernelspec": {
   "display_name": "Python 3",
   "language": "python",
   "name": "python3"
  },
  "language_info": {
   "codemirror_mode": {
    "name": "ipython",
    "version": 3
   },
   "file_extension": ".py",
   "mimetype": "text/x-python",
   "name": "python",
   "nbconvert_exporter": "python",
   "pygments_lexer": "ipython3",
   "version": "3.5.2"
  }
 },
 "nbformat": 4,
 "nbformat_minor": 0
}
