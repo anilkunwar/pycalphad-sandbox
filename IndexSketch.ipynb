{
 "cells": [
  {
   "cell_type": "code",
   "execution_count": 107,
   "metadata": {
    "collapsed": false
   },
   "outputs": [],
   "source": [
    "import numpy as np\n",
    "P = 9; T = 8; X = 7; Z = 17; D = 5\n",
    "data = np.arange(P*T*Z*D).reshape(P,T,Z,D)\n",
    "ind = np.random.randint(0, Z, size=(P,T,X))"
   ]
  },
  {
   "cell_type": "code",
   "execution_count": 108,
   "metadata": {
    "collapsed": false
   },
   "outputs": [
    {
     "name": "stdout",
     "output_type": "stream",
     "text": [
      "[[ 35  36  37  38  39]\n",
      " [ 40  41  42  43  44]\n",
      " [100 101 102 103 104]\n",
      " [ 80  81  82  83  84]\n",
      " [ 65  66  67  68  69]\n",
      " [110 111 112 113 114]\n",
      " [ 80  81  82  83  84]]\n"
     ]
    }
   ],
   "source": [
    "result = data.reshape(-1, D)[ind.reshape(-1, X)+np.arange(P*T)[..., None], :].reshape(P,T,X,D)\n",
    "print(result[0, 7])"
   ]
  },
  {
   "cell_type": "code",
   "execution_count": 114,
   "metadata": {
    "collapsed": false
   },
   "outputs": [
    {
     "data": {
      "text/plain": [
       "array([[4685, 4686, 4687, 4688, 4689],\n",
       "       [4715, 4716, 4717, 4718, 4719],\n",
       "       [4710, 4711, 4712, 4713, 4714],\n",
       "       [4755, 4756, 4757, 4758, 4759],\n",
       "       [4690, 4691, 4692, 4693, 4694],\n",
       "       [4695, 4696, 4697, 4698, 4699],\n",
       "       [4740, 4741, 4742, 4743, 4744]])"
      ]
     },
     "execution_count": 114,
     "metadata": {},
     "output_type": "execute_result"
    }
   ],
   "source": [
    "data[6, 7][ind[6, 7]]"
   ]
  },
  {
   "cell_type": "code",
   "execution_count": 111,
   "metadata": {
    "collapsed": false
   },
   "outputs": [],
   "source": [
    "result = data[np.arange(P, dtype=int)[:, None, None, None], np.arange(T, dtype=int)[None, :, None, None], ind[..., None], np.arange(D, dtype=int)[None, None, None, :]]"
   ]
  },
  {
   "cell_type": "code",
   "execution_count": 113,
   "metadata": {
    "collapsed": false
   },
   "outputs": [
    {
     "name": "stdout",
     "output_type": "stream",
     "text": [
      "[[4685 4686 4687 4688 4689]\n",
      " [4715 4716 4717 4718 4719]\n",
      " [4710 4711 4712 4713 4714]\n",
      " [4755 4756 4757 4758 4759]\n",
      " [4690 4691 4692 4693 4694]\n",
      " [4695 4696 4697 4698 4699]\n",
      " [4740 4741 4742 4743 4744]]\n"
     ]
    }
   ],
   "source": [
    "print(result[6, 7])"
   ]
  },
  {
   "cell_type": "code",
   "execution_count": null,
   "metadata": {
    "collapsed": true
   },
   "outputs": [],
   "source": []
  }
 ],
 "metadata": {
  "kernelspec": {
   "display_name": "Python 3",
   "language": "python",
   "name": "python3"
  },
  "language_info": {
   "codemirror_mode": {
    "name": "ipython",
    "version": 3
   },
   "file_extension": ".py",
   "mimetype": "text/x-python",
   "name": "python",
   "nbconvert_exporter": "python",
   "pygments_lexer": "ipython3",
   "version": "3.5.1"
  }
 },
 "nbformat": 4,
 "nbformat_minor": 0
}
